{
 "cells": [
  {
   "cell_type": "markdown",
   "metadata": {
    "id": "nyHxIfkMZ5hY"
   },
   "source": [
    "Chapter 1 พื้นฐานการเขียนโปรเเกรมภาษาไพธอน"
   ]
  },
  {
   "cell_type": "code",
   "execution_count": 1,
   "metadata": {
    "colab": {
     "base_uri": "https://localhost:8080/"
    },
    "executionInfo": {
     "elapsed": 7,
     "status": "ok",
     "timestamp": 1626838394735,
     "user": {
      "displayName": "Kanabadee Srisomboon",
      "photoUrl": "",
      "userId": "05820637008444812644"
     },
     "user_tz": -420
    },
    "id": "0UM__I-TZoGs",
    "outputId": "fb3a7b0c-7834-4b4f-9367-b67bcc28111e"
   },
   "outputs": [
    {
     "name": "stdout",
     "output_type": "stream",
     "text": [
      "Hello Colab eiei\n"
     ]
    }
   ],
   "source": [
    "print (\"Hello Colab eiei\")"
   ]
  },
  {
   "cell_type": "markdown",
   "metadata": {
    "id": "5MsT5iktipzd"
   },
   "source": [
    "ทดสอบการรับข้อมูลจากผู้ใช้"
   ]
  },
  {
   "cell_type": "code",
   "execution_count": 1,
   "metadata": {
    "colab": {
     "base_uri": "https://localhost:8080/"
    },
    "executionInfo": {
     "elapsed": 16206,
     "status": "ok",
     "timestamp": 1626838426034,
     "user": {
      "displayName": "Kanabadee Srisomboon",
      "photoUrl": "",
      "userId": "05820637008444812644"
     },
     "user_tz": -420
    },
    "id": "fnCLida3iCQi",
    "outputId": "cb2170b5-5d7b-465e-dae5-df2e33108499"
   },
   "outputs": [
    {
     "name": "stdin",
     "output_type": "stream",
     "text": [
      "กรุณาพิมพ์ชื่อ :  toey\n"
     ]
    },
    {
     "name": "stdout",
     "output_type": "stream",
     "text": [
      "สวัสดี :  toey\n"
     ]
    }
   ],
   "source": [
    "name = input(\"กรุณาพิมพ์ชื่อ : \")\n",
    "print('สวัสดี : ',name)"
   ]
  },
  {
   "cell_type": "markdown",
   "metadata": {
    "id": "o5fb37O8rGY8"
   },
   "source": [
    "ตัวอย่างประเภทข้อมูลพื้นฐาน"
   ]
  },
  {
   "cell_type": "code",
   "execution_count": 2,
   "metadata": {
    "colab": {
     "base_uri": "https://localhost:8080/"
    },
    "executionInfo": {
     "elapsed": 344,
     "status": "ok",
     "timestamp": 1626838560710,
     "user": {
      "displayName": "Kanabadee Srisomboon",
      "photoUrl": "",
      "userId": "05820637008444812644"
     },
     "user_tz": -420
    },
    "id": "GQFCrqG3rNNi",
    "outputId": "fe0f4afb-5ae3-4883-c7d1-270a2d2e2a87"
   },
   "outputs": [
    {
     "name": "stdout",
     "output_type": "stream",
     "text": [
      "ข้อมูลประเภทสตริง :  Colab\n",
      "ประเภทข้อมูล คือ  <class 'str'>\n",
      "ข้อมูลตัวเลขประเภทจำนวนเต็ม :  7\n",
      "ประเภทข้อมูล คือ  <class 'int'>\n",
      "ข้อมูลตัวเลขประเภทจำนวนจริง :  4.63\n",
      "ประเภทข้อมูล คือ  <class 'float'>\n",
      "ข้อมูลประเภทตรรกะ True :  True\n",
      "ประเภทข้อมูล คือ  <class 'bool'>\n",
      "ข้อมูลตัวเลขประเภทตรรกะ Fase :  False\n",
      "ประเภทข้อมูล คือ  <class 'bool'>\n",
      "ข้อมูลตัวเลขประเภทจำนวนเชิงซ้อน :  (8+4j)\n",
      "ประเภทข้อมูล คือ  <class 'complex'>\n"
     ]
    }
   ],
   "source": [
    "name = \"Colab\" # ข้อมูลประเภทสตริง\n",
    "Int_val = 7 # ข้อมูลตัวเลขประเภทจำนวนเต็ม\n",
    "float_val = 4.63 # ข้อมูลตัวเลขประเภทจำนวนเต็ม\n",
    "True_val = True # ข้อมูลตรรกะ True \n",
    "False_val = False  # ข้อมูลตรรกะ Fase \n",
    "Complex_val = 8+4j # ข้อมูลจำนวนเชิงซ้อน\n",
    "\n",
    "print('ข้อมูลประเภทสตริง : ',name)\n",
    "print('ประเภทข้อมูล คือ ',type(name))\n",
    "print('ข้อมูลตัวเลขประเภทจำนวนเต็ม : ',Int_val)\n",
    "print('ประเภทข้อมูล คือ ',type(Int_val))\n",
    "print('ข้อมูลตัวเลขประเภทจำนวนจริง : ',float_val)\n",
    "print('ประเภทข้อมูล คือ ',type(float_val))\n",
    "print('ข้อมูลประเภทตรรกะ True : ',True_val)\n",
    "print('ประเภทข้อมูล คือ ',type(True_val))\n",
    "print('ข้อมูลตัวเลขประเภทตรรกะ Fase : ',False_val)\n",
    "print('ประเภทข้อมูล คือ ',type(False_val))\n",
    "print('ข้อมูลตัวเลขประเภทจำนวนเชิงซ้อน : ',Complex_val)\n",
    "print('ประเภทข้อมูล คือ ',type(Complex_val))"
   ]
  },
  {
   "cell_type": "markdown",
   "metadata": {
    "id": "9aq8g0WUvaKe"
   },
   "source": [
    "ตัวอย่างการคำนวณพื้นฐาน"
   ]
  },
  {
   "cell_type": "code",
   "execution_count": 3,
   "metadata": {
    "colab": {
     "base_uri": "https://localhost:8080/"
    },
    "executionInfo": {
     "elapsed": 335,
     "status": "ok",
     "timestamp": 1626838629256,
     "user": {
      "displayName": "Kanabadee Srisomboon",
      "photoUrl": "",
      "userId": "05820637008444812644"
     },
     "user_tz": -420
    },
    "id": "bUSXmYUYva0e",
    "outputId": "5fcaf848-25e6-4f67-ce77-f1a911b5bde6"
   },
   "outputs": [
    {
     "name": "stdout",
     "output_type": "stream",
     "text": [
      "การบวก = 20\n",
      "การลบ = 14\n",
      "การคูณ = 51\n",
      "การหาร = 5.666666666666667\n",
      "การยกกำลัง = 4913\n",
      "การหารปัดเศษ = 5\n",
      "การหาเศษที่จากการหาร = 2\n"
     ]
    }
   ],
   "source": [
    "a = 17\n",
    "b = 3\n",
    "\n",
    "print(\"การบวก =\", a+b) # ผลลัพธที่ต้งอการ คือ 20\n",
    "print(\"การลบ =\", a-b) # ผลลัพธที่ต้งอการ คือ 14\n",
    "print(\"การคูณ =\", a*b) # ผลลัพธที่ต้งอการ คือ 51\n",
    "print(\"การหาร =\", a/b) # ผลลัพธที่ต้งอการ คือ 5.666666666666667\n",
    "print(\"การยกกำลัง =\", a**b) # ผลลัพธที่ต้งอการ คือ 4913\n",
    "print(\"การหารปัดเศษ =\", a//b) # ผลลัพธที่ต้งอการ คือ 5\n",
    "print(\"การหาเศษที่จากการหาร =\", a%b) # ผลลัพธที่ต้งอการ คือ 2"
   ]
  },
  {
   "cell_type": "markdown",
   "metadata": {
    "id": "RTArbjJPDeFW"
   },
   "source": [
    "ตัวแปรประเภทลิสต์"
   ]
  },
  {
   "cell_type": "code",
   "execution_count": 5,
   "metadata": {
    "colab": {
     "base_uri": "https://localhost:8080/"
    },
    "executionInfo": {
     "elapsed": 495,
     "status": "ok",
     "timestamp": 1626838735859,
     "user": {
      "displayName": "Kanabadee Srisomboon",
      "photoUrl": "",
      "userId": "05820637008444812644"
     },
     "user_tz": -420
    },
    "id": "naVfyUYZDgdw",
    "outputId": "8bb3e5d5-1491-4ac9-e7d1-4e4bec730e7f"
   },
   "outputs": [
    {
     "name": "stdout",
     "output_type": "stream",
     "text": [
      "List :  ['a', 'b', 'c', 'd', 'e', 'f', 'g', 'h', 'i', 'j']\n",
      "ประเภทข้อมูล คือ  <class 'list'>\n",
      "ความยาวของลิสต์ คือ  10\n",
      "การอ้างอิงดัชนี้เเบบไปข้างหน้า  d\n",
      "ความยาวของลิสต์ คือ  h\n",
      "List :  ['a', 'b', 'c', 7, 'e', 'f', 'g', 'h', 'i', 'j']\n",
      "List :  ['a', 'b', 'c', 7, 'e', 'f', 'g', 'h', 'i', 'j', 'z']\n",
      "List :  ['a', 'b', 'c', 7, 'e', 'f', 'g', 'h', 'i', 'j', 'z', 3, 4, 5]\n"
     ]
    }
   ],
   "source": [
    "x = [ \"a\", \"b\", \"c\", \"d\", \"e\", \"f\", \"g\", 'h', 'i','j']\n",
    "print(\"List : \", x)\n",
    "print('ประเภทข้อมูล คือ ',type(x))\n",
    "print(\"ความยาวของลิสต์ คือ \", len(x)) # เเสดงความยาวของลิสต์\n",
    "print(\"การอ้างอิงดัชนี้เเบบไปข้างหน้า \", x[3]) # ผลลัพธ์ที่ต้องการคือ d\n",
    "print(\"ความยาวของลิสต์ คือ \",  x[-3]) # ผลลัพธ์ที่ต้องการคือ h\n",
    "\n",
    "# การเปลี่ยนค่าภายในลิสต์\n",
    "x[3] = 7\n",
    "print(\"List : \", x) # ผลลัพธ์ที่ต้องการคือ [ \"a\", \"b\", \"c\", 7, \"e\", \"f\", \"g\", 'h', 'i','j']\n",
    "\n",
    "# การเพิ่มค่าภายในลิสต์\n",
    "x.append(\"z\")\n",
    "print(\"List : \", x) # ผลลัพธ์ที่ต้องการคือ [ \"a\", \"b\", \"c\", 7, \"e\", \"f\", \"g\", 'h', 'i','j',\"z\"]\n",
    "x.extend([3, 4, 5])\n",
    "print(\"List : \", x) # ผลลัพธ์ที่ต้องการคือ [ \"a\", \"b\", \"c\", 7, \"e\", \"f\", \"g\", 'h', 'i','j',\"z\",3, 4, 5]"
   ]
  },
  {
   "cell_type": "code",
   "execution_count": 10,
   "metadata": {
    "colab": {
     "base_uri": "https://localhost:8080/"
    },
    "executionInfo": {
     "elapsed": 331,
     "status": "ok",
     "timestamp": 1626838913552,
     "user": {
      "displayName": "Kanabadee Srisomboon",
      "photoUrl": "",
      "userId": "05820637008444812644"
     },
     "user_tz": -420
    },
    "id": "-KVOW8sT0TKq",
    "outputId": "a2360cab-94ac-4ae3-b45d-bfe2e49d7693"
   },
   "outputs": [
    {
     "name": "stdout",
     "output_type": "stream",
     "text": [
      "[0, 1, 2, 3, 4, 5, 6, 7, 8, 9]\n"
     ]
    }
   ],
   "source": [
    "a = [i for i in range(100) if i < 10]\n",
    "print(a)\n",
    "# a.append(7)\n",
    "# a"
   ]
  },
  {
   "cell_type": "markdown",
   "metadata": {
    "id": "O6lD0M3DFN4H"
   },
   "source": [
    "ตัวแปรประเภททัพเพิล "
   ]
  },
  {
   "cell_type": "code",
   "execution_count": 11,
   "metadata": {
    "colab": {
     "base_uri": "https://localhost:8080/"
    },
    "executionInfo": {
     "elapsed": 516,
     "status": "ok",
     "timestamp": 1626838952277,
     "user": {
      "displayName": "Kanabadee Srisomboon",
      "photoUrl": "",
      "userId": "05820637008444812644"
     },
     "user_tz": -420
    },
    "id": "eBaoVDH6FQqk",
    "outputId": "3f400747-82e0-4958-e877-4152917be988"
   },
   "outputs": [
    {
     "name": "stdout",
     "output_type": "stream",
     "text": [
      "Tuple :  ('a', 'b', 'c', 'd', 'e', 'f', 'g', 'h', 'i', 'j')\n",
      "ประเภทข้อมูล คือ  <class 'tuple'>\n",
      "ความยาวของทัพเพิล คือ  10\n",
      "การอ้างอิงดัชนี้เเบบไปข้างหน้า  d\n",
      "ความยาวของทัพเพิล คือ  h\n"
     ]
    }
   ],
   "source": [
    "y = (\"a\", \"b\", \"c\", \"d\", \"e\", \"f\", \"g\", 'h', 'i','j' )\n",
    "print(\"Tuple : \", y)\n",
    "print('ประเภทข้อมูล คือ ',type(y))\n",
    "print(\"ความยาวของทัพเพิล คือ \", len(y)) # เเสดงความยาวของทัพเพิล\n",
    "print(\"การอ้างอิงดัชนี้เเบบไปข้างหน้า \", y[3]) # ผลลัพธ์ที่ต้องการคือ d\n",
    "print(\"ความยาวของทัพเพิล คือ \",  y[-3]) # ผลลัพธ์ที่ต้องการคือ h"
   ]
  },
  {
   "cell_type": "markdown",
   "metadata": {
    "id": "vJFUBi5QFJOR"
   },
   "source": [
    "ตัวแปรประเภทดิกชันนารี"
   ]
  },
  {
   "cell_type": "code",
   "execution_count": 12,
   "metadata": {
    "colab": {
     "base_uri": "https://localhost:8080/"
    },
    "executionInfo": {
     "elapsed": 328,
     "status": "ok",
     "timestamp": 1626839003028,
     "user": {
      "displayName": "Kanabadee Srisomboon",
      "photoUrl": "",
      "userId": "05820637008444812644"
     },
     "user_tz": -420
    },
    "id": "F6cJdGtOFKnZ",
    "outputId": "0cfee120-e24b-4501-ce68-a479d3e43c2e"
   },
   "outputs": [
    {
     "name": "stdout",
     "output_type": "stream",
     "text": [
      "Dict :  {'Name': 'KS', 'Occupation': 'Lecturer', 'id': 7}\n",
      "ประเภทข้อมูล คือ  <class 'dict'>\n",
      "ความยาวของดิกชันนารี คือ  3\n",
      "การอ้างอิงข้อมูล  Lecturer\n"
     ]
    }
   ],
   "source": [
    "z = {'Name': \"KS\", \"Occupation\": 'Lecturer',\"id\":7}\n",
    "print(\"Dict : \", z)\n",
    "print('ประเภทข้อมูล คือ ',type(z))\n",
    "print(\"ความยาวของดิกชันนารี คือ \", len(z)) # เเสดงความยาวของดิกชันนารี\n",
    "print(\"การอ้างอิงข้อมูล \", z[\"Occupation\"]) # ผลลัพธ์ที่ต้องการคือ Lecturer"
   ]
  },
  {
   "cell_type": "markdown",
   "metadata": {
    "id": "8JLee7M8ILPW"
   },
   "source": [
    "ตัวแปรประเภทเซต"
   ]
  },
  {
   "cell_type": "code",
   "execution_count": 13,
   "metadata": {
    "colab": {
     "base_uri": "https://localhost:8080/"
    },
    "executionInfo": {
     "elapsed": 318,
     "status": "ok",
     "timestamp": 1626839034038,
     "user": {
      "displayName": "Kanabadee Srisomboon",
      "photoUrl": "",
      "userId": "05820637008444812644"
     },
     "user_tz": -420
    },
    "id": "bQbiWgxOIKV_",
    "outputId": "d906f011-6823-4060-c4ba-fa41e368d076"
   },
   "outputs": [
    {
     "name": "stdout",
     "output_type": "stream",
     "text": [
      "Union ของ Set_1 เเละ Set_2 :  {1, 2, 3, 4, 6, 8, 10, 14}\n",
      "Intersection ของ Set_1 เเละ Set_2 :  {4, 6}\n"
     ]
    }
   ],
   "source": [
    "Set_1=set((1,4,3,6,14))\n",
    "Set_2=set((2,4,6,8,10))\n",
    "print(\"Union ของ Set_1 เเละ Set_2 : \",Set_1|Set_2)\n",
    "print(\"Intersection ของ Set_1 เเละ Set_2 : \",Set_1&Set_2)"
   ]
  },
  {
   "cell_type": "markdown",
   "metadata": {
    "id": "19QwCyU3MGTA"
   },
   "source": [
    "การทำงานเเบบตัดสินใจ"
   ]
  },
  {
   "cell_type": "code",
   "execution_count": 16,
   "metadata": {
    "colab": {
     "base_uri": "https://localhost:8080/"
    },
    "executionInfo": {
     "elapsed": 321,
     "status": "ok",
     "timestamp": 1626839101799,
     "user": {
      "displayName": "Kanabadee Srisomboon",
      "photoUrl": "",
      "userId": "05820637008444812644"
     },
     "user_tz": -420
    },
    "id": "UAspncgPwJ9g",
    "outputId": "6bdf7350-c02f-45fd-bd67-b18ddf816ff9"
   },
   "outputs": [
    {
     "name": "stdout",
     "output_type": "stream",
     "text": [
      "น้อยกว่า 10\n"
     ]
    }
   ],
   "source": [
    "x = 1\n",
    "\n",
    "if x < 10:\n",
    "  print(\"น้อยกว่า 10\")\n",
    "elif x > 10 and x < 20:\n",
    "  print(\"น้อยกว่า 20\")\n",
    "elif x > 20 and x < 30:\n",
    "  print(\"น้อยกว่า 30\")\n",
    "else:\n",
    "  print(\"ค่าอื่น ๆ\")"
   ]
  },
  {
   "cell_type": "markdown",
   "metadata": {
    "id": "dhCuQN-gy_22"
   },
   "source": [
    "การทำงานเเบบวนซ้ำด้วยคำสั่ง for"
   ]
  },
  {
   "cell_type": "code",
   "execution_count": 17,
   "metadata": {
    "colab": {
     "base_uri": "https://localhost:8080/"
    },
    "executionInfo": {
     "elapsed": 369,
     "status": "ok",
     "timestamp": 1626839128834,
     "user": {
      "displayName": "Kanabadee Srisomboon",
      "photoUrl": "",
      "userId": "05820637008444812644"
     },
     "user_tz": -420
    },
    "id": "SALR_HFjJb8J",
    "outputId": "35555b61-8d6c-4dc5-ce40-274a450229a5"
   },
   "outputs": [
    {
     "name": "stdout",
     "output_type": "stream",
     "text": [
      "a :  [0, 1, 2, 3, 4]\n"
     ]
    }
   ],
   "source": [
    "x = 10\n",
    "a = []\n",
    "for i in range(x):\n",
    "  if i < 5:\n",
    "    a.append(i)\n",
    "\n",
    "print(\"a : \", a)"
   ]
  },
  {
   "cell_type": "code",
   "execution_count": null,
   "metadata": {
    "id": "UP_OedcERDXP"
   },
   "outputs": [],
   "source": [
    "x = 5\n",
    "b = [i for i in range(x) if i < 5]\n",
    "print(\"b : \", b)"
   ]
  },
  {
   "cell_type": "markdown",
   "metadata": {
    "id": "_GhUMEI2PJdd"
   },
   "source": [
    "การทำงานเเบบวนซ้ำด้วยคำสั่ง while"
   ]
  },
  {
   "cell_type": "code",
   "execution_count": 18,
   "metadata": {
    "colab": {
     "base_uri": "https://localhost:8080/"
    },
    "executionInfo": {
     "elapsed": 321,
     "status": "ok",
     "timestamp": 1626839141220,
     "user": {
      "displayName": "Kanabadee Srisomboon",
      "photoUrl": "",
      "userId": "05820637008444812644"
     },
     "user_tz": -420
    },
    "id": "eX-NIeavPL3R",
    "outputId": "8ec9950b-23a5-4cd4-db47-3433f69243ab"
   },
   "outputs": [
    {
     "name": "stdout",
     "output_type": "stream",
     "text": [
      "n :  1\n",
      "n :  2\n",
      "n :  3\n",
      "n :  4\n",
      "n :  5\n"
     ]
    }
   ],
   "source": [
    "n = 0\n",
    "while n < 5:\n",
    "  n += 1 # บวกค่า n ด้วยค่า 1 หรือ สามารถเขียนโดน n = n + 1\n",
    "  print(\"n : \", n)"
   ]
  },
  {
   "cell_type": "markdown",
   "metadata": {
    "id": "vkBG9uFZV29a"
   },
   "source": [
    "การเขียนฟังก์ชัน"
   ]
  },
  {
   "cell_type": "code",
   "execution_count": 19,
   "metadata": {
    "executionInfo": {
     "elapsed": 355,
     "status": "ok",
     "timestamp": 1626839258048,
     "user": {
      "displayName": "Kanabadee Srisomboon",
      "photoUrl": "",
      "userId": "05820637008444812644"
     },
     "user_tz": -420
    },
    "id": "eX9qfkICV4m9"
   },
   "outputs": [],
   "source": [
    "from math import pi\n",
    "def circular_area_calculate(r): # สร้างฟังก์ชันคำนวณพื้นที่โดยกำหนดอาร์กิวเมนต์เป็นรัศมีของวงลกม\n",
    "  area = pi*(r**2)\n",
    "  return area"
   ]
  },
  {
   "cell_type": "code",
   "execution_count": 20,
   "metadata": {
    "colab": {
     "base_uri": "https://localhost:8080/"
    },
    "executionInfo": {
     "elapsed": 329,
     "status": "ok",
     "timestamp": 1626839272348,
     "user": {
      "displayName": "Kanabadee Srisomboon",
      "photoUrl": "",
      "userId": "05820637008444812644"
     },
     "user_tz": -420
    },
    "id": "8IkvObQoW0v6",
    "outputId": "f46075d9-6ed5-49cf-f1c1-aba9df59754a"
   },
   "outputs": [
    {
     "name": "stdout",
     "output_type": "stream",
     "text": [
      "พื้นที่วงกลม :  28.274333882308138 ตารางเมตร\n"
     ]
    }
   ],
   "source": [
    "r = 3\n",
    "print(\"พื้นที่วงกลม : \", circular_area_calculate(r), 'ตารางเมตร')"
   ]
  }
 ],
 "metadata": {
  "colab": {
   "authorship_tag": "ABX9TyOMbOFHq1m0WzMLPGKttQXn",
   "collapsed_sections": [],
   "name": "Chapter_1_Basic_python.ipynb",
   "provenance": []
  },
  "kernelspec": {
   "display_name": "Python 3 (ipykernel)",
   "language": "python",
   "name": "python3"
  },
  "language_info": {
   "codemirror_mode": {
    "name": "ipython",
    "version": 3
   },
   "file_extension": ".py",
   "mimetype": "text/x-python",
   "name": "python",
   "nbconvert_exporter": "python",
   "pygments_lexer": "ipython3",
   "version": "3.9.12"
  }
 },
 "nbformat": 4,
 "nbformat_minor": 4
}
