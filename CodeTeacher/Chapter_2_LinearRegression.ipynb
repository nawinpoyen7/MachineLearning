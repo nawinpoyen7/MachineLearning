{
  "nbformat": 4,
  "nbformat_minor": 0,
  "metadata": {
    "colab": {
      "name": "Chapter_2_LinearRegression.ipynb",
      "provenance": [],
      "collapsed_sections": []
    },
    "kernelspec": {
      "name": "python3",
      "display_name": "Python 3"
    },
    "language_info": {
      "name": "python"
    }
  },
  "cells": [
    {
      "cell_type": "markdown",
      "metadata": {
        "id": "nyHxIfkMZ5hY"
      },
      "source": [
        "Chapter 2 Simple Linear Regression\n",
        "\n",
        "reference : https://scikit-learn.org/stable/modules/generated/sklearn.linear_model.LinearRegression.html?highlight=linear%20regression#sklearn.linear_model.LinearRegression\n"
      ]
    },
    {
      "cell_type": "markdown",
      "metadata": {
        "id": "F4msuEZEb5rt"
      },
      "source": [
        "เรียกใช้ library สำหรับทำงานประกอบด้วย numpy pandas seaborn เเละ matplotlib"
      ]
    },
    {
      "cell_type": "code",
      "metadata": {
        "id": "0UM__I-TZoGs"
      },
      "source": [
        "import numpy as np\n",
        "import pandas as pd\n",
        "import seaborn as sns \n",
        "import matplotlib.pyplot as plt"
      ],
      "execution_count": null,
      "outputs": []
    },
    {
      "cell_type": "markdown",
      "metadata": {
        "id": "2CQDflxdbjZu"
      },
      "source": [
        "อ่านข้อมูลไฟล์ csv จาก https://raw.githubusercontent.com/Kanabadee-KDS/basic-ml-dataset/main/house_prices.csv\n",
        "\n",
        "และเเสดง 5 ตัวอย่างเเรก เพื่อตรวจสอบข้อมูล"
      ]
    },
    {
      "cell_type": "code",
      "metadata": {
        "colab": {
          "base_uri": "https://localhost:8080/",
          "height": 549
        },
        "id": "9mau6dBkaYsu",
        "outputId": "46124835-e69e-430e-baa3-6cef1eb009c2"
      },
      "source": [
        "url = 'https://raw.githubusercontent.com/Kanabadee-KDS/basic-ml-dataset/main/house_prices.csv'\n",
        "df=pd.read_csv(url, parse_dates=['date'])\n",
        "df.sample(10)"
      ],
      "execution_count": null,
      "outputs": [
        {
          "output_type": "execute_result",
          "data": {
            "text/html": [
              "<div>\n",
              "<style scoped>\n",
              "    .dataframe tbody tr th:only-of-type {\n",
              "        vertical-align: middle;\n",
              "    }\n",
              "\n",
              "    .dataframe tbody tr th {\n",
              "        vertical-align: top;\n",
              "    }\n",
              "\n",
              "    .dataframe thead th {\n",
              "        text-align: right;\n",
              "    }\n",
              "</style>\n",
              "<table border=\"1\" class=\"dataframe\">\n",
              "  <thead>\n",
              "    <tr style=\"text-align: right;\">\n",
              "      <th></th>\n",
              "      <th>id</th>\n",
              "      <th>date</th>\n",
              "      <th>price</th>\n",
              "      <th>bedrooms</th>\n",
              "      <th>bathrooms</th>\n",
              "      <th>sqft_living</th>\n",
              "      <th>sqft_lot</th>\n",
              "      <th>floors</th>\n",
              "      <th>waterfront</th>\n",
              "      <th>view</th>\n",
              "      <th>condition</th>\n",
              "      <th>grade</th>\n",
              "      <th>sqft_above</th>\n",
              "      <th>sqft_basement</th>\n",
              "      <th>yr_built</th>\n",
              "      <th>yr_renovated</th>\n",
              "      <th>zipcode</th>\n",
              "      <th>lat</th>\n",
              "      <th>long</th>\n",
              "      <th>sqft_living15</th>\n",
              "      <th>sqft_lot15</th>\n",
              "    </tr>\n",
              "  </thead>\n",
              "  <tbody>\n",
              "    <tr>\n",
              "      <th>17983</th>\n",
              "      <td>8151600941</td>\n",
              "      <td>2014-08-28</td>\n",
              "      <td>340000.0</td>\n",
              "      <td>3</td>\n",
              "      <td>1.75</td>\n",
              "      <td>1720</td>\n",
              "      <td>10710</td>\n",
              "      <td>1.0</td>\n",
              "      <td>0</td>\n",
              "      <td>0</td>\n",
              "      <td>3</td>\n",
              "      <td>7</td>\n",
              "      <td>860</td>\n",
              "      <td>860</td>\n",
              "      <td>1957</td>\n",
              "      <td>0</td>\n",
              "      <td>98146</td>\n",
              "      <td>47.5092</td>\n",
              "      <td>-122.362</td>\n",
              "      <td>1480</td>\n",
              "      <td>10359</td>\n",
              "    </tr>\n",
              "    <tr>\n",
              "      <th>9505</th>\n",
              "      <td>1310930100</td>\n",
              "      <td>2015-03-18</td>\n",
              "      <td>525000.0</td>\n",
              "      <td>4</td>\n",
              "      <td>1.75</td>\n",
              "      <td>1570</td>\n",
              "      <td>16697</td>\n",
              "      <td>1.0</td>\n",
              "      <td>0</td>\n",
              "      <td>2</td>\n",
              "      <td>3</td>\n",
              "      <td>7</td>\n",
              "      <td>1030</td>\n",
              "      <td>540</td>\n",
              "      <td>1981</td>\n",
              "      <td>0</td>\n",
              "      <td>98052</td>\n",
              "      <td>47.6710</td>\n",
              "      <td>-122.135</td>\n",
              "      <td>1560</td>\n",
              "      <td>9698</td>\n",
              "    </tr>\n",
              "    <tr>\n",
              "      <th>12400</th>\n",
              "      <td>6446200060</td>\n",
              "      <td>2015-04-01</td>\n",
              "      <td>660000.0</td>\n",
              "      <td>3</td>\n",
              "      <td>2.50</td>\n",
              "      <td>2590</td>\n",
              "      <td>35640</td>\n",
              "      <td>1.0</td>\n",
              "      <td>0</td>\n",
              "      <td>0</td>\n",
              "      <td>3</td>\n",
              "      <td>9</td>\n",
              "      <td>2590</td>\n",
              "      <td>0</td>\n",
              "      <td>1987</td>\n",
              "      <td>0</td>\n",
              "      <td>98029</td>\n",
              "      <td>47.5516</td>\n",
              "      <td>-122.030</td>\n",
              "      <td>2590</td>\n",
              "      <td>31200</td>\n",
              "    </tr>\n",
              "    <tr>\n",
              "      <th>6692</th>\n",
              "      <td>4338800170</td>\n",
              "      <td>2014-05-07</td>\n",
              "      <td>246000.0</td>\n",
              "      <td>3</td>\n",
              "      <td>1.00</td>\n",
              "      <td>1400</td>\n",
              "      <td>7410</td>\n",
              "      <td>1.0</td>\n",
              "      <td>0</td>\n",
              "      <td>0</td>\n",
              "      <td>3</td>\n",
              "      <td>6</td>\n",
              "      <td>1400</td>\n",
              "      <td>0</td>\n",
              "      <td>1944</td>\n",
              "      <td>0</td>\n",
              "      <td>98166</td>\n",
              "      <td>47.4798</td>\n",
              "      <td>-122.343</td>\n",
              "      <td>1070</td>\n",
              "      <td>7410</td>\n",
              "    </tr>\n",
              "    <tr>\n",
              "      <th>7296</th>\n",
              "      <td>2780700020</td>\n",
              "      <td>2014-09-10</td>\n",
              "      <td>375000.0</td>\n",
              "      <td>4</td>\n",
              "      <td>2.50</td>\n",
              "      <td>1900</td>\n",
              "      <td>9428</td>\n",
              "      <td>2.0</td>\n",
              "      <td>0</td>\n",
              "      <td>0</td>\n",
              "      <td>3</td>\n",
              "      <td>8</td>\n",
              "      <td>1900</td>\n",
              "      <td>0</td>\n",
              "      <td>1978</td>\n",
              "      <td>0</td>\n",
              "      <td>98028</td>\n",
              "      <td>47.7628</td>\n",
              "      <td>-122.244</td>\n",
              "      <td>1830</td>\n",
              "      <td>10480</td>\n",
              "    </tr>\n",
              "    <tr>\n",
              "      <th>6688</th>\n",
              "      <td>1868901190</td>\n",
              "      <td>2014-08-07</td>\n",
              "      <td>650000.0</td>\n",
              "      <td>4</td>\n",
              "      <td>2.25</td>\n",
              "      <td>2100</td>\n",
              "      <td>2500</td>\n",
              "      <td>3.0</td>\n",
              "      <td>0</td>\n",
              "      <td>0</td>\n",
              "      <td>3</td>\n",
              "      <td>8</td>\n",
              "      <td>2100</td>\n",
              "      <td>0</td>\n",
              "      <td>2001</td>\n",
              "      <td>0</td>\n",
              "      <td>98115</td>\n",
              "      <td>47.6726</td>\n",
              "      <td>-122.298</td>\n",
              "      <td>1660</td>\n",
              "      <td>4000</td>\n",
              "    </tr>\n",
              "    <tr>\n",
              "      <th>5916</th>\n",
              "      <td>6303400290</td>\n",
              "      <td>2015-01-26</td>\n",
              "      <td>170000.0</td>\n",
              "      <td>2</td>\n",
              "      <td>1.00</td>\n",
              "      <td>860</td>\n",
              "      <td>8636</td>\n",
              "      <td>1.0</td>\n",
              "      <td>0</td>\n",
              "      <td>0</td>\n",
              "      <td>3</td>\n",
              "      <td>6</td>\n",
              "      <td>860</td>\n",
              "      <td>0</td>\n",
              "      <td>1924</td>\n",
              "      <td>0</td>\n",
              "      <td>98146</td>\n",
              "      <td>47.5081</td>\n",
              "      <td>-122.356</td>\n",
              "      <td>1100</td>\n",
              "      <td>8636</td>\n",
              "    </tr>\n",
              "    <tr>\n",
              "      <th>21352</th>\n",
              "      <td>7169500130</td>\n",
              "      <td>2014-12-19</td>\n",
              "      <td>495000.0</td>\n",
              "      <td>2</td>\n",
              "      <td>2.25</td>\n",
              "      <td>1460</td>\n",
              "      <td>1623</td>\n",
              "      <td>2.0</td>\n",
              "      <td>0</td>\n",
              "      <td>0</td>\n",
              "      <td>3</td>\n",
              "      <td>8</td>\n",
              "      <td>1260</td>\n",
              "      <td>200</td>\n",
              "      <td>2005</td>\n",
              "      <td>0</td>\n",
              "      <td>98115</td>\n",
              "      <td>47.6764</td>\n",
              "      <td>-122.301</td>\n",
              "      <td>1460</td>\n",
              "      <td>1137</td>\n",
              "    </tr>\n",
              "    <tr>\n",
              "      <th>7651</th>\n",
              "      <td>125059138</td>\n",
              "      <td>2014-07-22</td>\n",
              "      <td>510000.0</td>\n",
              "      <td>6</td>\n",
              "      <td>4.50</td>\n",
              "      <td>3300</td>\n",
              "      <td>7561</td>\n",
              "      <td>2.0</td>\n",
              "      <td>0</td>\n",
              "      <td>0</td>\n",
              "      <td>3</td>\n",
              "      <td>8</td>\n",
              "      <td>3300</td>\n",
              "      <td>0</td>\n",
              "      <td>1980</td>\n",
              "      <td>0</td>\n",
              "      <td>98052</td>\n",
              "      <td>47.6795</td>\n",
              "      <td>-122.104</td>\n",
              "      <td>2470</td>\n",
              "      <td>7561</td>\n",
              "    </tr>\n",
              "    <tr>\n",
              "      <th>7072</th>\n",
              "      <td>2624049073</td>\n",
              "      <td>2014-07-29</td>\n",
              "      <td>360000.0</td>\n",
              "      <td>2</td>\n",
              "      <td>1.00</td>\n",
              "      <td>780</td>\n",
              "      <td>4200</td>\n",
              "      <td>1.0</td>\n",
              "      <td>0</td>\n",
              "      <td>0</td>\n",
              "      <td>3</td>\n",
              "      <td>6</td>\n",
              "      <td>780</td>\n",
              "      <td>0</td>\n",
              "      <td>1920</td>\n",
              "      <td>0</td>\n",
              "      <td>98118</td>\n",
              "      <td>47.5381</td>\n",
              "      <td>-122.267</td>\n",
              "      <td>1620</td>\n",
              "      <td>6000</td>\n",
              "    </tr>\n",
              "  </tbody>\n",
              "</table>\n",
              "</div>"
            ],
            "text/plain": [
              "               id       date     price  ...     long  sqft_living15  sqft_lot15\n",
              "17983  8151600941 2014-08-28  340000.0  ... -122.362           1480       10359\n",
              "9505   1310930100 2015-03-18  525000.0  ... -122.135           1560        9698\n",
              "12400  6446200060 2015-04-01  660000.0  ... -122.030           2590       31200\n",
              "6692   4338800170 2014-05-07  246000.0  ... -122.343           1070        7410\n",
              "7296   2780700020 2014-09-10  375000.0  ... -122.244           1830       10480\n",
              "6688   1868901190 2014-08-07  650000.0  ... -122.298           1660        4000\n",
              "5916   6303400290 2015-01-26  170000.0  ... -122.356           1100        8636\n",
              "21352  7169500130 2014-12-19  495000.0  ... -122.301           1460        1137\n",
              "7651    125059138 2014-07-22  510000.0  ... -122.104           2470        7561\n",
              "7072   2624049073 2014-07-29  360000.0  ... -122.267           1620        6000\n",
              "\n",
              "[10 rows x 21 columns]"
            ]
          },
          "metadata": {},
          "execution_count": 2
        }
      ]
    },
    {
      "cell_type": "code",
      "metadata": {
        "colab": {
          "base_uri": "https://localhost:8080/",
          "height": 609
        },
        "id": "x_XeZP_K0jTb",
        "outputId": "5bc2dff9-09a7-4b61-85fb-2dc788fd9981"
      },
      "source": [
        "df.head(10)\n",
        "df"
      ],
      "execution_count": null,
      "outputs": [
        {
          "output_type": "execute_result",
          "data": {
            "text/html": [
              "<div>\n",
              "<style scoped>\n",
              "    .dataframe tbody tr th:only-of-type {\n",
              "        vertical-align: middle;\n",
              "    }\n",
              "\n",
              "    .dataframe tbody tr th {\n",
              "        vertical-align: top;\n",
              "    }\n",
              "\n",
              "    .dataframe thead th {\n",
              "        text-align: right;\n",
              "    }\n",
              "</style>\n",
              "<table border=\"1\" class=\"dataframe\">\n",
              "  <thead>\n",
              "    <tr style=\"text-align: right;\">\n",
              "      <th></th>\n",
              "      <th>id</th>\n",
              "      <th>date</th>\n",
              "      <th>price</th>\n",
              "      <th>bedrooms</th>\n",
              "      <th>bathrooms</th>\n",
              "      <th>sqft_living</th>\n",
              "      <th>sqft_lot</th>\n",
              "      <th>floors</th>\n",
              "      <th>waterfront</th>\n",
              "      <th>view</th>\n",
              "      <th>condition</th>\n",
              "      <th>grade</th>\n",
              "      <th>sqft_above</th>\n",
              "      <th>sqft_basement</th>\n",
              "      <th>yr_built</th>\n",
              "      <th>yr_renovated</th>\n",
              "      <th>zipcode</th>\n",
              "      <th>lat</th>\n",
              "      <th>long</th>\n",
              "      <th>sqft_living15</th>\n",
              "      <th>sqft_lot15</th>\n",
              "    </tr>\n",
              "  </thead>\n",
              "  <tbody>\n",
              "    <tr>\n",
              "      <th>0</th>\n",
              "      <td>7129300520</td>\n",
              "      <td>2014-10-13</td>\n",
              "      <td>221900.0</td>\n",
              "      <td>3</td>\n",
              "      <td>1.00</td>\n",
              "      <td>1180</td>\n",
              "      <td>5650</td>\n",
              "      <td>1.0</td>\n",
              "      <td>0</td>\n",
              "      <td>0</td>\n",
              "      <td>3</td>\n",
              "      <td>7</td>\n",
              "      <td>1180</td>\n",
              "      <td>0</td>\n",
              "      <td>1955</td>\n",
              "      <td>0</td>\n",
              "      <td>98178</td>\n",
              "      <td>47.5112</td>\n",
              "      <td>-122.257</td>\n",
              "      <td>1340</td>\n",
              "      <td>5650</td>\n",
              "    </tr>\n",
              "    <tr>\n",
              "      <th>1</th>\n",
              "      <td>6414100192</td>\n",
              "      <td>2014-12-09</td>\n",
              "      <td>538000.0</td>\n",
              "      <td>3</td>\n",
              "      <td>2.25</td>\n",
              "      <td>2570</td>\n",
              "      <td>7242</td>\n",
              "      <td>2.0</td>\n",
              "      <td>0</td>\n",
              "      <td>0</td>\n",
              "      <td>3</td>\n",
              "      <td>7</td>\n",
              "      <td>2170</td>\n",
              "      <td>400</td>\n",
              "      <td>1951</td>\n",
              "      <td>1991</td>\n",
              "      <td>98125</td>\n",
              "      <td>47.7210</td>\n",
              "      <td>-122.319</td>\n",
              "      <td>1690</td>\n",
              "      <td>7639</td>\n",
              "    </tr>\n",
              "    <tr>\n",
              "      <th>2</th>\n",
              "      <td>5631500400</td>\n",
              "      <td>2015-02-25</td>\n",
              "      <td>180000.0</td>\n",
              "      <td>2</td>\n",
              "      <td>1.00</td>\n",
              "      <td>770</td>\n",
              "      <td>10000</td>\n",
              "      <td>1.0</td>\n",
              "      <td>0</td>\n",
              "      <td>0</td>\n",
              "      <td>3</td>\n",
              "      <td>6</td>\n",
              "      <td>770</td>\n",
              "      <td>0</td>\n",
              "      <td>1933</td>\n",
              "      <td>0</td>\n",
              "      <td>98028</td>\n",
              "      <td>47.7379</td>\n",
              "      <td>-122.233</td>\n",
              "      <td>2720</td>\n",
              "      <td>8062</td>\n",
              "    </tr>\n",
              "    <tr>\n",
              "      <th>3</th>\n",
              "      <td>2487200875</td>\n",
              "      <td>2014-12-09</td>\n",
              "      <td>604000.0</td>\n",
              "      <td>4</td>\n",
              "      <td>3.00</td>\n",
              "      <td>1960</td>\n",
              "      <td>5000</td>\n",
              "      <td>1.0</td>\n",
              "      <td>0</td>\n",
              "      <td>0</td>\n",
              "      <td>5</td>\n",
              "      <td>7</td>\n",
              "      <td>1050</td>\n",
              "      <td>910</td>\n",
              "      <td>1965</td>\n",
              "      <td>0</td>\n",
              "      <td>98136</td>\n",
              "      <td>47.5208</td>\n",
              "      <td>-122.393</td>\n",
              "      <td>1360</td>\n",
              "      <td>5000</td>\n",
              "    </tr>\n",
              "    <tr>\n",
              "      <th>4</th>\n",
              "      <td>1954400510</td>\n",
              "      <td>2015-02-18</td>\n",
              "      <td>510000.0</td>\n",
              "      <td>3</td>\n",
              "      <td>2.00</td>\n",
              "      <td>1680</td>\n",
              "      <td>8080</td>\n",
              "      <td>1.0</td>\n",
              "      <td>0</td>\n",
              "      <td>0</td>\n",
              "      <td>3</td>\n",
              "      <td>8</td>\n",
              "      <td>1680</td>\n",
              "      <td>0</td>\n",
              "      <td>1987</td>\n",
              "      <td>0</td>\n",
              "      <td>98074</td>\n",
              "      <td>47.6168</td>\n",
              "      <td>-122.045</td>\n",
              "      <td>1800</td>\n",
              "      <td>7503</td>\n",
              "    </tr>\n",
              "    <tr>\n",
              "      <th>...</th>\n",
              "      <td>...</td>\n",
              "      <td>...</td>\n",
              "      <td>...</td>\n",
              "      <td>...</td>\n",
              "      <td>...</td>\n",
              "      <td>...</td>\n",
              "      <td>...</td>\n",
              "      <td>...</td>\n",
              "      <td>...</td>\n",
              "      <td>...</td>\n",
              "      <td>...</td>\n",
              "      <td>...</td>\n",
              "      <td>...</td>\n",
              "      <td>...</td>\n",
              "      <td>...</td>\n",
              "      <td>...</td>\n",
              "      <td>...</td>\n",
              "      <td>...</td>\n",
              "      <td>...</td>\n",
              "      <td>...</td>\n",
              "      <td>...</td>\n",
              "    </tr>\n",
              "    <tr>\n",
              "      <th>21608</th>\n",
              "      <td>263000018</td>\n",
              "      <td>2014-05-21</td>\n",
              "      <td>360000.0</td>\n",
              "      <td>3</td>\n",
              "      <td>2.50</td>\n",
              "      <td>1530</td>\n",
              "      <td>1131</td>\n",
              "      <td>3.0</td>\n",
              "      <td>0</td>\n",
              "      <td>0</td>\n",
              "      <td>3</td>\n",
              "      <td>8</td>\n",
              "      <td>1530</td>\n",
              "      <td>0</td>\n",
              "      <td>2009</td>\n",
              "      <td>0</td>\n",
              "      <td>98103</td>\n",
              "      <td>47.6993</td>\n",
              "      <td>-122.346</td>\n",
              "      <td>1530</td>\n",
              "      <td>1509</td>\n",
              "    </tr>\n",
              "    <tr>\n",
              "      <th>21609</th>\n",
              "      <td>6600060120</td>\n",
              "      <td>2015-02-23</td>\n",
              "      <td>400000.0</td>\n",
              "      <td>4</td>\n",
              "      <td>2.50</td>\n",
              "      <td>2310</td>\n",
              "      <td>5813</td>\n",
              "      <td>2.0</td>\n",
              "      <td>0</td>\n",
              "      <td>0</td>\n",
              "      <td>3</td>\n",
              "      <td>8</td>\n",
              "      <td>2310</td>\n",
              "      <td>0</td>\n",
              "      <td>2014</td>\n",
              "      <td>0</td>\n",
              "      <td>98146</td>\n",
              "      <td>47.5107</td>\n",
              "      <td>-122.362</td>\n",
              "      <td>1830</td>\n",
              "      <td>7200</td>\n",
              "    </tr>\n",
              "    <tr>\n",
              "      <th>21610</th>\n",
              "      <td>1523300141</td>\n",
              "      <td>2014-06-23</td>\n",
              "      <td>402101.0</td>\n",
              "      <td>2</td>\n",
              "      <td>0.75</td>\n",
              "      <td>1020</td>\n",
              "      <td>1350</td>\n",
              "      <td>2.0</td>\n",
              "      <td>0</td>\n",
              "      <td>0</td>\n",
              "      <td>3</td>\n",
              "      <td>7</td>\n",
              "      <td>1020</td>\n",
              "      <td>0</td>\n",
              "      <td>2009</td>\n",
              "      <td>0</td>\n",
              "      <td>98144</td>\n",
              "      <td>47.5944</td>\n",
              "      <td>-122.299</td>\n",
              "      <td>1020</td>\n",
              "      <td>2007</td>\n",
              "    </tr>\n",
              "    <tr>\n",
              "      <th>21611</th>\n",
              "      <td>291310100</td>\n",
              "      <td>2015-01-16</td>\n",
              "      <td>400000.0</td>\n",
              "      <td>3</td>\n",
              "      <td>2.50</td>\n",
              "      <td>1600</td>\n",
              "      <td>2388</td>\n",
              "      <td>2.0</td>\n",
              "      <td>0</td>\n",
              "      <td>0</td>\n",
              "      <td>3</td>\n",
              "      <td>8</td>\n",
              "      <td>1600</td>\n",
              "      <td>0</td>\n",
              "      <td>2004</td>\n",
              "      <td>0</td>\n",
              "      <td>98027</td>\n",
              "      <td>47.5345</td>\n",
              "      <td>-122.069</td>\n",
              "      <td>1410</td>\n",
              "      <td>1287</td>\n",
              "    </tr>\n",
              "    <tr>\n",
              "      <th>21612</th>\n",
              "      <td>1523300157</td>\n",
              "      <td>2014-10-15</td>\n",
              "      <td>325000.0</td>\n",
              "      <td>2</td>\n",
              "      <td>0.75</td>\n",
              "      <td>1020</td>\n",
              "      <td>1076</td>\n",
              "      <td>2.0</td>\n",
              "      <td>0</td>\n",
              "      <td>0</td>\n",
              "      <td>3</td>\n",
              "      <td>7</td>\n",
              "      <td>1020</td>\n",
              "      <td>0</td>\n",
              "      <td>2008</td>\n",
              "      <td>0</td>\n",
              "      <td>98144</td>\n",
              "      <td>47.5941</td>\n",
              "      <td>-122.299</td>\n",
              "      <td>1020</td>\n",
              "      <td>1357</td>\n",
              "    </tr>\n",
              "  </tbody>\n",
              "</table>\n",
              "<p>21613 rows × 21 columns</p>\n",
              "</div>"
            ],
            "text/plain": [
              "               id       date     price  ...     long  sqft_living15  sqft_lot15\n",
              "0      7129300520 2014-10-13  221900.0  ... -122.257           1340        5650\n",
              "1      6414100192 2014-12-09  538000.0  ... -122.319           1690        7639\n",
              "2      5631500400 2015-02-25  180000.0  ... -122.233           2720        8062\n",
              "3      2487200875 2014-12-09  604000.0  ... -122.393           1360        5000\n",
              "4      1954400510 2015-02-18  510000.0  ... -122.045           1800        7503\n",
              "...           ...        ...       ...  ...      ...            ...         ...\n",
              "21608   263000018 2014-05-21  360000.0  ... -122.346           1530        1509\n",
              "21609  6600060120 2015-02-23  400000.0  ... -122.362           1830        7200\n",
              "21610  1523300141 2014-06-23  402101.0  ... -122.299           1020        2007\n",
              "21611   291310100 2015-01-16  400000.0  ... -122.069           1410        1287\n",
              "21612  1523300157 2014-10-15  325000.0  ... -122.299           1020        1357\n",
              "\n",
              "[21613 rows x 21 columns]"
            ]
          },
          "metadata": {},
          "execution_count": 3
        }
      ]
    },
    {
      "cell_type": "markdown",
      "metadata": {
        "id": "Ean_9SD_lix4"
      },
      "source": [
        "**ข้อสังเกต**  ในการอ่านข้อมูล เมื่อข้อมูลประกอบด้วยวันที่การเขียนโปรเเกรมจะต้องมีการระบุว่าข้อมูลในคอลัมน์ date ที่ถูกอ่านมาด้วยโปรเเกรมนั้นจะอยู่ในรูปเเบบของวันที่โดยใช้คำสั่ง parse_date หากไม่ทำการระบุเเล้วข้อมูลที่ถูกอ่านมาจะอยู่ในรูปของ string "
      ]
    },
    {
      "cell_type": "markdown",
      "metadata": {
        "id": "Nqe0VPwpcp-O"
      },
      "source": [
        "ทดลองดูภาพรวมของข้อมูลได้ดังนี้\n"
      ]
    },
    {
      "cell_type": "code",
      "metadata": {
        "colab": {
          "base_uri": "https://localhost:8080/"
        },
        "id": "X_Dhp7CmbcgH",
        "outputId": "f6234642-7e36-460f-848d-c10a8688e066"
      },
      "source": [
        "df.info()"
      ],
      "execution_count": null,
      "outputs": [
        {
          "output_type": "stream",
          "name": "stdout",
          "text": [
            "<class 'pandas.core.frame.DataFrame'>\n",
            "RangeIndex: 21613 entries, 0 to 21612\n",
            "Data columns (total 21 columns):\n",
            " #   Column         Non-Null Count  Dtype         \n",
            "---  ------         --------------  -----         \n",
            " 0   id             21613 non-null  int64         \n",
            " 1   date           21613 non-null  datetime64[ns]\n",
            " 2   price          21613 non-null  float64       \n",
            " 3   bedrooms       21613 non-null  int64         \n",
            " 4   bathrooms      21613 non-null  float64       \n",
            " 5   sqft_living    21613 non-null  int64         \n",
            " 6   sqft_lot       21613 non-null  int64         \n",
            " 7   floors         21613 non-null  float64       \n",
            " 8   waterfront     21613 non-null  int64         \n",
            " 9   view           21613 non-null  int64         \n",
            " 10  condition      21613 non-null  int64         \n",
            " 11  grade          21613 non-null  int64         \n",
            " 12  sqft_above     21613 non-null  int64         \n",
            " 13  sqft_basement  21613 non-null  int64         \n",
            " 14  yr_built       21613 non-null  int64         \n",
            " 15  yr_renovated   21613 non-null  int64         \n",
            " 16  zipcode        21613 non-null  int64         \n",
            " 17  lat            21613 non-null  float64       \n",
            " 18  long           21613 non-null  float64       \n",
            " 19  sqft_living15  21613 non-null  int64         \n",
            " 20  sqft_lot15     21613 non-null  int64         \n",
            "dtypes: datetime64[ns](1), float64(5), int64(15)\n",
            "memory usage: 3.5 MB\n"
          ]
        }
      ]
    },
    {
      "cell_type": "markdown",
      "metadata": {
        "id": "yOepMSH_ocos"
      },
      "source": [
        "จากภาพรวมข้อมูลจะเห็นว่าข้อมูลชุดนี้ประกอบด้วย 21,613 ตัวอย่างของข้อมูล  ในตัวอย่างนี้จะพิจารณาข้อมูลจำนวน 200 ตัวอย่าง โดยใช้คำสังดังนี้"
      ]
    },
    {
      "cell_type": "code",
      "metadata": {
        "id": "RpGtxpamoLEs",
        "colab": {
          "base_uri": "https://localhost:8080/"
        },
        "outputId": "19d9656d-e9af-4fb5-bff5-f6caee50a640"
      },
      "source": [
        "df=df[:200]\n",
        "df.info()"
      ],
      "execution_count": null,
      "outputs": [
        {
          "output_type": "stream",
          "name": "stdout",
          "text": [
            "<class 'pandas.core.frame.DataFrame'>\n",
            "RangeIndex: 200 entries, 0 to 199\n",
            "Data columns (total 21 columns):\n",
            " #   Column         Non-Null Count  Dtype         \n",
            "---  ------         --------------  -----         \n",
            " 0   id             200 non-null    int64         \n",
            " 1   date           200 non-null    datetime64[ns]\n",
            " 2   price          200 non-null    float64       \n",
            " 3   bedrooms       200 non-null    int64         \n",
            " 4   bathrooms      200 non-null    float64       \n",
            " 5   sqft_living    200 non-null    int64         \n",
            " 6   sqft_lot       200 non-null    int64         \n",
            " 7   floors         200 non-null    float64       \n",
            " 8   waterfront     200 non-null    int64         \n",
            " 9   view           200 non-null    int64         \n",
            " 10  condition      200 non-null    int64         \n",
            " 11  grade          200 non-null    int64         \n",
            " 12  sqft_above     200 non-null    int64         \n",
            " 13  sqft_basement  200 non-null    int64         \n",
            " 14  yr_built       200 non-null    int64         \n",
            " 15  yr_renovated   200 non-null    int64         \n",
            " 16  zipcode        200 non-null    int64         \n",
            " 17  lat            200 non-null    float64       \n",
            " 18  long           200 non-null    float64       \n",
            " 19  sqft_living15  200 non-null    int64         \n",
            " 20  sqft_lot15     200 non-null    int64         \n",
            "dtypes: datetime64[ns](1), float64(5), int64(15)\n",
            "memory usage: 32.9 KB\n"
          ]
        }
      ]
    },
    {
      "cell_type": "markdown",
      "metadata": {
        "id": "EeKeVZ01dCwW"
      },
      "source": [
        "เเสดงหัวข้อในเเต่ละคอลัมน์ของฐานข้อมูล\n"
      ]
    },
    {
      "cell_type": "code",
      "metadata": {
        "colab": {
          "base_uri": "https://localhost:8080/"
        },
        "id": "0xgLAZiKdJFd",
        "outputId": "d4df7a4b-14c8-4185-82ad-27f57621435a"
      },
      "source": [
        "df.columns"
      ],
      "execution_count": null,
      "outputs": [
        {
          "output_type": "execute_result",
          "data": {
            "text/plain": [
              "Index(['id', 'date', 'price', 'bedrooms', 'bathrooms', 'sqft_living',\n",
              "       'sqft_lot', 'floors', 'waterfront', 'view', 'condition', 'grade',\n",
              "       'sqft_above', 'sqft_basement', 'yr_built', 'yr_renovated', 'zipcode',\n",
              "       'lat', 'long', 'sqft_living15', 'sqft_lot15'],\n",
              "      dtype='object')"
            ]
          },
          "metadata": {
            "tags": []
          },
          "execution_count": 8
        }
      ]
    },
    {
      "cell_type": "markdown",
      "metadata": {
        "id": "UDJryCA0dOBs"
      },
      "source": [
        "ในตัวอย่างนี้เลือกพิจารณาความสัมพันธ์ระหว่าง ราคา (prize) กับ ขนาดของบ้าน (sqft_living) เพื่อทำการสร้างเเบบจำลองพื่อทำนายค่าบ้าน "
      ]
    },
    {
      "cell_type": "code",
      "metadata": {
        "colab": {
          "base_uri": "https://localhost:8080/",
          "height": 418
        },
        "id": "tdpeKkTdnz4X",
        "outputId": "bc82e706-6c70-4a1e-fcc0-2e9fe98ef6d8"
      },
      "source": [
        "plt.figure(figsize=(16, 9))\n",
        "sns.lmplot(x='sqft_living', y='price', data=df, ci=None)"
      ],
      "execution_count": null,
      "outputs": [
        {
          "output_type": "execute_result",
          "data": {
            "text/plain": [
              "<seaborn.axisgrid.FacetGrid at 0x7ffa9ceaf4d0>"
            ]
          },
          "metadata": {
            "tags": []
          },
          "execution_count": 9
        },
        {
          "output_type": "display_data",
          "data": {
            "text/plain": [
              "<Figure size 1152x648 with 0 Axes>"
            ]
          },
          "metadata": {
            "tags": []
          }
        },
        {
          "output_type": "display_data",
          "data": {
            "image/png": "[encoded data removed]",
            "text/plain": [
              "<Figure size 360x360 with 1 Axes>"
            ]
          },
          "metadata": {
            "tags": [],
            "needs_background": "light"
          }
        }
      ]
    },
    {
      "cell_type": "markdown",
      "metadata": {
        "id": "c5742YzRpQ3r"
      },
      "source": [
        "โดยการใช้ seaborn ทำให้สามารถดูการกระจายตัวของข้อมูล (histogram) ในเเนวเเกน x เเละ y ได้ดังนี้ "
      ]
    },
    {
      "cell_type": "code",
      "metadata": {
        "colab": {
          "base_uri": "https://localhost:8080/",
          "height": 441
        },
        "id": "qYnpo80ZqrBq",
        "outputId": "763a6159-c9cc-474b-bd98-7c2a803ce214"
      },
      "source": [
        "sns.jointplot(x='sqft_living', y='price', data=df, kind='reg', ci=None,\n",
        "              color='blue');"
      ],
      "execution_count": null,
      "outputs": [
        {
          "output_type": "display_data",
          "data": {
            "image/png": "[encoded data removed]",
            "text/plain": [
              "<Figure size 432x432 with 3 Axes>"
            ]
          },
          "metadata": {
            "needs_background": "light"
          }
        }
      ]
    },
    {
      "cell_type": "markdown",
      "metadata": {
        "id": "LV0rnQwuioW0"
      },
      "source": [
        "**สร้าง Linear Regression model โดยใช้ library ของ scikit learn**\n",
        "\n",
        "นำเข้าคลาสของ Linear Regression จาก scikit learn โดย\n"
      ]
    },
    {
      "cell_type": "code",
      "metadata": {
        "id": "j-uIZ6UqinAk"
      },
      "source": [
        "from sklearn.linear_model import LinearRegression"
      ],
      "execution_count": null,
      "outputs": []
    },
    {
      "cell_type": "code",
      "metadata": {
        "id": "FndxNGF0rO3k"
      },
      "source": [
        "model = LinearRegression() # สร้าง object ชื่อ model จาก class ของ LinearRegression class"
      ],
      "execution_count": null,
      "outputs": []
    },
    {
      "cell_type": "markdown",
      "metadata": {
        "id": "gaeqSufNslr7"
      },
      "source": [
        "เนื่องจาก df['sqft_living'] เเละ df['price'] จะเป็นข้อมูลที่อยู่ในรูปเเบบ series จึงต้องทำการเเปลงให้อยู่ในรูปของ data frame ของ pandas โดยข้อมูลจะเเสดงในรูปเเบบของ dataframe ที่ประกอบด้วย index เเละ value ดังนี้"
      ]
    },
    {
      "cell_type": "code",
      "metadata": {
        "colab": {
          "base_uri": "https://localhost:8080/",
          "height": 419
        },
        "id": "0tCepDs7sMH0",
        "outputId": "f0260551-f24b-4df3-e35c-73dfcc37688e"
      },
      "source": [
        "X=df[['sqft_living']]\n",
        "Y=df[['price']]\n",
        "X"
      ],
      "execution_count": null,
      "outputs": [
        {
          "output_type": "execute_result",
          "data": {
            "text/html": [
              "<div>\n",
              "<style scoped>\n",
              "    .dataframe tbody tr th:only-of-type {\n",
              "        vertical-align: middle;\n",
              "    }\n",
              "\n",
              "    .dataframe tbody tr th {\n",
              "        vertical-align: top;\n",
              "    }\n",
              "\n",
              "    .dataframe thead th {\n",
              "        text-align: right;\n",
              "    }\n",
              "</style>\n",
              "<table border=\"1\" class=\"dataframe\">\n",
              "  <thead>\n",
              "    <tr style=\"text-align: right;\">\n",
              "      <th></th>\n",
              "      <th>sqft_living</th>\n",
              "    </tr>\n",
              "  </thead>\n",
              "  <tbody>\n",
              "    <tr>\n",
              "      <th>0</th>\n",
              "      <td>1180</td>\n",
              "    </tr>\n",
              "    <tr>\n",
              "      <th>1</th>\n",
              "      <td>2570</td>\n",
              "    </tr>\n",
              "    <tr>\n",
              "      <th>2</th>\n",
              "      <td>770</td>\n",
              "    </tr>\n",
              "    <tr>\n",
              "      <th>3</th>\n",
              "      <td>1960</td>\n",
              "    </tr>\n",
              "    <tr>\n",
              "      <th>4</th>\n",
              "      <td>1680</td>\n",
              "    </tr>\n",
              "    <tr>\n",
              "      <th>...</th>\n",
              "      <td>...</td>\n",
              "    </tr>\n",
              "    <tr>\n",
              "      <th>195</th>\n",
              "      <td>1690</td>\n",
              "    </tr>\n",
              "    <tr>\n",
              "      <th>196</th>\n",
              "      <td>1970</td>\n",
              "    </tr>\n",
              "    <tr>\n",
              "      <th>197</th>\n",
              "      <td>2150</td>\n",
              "    </tr>\n",
              "    <tr>\n",
              "      <th>198</th>\n",
              "      <td>1910</td>\n",
              "    </tr>\n",
              "    <tr>\n",
              "      <th>199</th>\n",
              "      <td>1350</td>\n",
              "    </tr>\n",
              "  </tbody>\n",
              "</table>\n",
              "<p>200 rows × 1 columns</p>\n",
              "</div>"
            ],
            "text/plain": [
              "     sqft_living\n",
              "0           1180\n",
              "1           2570\n",
              "2            770\n",
              "3           1960\n",
              "4           1680\n",
              "..           ...\n",
              "195         1690\n",
              "196         1970\n",
              "197         2150\n",
              "198         1910\n",
              "199         1350\n",
              "\n",
              "[200 rows x 1 columns]"
            ]
          },
          "metadata": {},
          "execution_count": 8
        }
      ]
    },
    {
      "cell_type": "markdown",
      "metadata": {
        "id": "l-PoDVwEx1Gf"
      },
      "source": [
        "**ข้อสังเกต** การเเปลงข้อมูลสามารถทำได้อีกรูปเเบบหนึ่งโดยการปรับลักษณะของข้อมูลให้อยู่ในรูปของ numpy arry โดย\n",
        "\n",
        "X = np.array(df['sqft_living']).reshape(-1,1)\n",
        "Y = np.array(df['sqft_living']).reshape(-1,1)"
      ]
    },
    {
      "cell_type": "code",
      "metadata": {
        "colab": {
          "base_uri": "https://localhost:8080/"
        },
        "id": "f8Hoq4fft-Sm",
        "outputId": "4f200e30-8116-45c8-9335-b316ab52d530"
      },
      "source": [
        "model.fit(X,Y)  # เรียนรู้ model linear regression จากข้อมูล X เเละ Y"
      ],
      "execution_count": null,
      "outputs": [
        {
          "output_type": "execute_result",
          "data": {
            "text/plain": [
              "LinearRegression()"
            ]
          },
          "metadata": {},
          "execution_count": 10
        }
      ]
    },
    {
      "cell_type": "markdown",
      "metadata": {
        "id": "L0DBhQRIpNKt"
      },
      "source": [
        "ทดลองเเสดงค่า intercept ($\\theta_{0}$) เเละ coefficient ($\\theta_{1}$) เมื่อ\n",
        "\n",
        "$y=\\theta_{0}+\\theta_{1} x$"
      ]
    },
    {
      "cell_type": "code",
      "metadata": {
        "colab": {
          "base_uri": "https://localhost:8080/"
        },
        "id": "sgl_v9Yko-5d",
        "outputId": "0ce64397-d709-4226-d246-3b05cad9289d"
      },
      "source": [
        "# intercept \n",
        "print(f'intercept = {model.intercept_}') \n",
        "# coefficient\n",
        "print(f'coefficient = {model.coef_}') "
      ],
      "execution_count": null,
      "outputs": [
        {
          "output_type": "stream",
          "name": "stdout",
          "text": [
            "intercept = [17719.532113]\n",
            "coefficient = [[240.03903463]]\n"
          ]
        }
      ]
    },
    {
      "cell_type": "markdown",
      "metadata": {
        "id": "H7DVkDTJkf-9"
      },
      "source": [
        "ทดลองดูเหมาะสมกับข้อมูลของแบบจำลองที่สร้างขึ้นเมื่อเทียบกับข้อมูลโดยใช้ค่า $R^2$"
      ]
    },
    {
      "cell_type": "code",
      "metadata": {
        "colab": {
          "base_uri": "https://localhost:8080/"
        },
        "id": "mgUsvylzklYN",
        "outputId": "13da6aa7-a179-4be1-a2b4-4ab8a25674b0"
      },
      "source": [
        "model.score(X, Y) # R-squared"
      ],
      "execution_count": null,
      "outputs": [
        {
          "output_type": "execute_result",
          "data": {
            "text/plain": [
              "0.4638370397309386"
            ]
          },
          "metadata": {
            "tags": []
          },
          "execution_count": 16
        }
      ]
    },
    {
      "cell_type": "markdown",
      "metadata": {
        "id": "uPQ2X3KsozbZ"
      },
      "source": [
        "ทดลองทำนายราคาบ้านจากแบบจำลองที่สร้างขึ้น โดยกำหนดให้บ้านมีเนื้อที่เท่ากับ 1000 sqft "
      ]
    },
    {
      "cell_type": "code",
      "metadata": {
        "id": "Avine54_pY-i",
        "colab": {
          "base_uri": "https://localhost:8080/"
        },
        "outputId": "31526154-9e8a-4ea1-f2d9-4a0802e0271b"
      },
      "source": [
        "x_new = 1000\n",
        "model.intercept_ + model.coef_ * x_new"
      ],
      "execution_count": null,
      "outputs": [
        {
          "output_type": "execute_result",
          "data": {
            "text/plain": [
              "array([[257758.56674014]])"
            ]
          },
          "metadata": {
            "tags": []
          },
          "execution_count": 17
        }
      ]
    },
    {
      "cell_type": "markdown",
      "metadata": {
        "id": "u1IuHfkDxVPZ"
      },
      "source": [
        "โดยราคาบ้านที่ทำนายได้ คือ 257,758.56674014 ดอลลาร์สหรัฐ"
      ]
    },
    {
      "cell_type": "markdown",
      "metadata": {
        "id": "xDTbwKfoqKst"
      },
      "source": [
        "ในอีกทางหนึ่ง scikit-learn มี method สำหรับการทำนายค่าโดยทำได้ดังนี้\n"
      ]
    },
    {
      "cell_type": "code",
      "metadata": {
        "colab": {
          "base_uri": "https://localhost:8080/"
        },
        "id": "Puj7m5kj2ldS",
        "outputId": "59da994c-c66c-4309-9a06-49c01ba913d0"
      },
      "source": [
        "model.predict([[x_new]]) # ค่าที่ส่งเข้า method predict จะต้องอยู่ในรูปของ 2D array"
      ],
      "execution_count": null,
      "outputs": [
        {
          "output_type": "execute_result",
          "data": {
            "text/plain": [
              "array([[257758.56674014]])"
            ]
          },
          "metadata": {
            "tags": []
          },
          "execution_count": 18
        }
      ]
    },
    {
      "cell_type": "markdown",
      "metadata": {
        "id": "mBxT2S5o5bVW"
      },
      "source": [
        "สร้างข้อมูลสำหรับทดสอบโดยสุ่มค่าตั้งเเต่ 500 ถึง 3000 จำนวน 10 จุด เเเละเเปลงให้เป็น 2d numpy array"
      ]
    },
    {
      "cell_type": "code",
      "metadata": {
        "id": "6BdPUFtg5e2W"
      },
      "source": [
        "x_pred = np.linspace(500,3000,10).reshape(-1,1)"
      ],
      "execution_count": null,
      "outputs": []
    },
    {
      "cell_type": "code",
      "metadata": {
        "colab": {
          "base_uri": "https://localhost:8080/"
        },
        "id": "veGK6hds6KGg",
        "outputId": "2f41af76-81a0-4ea5-be9f-83c912bac3c8"
      },
      "source": [
        "model.predict(x_pred)"
      ],
      "execution_count": null,
      "outputs": [
        {
          "output_type": "execute_result",
          "data": {
            "text/plain": [
              "array([[137739.04942657],\n",
              "       [204416.55904522],\n",
              "       [271094.06866387],\n",
              "       [337771.57828252],\n",
              "       [404449.08790117],\n",
              "       [471126.59751982],\n",
              "       [537804.10713847],\n",
              "       [604481.61675712],\n",
              "       [671159.12637577],\n",
              "       [737836.63599442]])"
            ]
          },
          "metadata": {
            "tags": []
          },
          "execution_count": 20
        }
      ]
    },
    {
      "cell_type": "markdown",
      "metadata": {
        "id": "69u_984g7JfZ"
      },
      "source": [
        "**Train test split**\n",
        "\n",
        "การเเบ่งข้อมูลเพื่อเรียนรู้เเละทดสอบแบบจำลอง"
      ]
    },
    {
      "cell_type": "code",
      "metadata": {
        "id": "t8_jydhQ7J-g"
      },
      "source": [
        "from sklearn.model_selection import train_test_split"
      ],
      "execution_count": null,
      "outputs": []
    },
    {
      "cell_type": "code",
      "metadata": {
        "id": "mFUnpaUo7NsV"
      },
      "source": [
        "# เเบ่งข้อมูลไว้เรียนรู้ 70% เเละ ทดสอบ 30%\n",
        "X_train, X_test, y_train, y_test = train_test_split(X, Y,test_size=0.3) "
      ],
      "execution_count": null,
      "outputs": []
    },
    {
      "cell_type": "code",
      "metadata": {
        "colab": {
          "base_uri": "https://localhost:8080/"
        },
        "id": "9fMQg4yd7TWf",
        "outputId": "7b606048-d5e0-40da-8c21-971c090bf04f"
      },
      "source": [
        "model.fit(X_train, y_train) # สร้าง model linear regression จากข้อมูล X_train เเละ y_train"
      ],
      "execution_count": null,
      "outputs": [
        {
          "output_type": "execute_result",
          "data": {
            "text/plain": [
              "LinearRegression(copy_X=True, fit_intercept=True, n_jobs=None, normalize=False)"
            ]
          },
          "metadata": {
            "tags": []
          },
          "execution_count": 23
        }
      ]
    },
    {
      "cell_type": "code",
      "metadata": {
        "colab": {
          "base_uri": "https://localhost:8080/"
        },
        "id": "F6tDy8DqWGPc",
        "outputId": "b537584d-d066-49f8-9bf5-33827ca01b93"
      },
      "source": [
        "from sklearn.metrics import mean_squared_error\n",
        "import math\n",
        "mean_squared_error(model.predict(X_test), y_test)\n"
      ],
      "execution_count": null,
      "outputs": [
        {
          "output_type": "execute_result",
          "data": {
            "text/plain": [
              "60556069678.06408"
            ]
          },
          "metadata": {
            "tags": []
          },
          "execution_count": 24
        }
      ]
    },
    {
      "cell_type": "markdown",
      "metadata": {
        "id": "MtIlkkb5iNM6"
      },
      "source": [
        "ทดลองดูความเเม่นยำในการทำนายผลโดยใช้ค่า MSE"
      ]
    },
    {
      "cell_type": "markdown",
      "metadata": {
        "id": "Digjl9rtV_Co"
      },
      "source": [
        "ทดลองดูเหมาะสมกับข้อมูลของแบบจำลองที่สร้างขึ้นเมื่อเทียบกับข้อมูลโดยใช้ค่า $R^2$"
      ]
    },
    {
      "cell_type": "code",
      "metadata": {
        "id": "zWQ3-tkFi1d0"
      },
      "source": [
        "# model.score(X_train, y_train)"
      ],
      "execution_count": null,
      "outputs": []
    },
    {
      "cell_type": "code",
      "metadata": {
        "id": "xlFLQtEw371g"
      },
      "source": [
        "# # step 3: model scoring\n",
        "# from sklearn.metrics import mean_squared_error\n",
        "# import math\n",
        "# regression_model_mse = math.sqrt(mean_squared_error(X_test, y_test))\n",
        "# R_squred = model.score(X_test, y_test) \n",
        "\n",
        "# print(f'mean_squared_error = {regression_model_mse}') \n",
        "# print(f'R_squared_error = {R_squred}') "
      ],
      "execution_count": null,
      "outputs": []
    },
    {
      "cell_type": "code",
      "metadata": {
        "id": "EmLuT4q-7aMO"
      },
      "source": [
        "# # step 4: predicting\n",
        "# x_new = [\n",
        "#     [1000],\n",
        "#     [2000],\n",
        "#     [2500]\n",
        "# ]\n",
        "# model.predict(x_new) # numpy array: X 2-dim array"
      ],
      "execution_count": null,
      "outputs": []
    },
    {
      "cell_type": "markdown",
      "metadata": {
        "id": "GSBALjKxlGPI"
      },
      "source": [
        "Multiple Linear Regression\n"
      ]
    },
    {
      "cell_type": "code",
      "metadata": {
        "colab": {
          "base_uri": "https://localhost:8080/",
          "height": 204
        },
        "id": "uGfZ4SIrnp4j",
        "outputId": "18c70412-80db-4168-c26a-dbf59537207d"
      },
      "source": [
        "df=pd.read_csv(url, usecols=[2, 3, 4, 5])\n",
        "df=df[:25]\n",
        "df.head()"
      ],
      "execution_count": null,
      "outputs": [
        {
          "output_type": "execute_result",
          "data": {
            "text/html": [
              "<div>\n",
              "<style scoped>\n",
              "    .dataframe tbody tr th:only-of-type {\n",
              "        vertical-align: middle;\n",
              "    }\n",
              "\n",
              "    .dataframe tbody tr th {\n",
              "        vertical-align: top;\n",
              "    }\n",
              "\n",
              "    .dataframe thead th {\n",
              "        text-align: right;\n",
              "    }\n",
              "</style>\n",
              "<table border=\"1\" class=\"dataframe\">\n",
              "  <thead>\n",
              "    <tr style=\"text-align: right;\">\n",
              "      <th></th>\n",
              "      <th>price</th>\n",
              "      <th>bedrooms</th>\n",
              "      <th>bathrooms</th>\n",
              "      <th>sqft_living</th>\n",
              "    </tr>\n",
              "  </thead>\n",
              "  <tbody>\n",
              "    <tr>\n",
              "      <th>0</th>\n",
              "      <td>221900.0</td>\n",
              "      <td>3</td>\n",
              "      <td>1.00</td>\n",
              "      <td>1180</td>\n",
              "    </tr>\n",
              "    <tr>\n",
              "      <th>1</th>\n",
              "      <td>538000.0</td>\n",
              "      <td>3</td>\n",
              "      <td>2.25</td>\n",
              "      <td>2570</td>\n",
              "    </tr>\n",
              "    <tr>\n",
              "      <th>2</th>\n",
              "      <td>180000.0</td>\n",
              "      <td>2</td>\n",
              "      <td>1.00</td>\n",
              "      <td>770</td>\n",
              "    </tr>\n",
              "    <tr>\n",
              "      <th>3</th>\n",
              "      <td>604000.0</td>\n",
              "      <td>4</td>\n",
              "      <td>3.00</td>\n",
              "      <td>1960</td>\n",
              "    </tr>\n",
              "    <tr>\n",
              "      <th>4</th>\n",
              "      <td>510000.0</td>\n",
              "      <td>3</td>\n",
              "      <td>2.00</td>\n",
              "      <td>1680</td>\n",
              "    </tr>\n",
              "  </tbody>\n",
              "</table>\n",
              "</div>"
            ],
            "text/plain": [
              "      price  bedrooms  bathrooms  sqft_living\n",
              "0  221900.0         3       1.00         1180\n",
              "1  538000.0         3       2.25         2570\n",
              "2  180000.0         2       1.00          770\n",
              "3  604000.0         4       3.00         1960\n",
              "4  510000.0         3       2.00         1680"
            ]
          },
          "metadata": {
            "tags": []
          },
          "execution_count": 25
        }
      ]
    },
    {
      "cell_type": "markdown",
      "metadata": {
        "id": "AfjIt-3ohSkv"
      },
      "source": [
        "ทดลองดูความสัมพันธ์ระหว่างคุณลักษณะ"
      ]
    },
    {
      "cell_type": "code",
      "metadata": {
        "colab": {
          "base_uri": "https://localhost:8080/",
          "height": 726
        },
        "id": "GI4KZhLOoaMj",
        "outputId": "8e75472e-4e99-44a3-bd19-96ebc43017fd"
      },
      "source": [
        "sns.pairplot(df,\n",
        "             kind='reg', \n",
        "             plot_kws={'scatter_kws': {'alpha': 0.4}, \n",
        "                       'line_kws': {'color': 'orange'}},\n",
        "             diag_kws={'color': 'green', 'alpha':.2});"
      ],
      "execution_count": null,
      "outputs": [
        {
          "output_type": "display_data",
          "data": {
            "image/png": "[encoded data removed]",
            "text/plain": [
              "<Figure size 720x720 with 20 Axes>"
            ]
          },
          "metadata": {
            "tags": [],
            "needs_background": "light"
          }
        }
      ]
    },
    {
      "cell_type": "markdown",
      "metadata": {
        "id": "TeJ-pqgui6k2"
      },
      "source": [
        "สร้าง multiple linear regression model "
      ]
    },
    {
      "cell_type": "code",
      "metadata": {
        "colab": {
          "base_uri": "https://localhost:8080/"
        },
        "id": "BKZKknP-iGhM",
        "outputId": "03298f1c-28b7-441b-9631-ef68ab5683c5"
      },
      "source": [
        "X = df.drop(columns=['price'])\n",
        "y = df['price']\n",
        "# เเบ่งข้อมูลไว้เรียนรู้ 70% เเละ ทดสอบ 30%\n",
        "X_train, X_test, y_train, y_test = train_test_split(X, y,test_size=0.3) \n",
        "model.fit(X_train, y_train)"
      ],
      "execution_count": null,
      "outputs": [
        {
          "output_type": "execute_result",
          "data": {
            "text/plain": [
              "LinearRegression(copy_X=True, fit_intercept=True, n_jobs=None, normalize=False)"
            ]
          },
          "metadata": {
            "tags": []
          },
          "execution_count": 27
        }
      ]
    },
    {
      "cell_type": "code",
      "metadata": {
        "id": "bGpYBGR3krZz"
      },
      "source": [
        "# X"
      ],
      "execution_count": null,
      "outputs": []
    },
    {
      "cell_type": "markdown",
      "metadata": {
        "id": "v7Xk28t4jwyd"
      },
      "source": [
        "ทดลองดูเหมาะสมกับข้อมูลของแบบจำลองที่สร้างขึ้นเมื่อเทียบกับข้อมูลโดยใช้ค่า $R^2$"
      ]
    },
    {
      "cell_type": "code",
      "metadata": {
        "colab": {
          "base_uri": "https://localhost:8080/"
        },
        "id": "cDw0l-yTjgAg",
        "outputId": "586d6477-5033-448d-e918-4e982558e787"
      },
      "source": [
        "model.score(X_train, y_train) # R-squared"
      ],
      "execution_count": null,
      "outputs": [
        {
          "output_type": "execute_result",
          "data": {
            "text/plain": [
              "0.4799117713693316"
            ]
          },
          "metadata": {
            "tags": []
          },
          "execution_count": 28
        }
      ]
    },
    {
      "cell_type": "code",
      "metadata": {
        "colab": {
          "base_uri": "https://localhost:8080/"
        },
        "id": "neOcC0wlqNLo",
        "outputId": "6fa1b82b-67da-4333-928f-ee2c3350cb73"
      },
      "source": [
        "y_pred = model.predict(X_test)\n",
        "mean_squared_error(y_pred, y_test)"
      ],
      "execution_count": null,
      "outputs": [
        {
          "output_type": "execute_result",
          "data": {
            "text/plain": [
              "22572796925.39498"
            ]
          },
          "metadata": {
            "tags": []
          },
          "execution_count": 29
        }
      ]
    },
    {
      "cell_type": "code",
      "metadata": {
        "colab": {
          "base_uri": "https://localhost:8080/",
          "height": 297
        },
        "id": "hr1FHyivqh28",
        "outputId": "9971f377-6de6-44ed-efff-49a4e1168e4d"
      },
      "source": [
        "dx = pd.DataFrame({'y_true': y_test, 'y_pred': y_pred})\n",
        "dx"
      ],
      "execution_count": null,
      "outputs": [
        {
          "output_type": "execute_result",
          "data": {
            "text/html": [
              "<div>\n",
              "<style scoped>\n",
              "    .dataframe tbody tr th:only-of-type {\n",
              "        vertical-align: middle;\n",
              "    }\n",
              "\n",
              "    .dataframe tbody tr th {\n",
              "        vertical-align: top;\n",
              "    }\n",
              "\n",
              "    .dataframe thead th {\n",
              "        text-align: right;\n",
              "    }\n",
              "</style>\n",
              "<table border=\"1\" class=\"dataframe\">\n",
              "  <thead>\n",
              "    <tr style=\"text-align: right;\">\n",
              "      <th></th>\n",
              "      <th>y_true</th>\n",
              "      <th>y_pred</th>\n",
              "    </tr>\n",
              "  </thead>\n",
              "  <tbody>\n",
              "    <tr>\n",
              "      <th>16</th>\n",
              "      <td>395000.0</td>\n",
              "      <td>478826.132414</td>\n",
              "    </tr>\n",
              "    <tr>\n",
              "      <th>11</th>\n",
              "      <td>468000.0</td>\n",
              "      <td>255775.523392</td>\n",
              "    </tr>\n",
              "    <tr>\n",
              "      <th>12</th>\n",
              "      <td>310000.0</td>\n",
              "      <td>289671.696710</td>\n",
              "    </tr>\n",
              "    <tr>\n",
              "      <th>8</th>\n",
              "      <td>229500.0</td>\n",
              "      <td>363505.168756</td>\n",
              "    </tr>\n",
              "    <tr>\n",
              "      <th>17</th>\n",
              "      <td>485000.0</td>\n",
              "      <td>302472.592301</td>\n",
              "    </tr>\n",
              "    <tr>\n",
              "      <th>20</th>\n",
              "      <td>385000.0</td>\n",
              "      <td>375778.766465</td>\n",
              "    </tr>\n",
              "    <tr>\n",
              "      <th>22</th>\n",
              "      <td>285000.0</td>\n",
              "      <td>558924.113766</td>\n",
              "    </tr>\n",
              "    <tr>\n",
              "      <th>3</th>\n",
              "      <td>604000.0</td>\n",
              "      <td>562647.908436</td>\n",
              "    </tr>\n",
              "  </tbody>\n",
              "</table>\n",
              "</div>"
            ],
            "text/plain": [
              "      y_true         y_pred\n",
              "16  395000.0  478826.132414\n",
              "11  468000.0  255775.523392\n",
              "12  310000.0  289671.696710\n",
              "8   229500.0  363505.168756\n",
              "17  485000.0  302472.592301\n",
              "20  385000.0  375778.766465\n",
              "22  285000.0  558924.113766\n",
              "3   604000.0  562647.908436"
            ]
          },
          "metadata": {
            "tags": []
          },
          "execution_count": 30
        }
      ]
    },
    {
      "cell_type": "markdown",
      "metadata": {
        "id": "B_eSgONJRX6m"
      },
      "source": [
        "**Non-linear Regression**\n",
        "\n",
        "ในตัวอย่างจะทำการสร้างแบบจำลองเเบบ Non-linear regression โดยการเรียกใช้คลาส PolynomialFeatures\n",
        "\n",
        "**`Non-linear regression model`**\n",
        "$$\n",
        "{y=\\theta _{0}+\\theta _{1}x^{1}+\\theta _{2}x^{2}+\\theta _{3}x^{3}+\\cdots +\\theta _{n}x^{n}}\n",
        "$$"
      ]
    },
    {
      "cell_type": "markdown",
      "metadata": {
        "id": "AhA2dMXTdJXh"
      },
      "source": [
        "อ่านข้อมูลใหม่จาก https://raw.githubusercontent.com/Kanabadee-KDS/basic-ml-dataset/main/worldbank_gdp_gini_birth_death_rate.csv ซึ่งเป็นข้อมูลอัตราการเกิดของประชากรไทยต่อ 1000 คนในรอบ 60 ปี ซึ่งความสัมพันธ์ของข้อมูลไม่เป็นเชิงเส้น\n"
      ]
    },
    {
      "cell_type": "code",
      "metadata": {
        "id": "8ltluIHVdSV7"
      },
      "source": [
        "url='https://raw.githubusercontent.com/Kanabadee-KDS/basic-ml-dataset/main/worldbank_gdp_gini_birth_death_rate.csv '\n",
        "data=pd.read_csv(url)\n",
        "data[data['country'].str.contains('Thailand')][:3]\n",
        "x_col='year'\n",
        "y_col='Death rate, crude (per 1,000 people)'\n",
        "country='Thailand'"
      ],
      "execution_count": null,
      "outputs": []
    },
    {
      "cell_type": "code",
      "metadata": {
        "id": "GkR7_zgLfafq"
      },
      "source": [
        "# กรองข้อมูลโดยเลือกใช้เฉพาะข้อมูลของประเทศไทยเเละเก็บไว้ในตัวเเปร df\n",
        "df.head()\n",
        "df=data[data['country']==country].copy()  "
      ],
      "execution_count": null,
      "outputs": []
    },
    {
      "cell_type": "code",
      "metadata": {
        "id": "dOvrCIUyvPQj"
      },
      "source": [
        "# df.head()"
      ],
      "execution_count": null,
      "outputs": []
    },
    {
      "cell_type": "code",
      "metadata": {
        "colab": {
          "base_uri": "https://localhost:8080/",
          "height": 383
        },
        "id": "hvjY3_3RT9OX",
        "outputId": "2b51bbdd-09ea-4fa4-a589-3565ad2d7ee9"
      },
      "source": [
        "sns.lmplot(x=x_col, y=y_col, data=df, fit_reg=True, \n",
        "           scatter_kws={'alpha': .3, 'color': 'blue'},\n",
        "           line_kws={'color': 'salmon'});"
      ],
      "execution_count": null,
      "outputs": [
        {
          "output_type": "display_data",
          "data": {
            "image/png": "[encoded data removed]",
            "text/plain": [
              "<Figure size 360x360 with 1 Axes>"
            ]
          },
          "metadata": {
            "tags": [],
            "needs_background": "light"
          }
        }
      ]
    },
    {
      "cell_type": "code",
      "metadata": {
        "id": "ZpS5CARRRbtB"
      },
      "source": [
        "from sklearn.preprocessing import PolynomialFeatures\n",
        "poly = PolynomialFeatures(degree=3) # กำหนดให้สร้างแบบจำลองโดยใช้ polynomial function degree 3\n",
        "X=df[[x_col]]\n",
        "y=df[y_col]"
      ],
      "execution_count": null,
      "outputs": []
    },
    {
      "cell_type": "markdown",
      "metadata": {
        "id": "xOZdwto2XE5n"
      },
      "source": [
        "เตรียมข้อมูลโดยการเเปลงข้อมูลฝึกฝนเเเละข้อมูลทดสอบให้อยู่ในรูปเเบบยกกำลัง เช่น $x=4$ จะถูกจัดให้อยู่ในรูปของ $x^{1}=4, x^{2}=16$ และ  $x^{3}=64$"
      ]
    },
    {
      "cell_type": "code",
      "metadata": {
        "id": "9nYNHBDvT8aF"
      },
      "source": [
        "test_size=.2\n",
        "X_train, X_test, y_train, y_test = train_test_split(X, y, test_size=test_size)\n",
        "X_train_poly = poly.fit_transform(X_train)\n",
        "X_test_poly = poly.fit_transform(X_test)"
      ],
      "execution_count": null,
      "outputs": []
    },
    {
      "cell_type": "markdown",
      "metadata": {
        "id": "HSo9UbvTX7-w"
      },
      "source": [
        "สร้าง polynomial regression model"
      ]
    },
    {
      "cell_type": "code",
      "metadata": {
        "colab": {
          "base_uri": "https://localhost:8080/"
        },
        "id": "S1WKiORQX7Zd",
        "outputId": "d4f01e8b-19f8-4362-ff92-4b44f6a1b399"
      },
      "source": [
        "pm = LinearRegression()\n",
        "pm.fit(X_train_poly, y_train)"
      ],
      "execution_count": null,
      "outputs": [
        {
          "output_type": "execute_result",
          "data": {
            "text/plain": [
              "LinearRegression(copy_X=True, fit_intercept=True, n_jobs=None, normalize=False)"
            ]
          },
          "metadata": {
            "tags": []
          },
          "execution_count": 36
        }
      ]
    },
    {
      "cell_type": "markdown",
      "metadata": {
        "id": "Tioitz3XYd3V"
      },
      "source": [
        "ทดลองเเสดงค่า intercept คือ $\\theta _{0}$, $\\theta _{1}$, $\\theta _{2}$ และ $\\theta _{3}$ "
      ]
    },
    {
      "cell_type": "code",
      "metadata": {
        "colab": {
          "base_uri": "https://localhost:8080/"
        },
        "id": "Plef87VTYLgm",
        "outputId": "1abf30b2-e1ec-435e-e8c6-c0b17030f39c"
      },
      "source": [
        "# intercept \n",
        "print(f'intercept = {pm.intercept_}') # theta0\n",
        "# coefficient\n",
        "print(f'coefficient = {pm.coef_}') # theta1 theta2 theta3"
      ],
      "execution_count": null,
      "outputs": [
        {
          "output_type": "stream",
          "text": [
            "intercept = -2141932.196693306\n",
            "coefficient = [ 0.00000000e+00  3.20051941e+03 -1.59409864e+00  2.64661850e-04]\n"
          ],
          "name": "stdout"
        }
      ]
    },
    {
      "cell_type": "markdown",
      "metadata": {
        "id": "J9CHVbH9ZEJi"
      },
      "source": [
        "ทดลองดูเหมาะสมกับข้อมูลของแบบจำลองที่สร้างขึ้นเมื่อเทียบกับข้อมูลโดยใช้ค่า $R^2$ ของ poly regression model"
      ]
    },
    {
      "cell_type": "code",
      "metadata": {
        "colab": {
          "base_uri": "https://localhost:8080/"
        },
        "id": "QghsoqoUYPD3",
        "outputId": "84f3ea60-43e3-47eb-8297-c51a84725369"
      },
      "source": [
        "R_squred = pm.score(X_train_poly, y_train) \n",
        "print(f'R_squared_error = {R_squred}') "
      ],
      "execution_count": null,
      "outputs": [
        {
          "output_type": "stream",
          "text": [
            "R_squared_error = 0.996507908721042\n"
          ],
          "name": "stdout"
        }
      ]
    },
    {
      "cell_type": "code",
      "metadata": {
        "colab": {
          "base_uri": "https://localhost:8080/",
          "height": 421
        },
        "id": "c4Wj3A2pZJhD",
        "outputId": "2d489f20-7341-4c96-d778-ae5fa5e73158"
      },
      "source": [
        "fig = plt.figure(figsize=(10, 6))\n",
        "plt.scatter(X, y, color = 'green', alpha=.2)\n",
        "plt.plot(X, pm.predict(poly.fit_transform(X)), color = 'red', alpha=.5)\n",
        "plt.title('Polynomial Regression')\n",
        "plt.xlabel(x_col)\n",
        "plt.ylabel(y_col)"
      ],
      "execution_count": null,
      "outputs": [
        {
          "output_type": "execute_result",
          "data": {
            "text/plain": [
              "Text(0, 0.5, 'Death rate, crude (per 1,000 people)')"
            ]
          },
          "metadata": {
            "tags": []
          },
          "execution_count": 39
        },
        {
          "output_type": "display_data",
          "data": {
            "image/png": "[encoded data removed]",
            "text/plain": [
              "<Figure size 720x432 with 1 Axes>"
            ]
          },
          "metadata": {
            "tags": [],
            "needs_background": "light"
          }
        }
      ]
    },
    {
      "cell_type": "code",
      "metadata": {
        "colab": {
          "base_uri": "https://localhost:8080/"
        },
        "id": "-nx7MRObzjoT",
        "outputId": "356fb9ba-ff78-4648-d05f-dbb2dc298879"
      },
      "source": [
        "y_pred = pm.predict(poly.fit_transform(X_test))\n",
        "mean_squared_error(y_pred, y_test)"
      ],
      "execution_count": null,
      "outputs": [
        {
          "output_type": "execute_result",
          "data": {
            "text/plain": [
              "0.03394602688949871"
            ]
          },
          "metadata": {
            "tags": []
          },
          "execution_count": 40
        }
      ]
    },
    {
      "cell_type": "code",
      "metadata": {
        "colab": {
          "base_uri": "https://localhost:8080/",
          "height": 235
        },
        "id": "cyKWvkHhzvns",
        "outputId": "4e3d04c0-5a18-4087-a040-e9b8afe4d486"
      },
      "source": [
        "dx = pd.DataFrame({'y_true': y_test, 'y_pred': y_pred})\n",
        "dx"
      ],
      "execution_count": null,
      "outputs": [
        {
          "output_type": "execute_result",
          "data": {
            "text/html": [
              "<div>\n",
              "<style scoped>\n",
              "    .dataframe tbody tr th:only-of-type {\n",
              "        vertical-align: middle;\n",
              "    }\n",
              "\n",
              "    .dataframe tbody tr th {\n",
              "        vertical-align: top;\n",
              "    }\n",
              "\n",
              "    .dataframe thead th {\n",
              "        text-align: right;\n",
              "    }\n",
              "</style>\n",
              "<table border=\"1\" class=\"dataframe\">\n",
              "  <thead>\n",
              "    <tr style=\"text-align: right;\">\n",
              "      <th></th>\n",
              "      <th>y_true</th>\n",
              "      <th>y_pred</th>\n",
              "    </tr>\n",
              "  </thead>\n",
              "  <tbody>\n",
              "    <tr>\n",
              "      <th>6888</th>\n",
              "      <td>7.123</td>\n",
              "      <td>7.094116</td>\n",
              "    </tr>\n",
              "    <tr>\n",
              "      <th>6899</th>\n",
              "      <td>7.467</td>\n",
              "      <td>7.467302</td>\n",
              "    </tr>\n",
              "    <tr>\n",
              "      <th>6875</th>\n",
              "      <td>5.932</td>\n",
              "      <td>5.814754</td>\n",
              "    </tr>\n",
              "    <tr>\n",
              "      <th>6874</th>\n",
              "      <td>5.804</td>\n",
              "      <td>5.586093</td>\n",
              "    </tr>\n",
              "    <tr>\n",
              "      <th>6877</th>\n",
              "      <td>6.211</td>\n",
              "      <td>6.198788</td>\n",
              "    </tr>\n",
              "    <tr>\n",
              "      <th>6873</th>\n",
              "      <td>5.707</td>\n",
              "      <td>5.330885</td>\n",
              "    </tr>\n",
              "  </tbody>\n",
              "</table>\n",
              "</div>"
            ],
            "text/plain": [
              "      y_true    y_pred\n",
              "6888   7.123  7.094116\n",
              "6899   7.467  7.467302\n",
              "6875   5.932  5.814754\n",
              "6874   5.804  5.586093\n",
              "6877   6.211  6.198788\n",
              "6873   5.707  5.330885"
            ]
          },
          "metadata": {
            "tags": []
          },
          "execution_count": 41
        }
      ]
    }
  ]
}