{
 "cells": [
  {
   "cell_type": "markdown",
   "metadata": {
    "id": "nyHxIfkMZ5hY"
   },
   "source": [
    "Chapter 5 K-Nearest Neighbors \n",
    "\n",
    "reference : https://scikit-learn.org/stable/modules/generated/sklearn.neighbors.KNeighborsClassifier.html"
   ]
  },
  {
   "cell_type": "markdown",
   "metadata": {
    "id": "F4msuEZEb5rt"
   },
   "source": [
    "เรียกใช้ library สำหรับทำงานประกอบด้วย numpy pandas seaborn เเละ matplotlib"
   ]
  },
  {
   "cell_type": "code",
   "execution_count": 2,
   "metadata": {
    "executionInfo": {
     "elapsed": 1308,
     "status": "ok",
     "timestamp": 1629182731974,
     "user": {
      "displayName": "Kanabadee Srisomboon",
      "photoUrl": "",
      "userId": "05820637008444812644"
     },
     "user_tz": -420
    },
    "id": "0UM__I-TZoGs"
   },
   "outputs": [],
   "source": [
    "import numpy as np\n",
    "import pandas as pd\n",
    "import seaborn as sns \n",
    "import matplotlib.pyplot as plt"
   ]
  },
  {
   "cell_type": "markdown",
   "metadata": {
    "id": "2CQDflxdbjZu"
   },
   "source": [
    "อ่านข้อมูลไฟล์ csv จาก https://raw.githubusercontent.com/Kanabadee-KDS/basic-ml-dataset/main/iris_data.csv\n",
    "\n",
    "และเเสดง 5 ตัวอย่างเเรก เพื่อตรวจสอบข้อมูล"
   ]
  },
  {
   "cell_type": "code",
   "execution_count": 2,
   "metadata": {
    "colab": {
     "base_uri": "https://localhost:8080/",
     "height": 204
    },
    "executionInfo": {
     "elapsed": 1037,
     "status": "ok",
     "timestamp": 1629182740184,
     "user": {
      "displayName": "Kanabadee Srisomboon",
      "photoUrl": "",
      "userId": "05820637008444812644"
     },
     "user_tz": -420
    },
    "id": "9mau6dBkaYsu",
    "outputId": "284531b2-6d50-40c5-ea4f-188958d669af"
   },
   "outputs": [
    {
     "data": {
      "text/html": [
       "<div>\n",
       "<style scoped>\n",
       "    .dataframe tbody tr th:only-of-type {\n",
       "        vertical-align: middle;\n",
       "    }\n",
       "\n",
       "    .dataframe tbody tr th {\n",
       "        vertical-align: top;\n",
       "    }\n",
       "\n",
       "    .dataframe thead th {\n",
       "        text-align: right;\n",
       "    }\n",
       "</style>\n",
       "<table border=\"1\" class=\"dataframe\">\n",
       "  <thead>\n",
       "    <tr style=\"text-align: right;\">\n",
       "      <th></th>\n",
       "      <th>SepalLength</th>\n",
       "      <th>SepalWidth</th>\n",
       "      <th>PetalLength</th>\n",
       "      <th>PetalWidth</th>\n",
       "      <th>Class</th>\n",
       "    </tr>\n",
       "  </thead>\n",
       "  <tbody>\n",
       "    <tr>\n",
       "      <th>3</th>\n",
       "      <td>4.6</td>\n",
       "      <td>3.1</td>\n",
       "      <td>1.5</td>\n",
       "      <td>0.2</td>\n",
       "      <td>Iris-setosa</td>\n",
       "    </tr>\n",
       "    <tr>\n",
       "      <th>85</th>\n",
       "      <td>7.6</td>\n",
       "      <td>3.0</td>\n",
       "      <td>6.6</td>\n",
       "      <td>2.1</td>\n",
       "      <td>Iris-virginica</td>\n",
       "    </tr>\n",
       "    <tr>\n",
       "      <th>11</th>\n",
       "      <td>4.8</td>\n",
       "      <td>3.4</td>\n",
       "      <td>1.6</td>\n",
       "      <td>0.2</td>\n",
       "      <td>Iris-setosa</td>\n",
       "    </tr>\n",
       "    <tr>\n",
       "      <th>123</th>\n",
       "      <td>5.0</td>\n",
       "      <td>3.5</td>\n",
       "      <td>1.6</td>\n",
       "      <td>0.6</td>\n",
       "      <td>Iris-setosa</td>\n",
       "    </tr>\n",
       "    <tr>\n",
       "      <th>49</th>\n",
       "      <td>5.2</td>\n",
       "      <td>2.7</td>\n",
       "      <td>3.9</td>\n",
       "      <td>1.4</td>\n",
       "      <td>Iris-versicolor</td>\n",
       "    </tr>\n",
       "  </tbody>\n",
       "</table>\n",
       "</div>"
      ],
      "text/plain": [
       "     SepalLength  SepalWidth  PetalLength  PetalWidth            Class\n",
       "3            4.6         3.1          1.5         0.2      Iris-setosa\n",
       "85           7.6         3.0          6.6         2.1   Iris-virginica\n",
       "11           4.8         3.4          1.6         0.2      Iris-setosa\n",
       "123          5.0         3.5          1.6         0.6      Iris-setosa\n",
       "49           5.2         2.7          3.9         1.4  Iris-versicolor"
      ]
     },
     "execution_count": 2,
     "metadata": {
      "tags": []
     },
     "output_type": "execute_result"
    }
   ],
   "source": [
    "url='https://raw.githubusercontent.com/Kanabadee-KDS/basic-ml-dataset/main/iris_data.csv'\n",
    "df=pd.read_csv(url)\n",
    "df.sample(5)"
   ]
  },
  {
   "cell_type": "markdown",
   "metadata": {
    "id": "Nqe0VPwpcp-O"
   },
   "source": [
    "นับจำนวนคลาสหรือสายพันธุ์ของดอกไอริส ได้ดังนี้\n"
   ]
  },
  {
   "cell_type": "code",
   "execution_count": 3,
   "metadata": {
    "colab": {
     "base_uri": "https://localhost:8080/"
    },
    "executionInfo": {
     "elapsed": 1030,
     "status": "ok",
     "timestamp": 1629182818602,
     "user": {
      "displayName": "Kanabadee Srisomboon",
      "photoUrl": "",
      "userId": "05820637008444812644"
     },
     "user_tz": -420
    },
    "id": "X_Dhp7CmbcgH",
    "outputId": "7932e920-7e1c-4591-f126-c9eeb4ce5f24"
   },
   "outputs": [
    {
     "data": {
      "text/plain": [
       "Iris-versicolor    50\n",
       "Iris-setosa        50\n",
       "Iris-virginica     50\n",
       "Name: Class, dtype: int64"
      ]
     },
     "execution_count": 3,
     "metadata": {
      "tags": []
     },
     "output_type": "execute_result"
    }
   ],
   "source": [
    "df.Class.value_counts()"
   ]
  },
  {
   "cell_type": "markdown",
   "metadata": {
    "id": "EeKeVZ01dCwW"
   },
   "source": [
    "เเสดงหัวข้อในเเต่ละคอลัมน์ของฐานข้อมูล\n"
   ]
  },
  {
   "cell_type": "code",
   "execution_count": 4,
   "metadata": {
    "colab": {
     "base_uri": "https://localhost:8080/"
    },
    "executionInfo": {
     "elapsed": 995,
     "status": "ok",
     "timestamp": 1629182829786,
     "user": {
      "displayName": "Kanabadee Srisomboon",
      "photoUrl": "",
      "userId": "05820637008444812644"
     },
     "user_tz": -420
    },
    "id": "0xgLAZiKdJFd",
    "outputId": "fea94f4c-bb4e-4d46-b9c2-9b516e1eeaa6"
   },
   "outputs": [
    {
     "data": {
      "text/plain": [
       "Index(['SepalLength', 'SepalWidth', 'PetalLength', 'PetalWidth', 'Class'], dtype='object')"
      ]
     },
     "execution_count": 4,
     "metadata": {
      "tags": []
     },
     "output_type": "execute_result"
    }
   ],
   "source": [
    "df.columns"
   ]
  },
  {
   "cell_type": "markdown",
   "metadata": {
    "id": "nHZUZJhzsriw"
   },
   "source": [
    "ทดลองเเสดงค่าเฉลี่ยนในเเต่ละคุณลักษณะของเเต่ละสายพันธุ์ของดอกไอริส"
   ]
  },
  {
   "cell_type": "code",
   "execution_count": 5,
   "metadata": {
    "colab": {
     "base_uri": "https://localhost:8080/",
     "height": 173
    },
    "executionInfo": {
     "elapsed": 1070,
     "status": "ok",
     "timestamp": 1629182844462,
     "user": {
      "displayName": "Kanabadee Srisomboon",
      "photoUrl": "",
      "userId": "05820637008444812644"
     },
     "user_tz": -420
    },
    "id": "sga5UJHzs1Mk",
    "outputId": "b84712ba-1a59-4ed8-9628-337c9094d4ab"
   },
   "outputs": [
    {
     "data": {
      "text/html": [
       "<div>\n",
       "<style scoped>\n",
       "    .dataframe tbody tr th:only-of-type {\n",
       "        vertical-align: middle;\n",
       "    }\n",
       "\n",
       "    .dataframe tbody tr th {\n",
       "        vertical-align: top;\n",
       "    }\n",
       "\n",
       "    .dataframe thead th {\n",
       "        text-align: right;\n",
       "    }\n",
       "</style>\n",
       "<table border=\"1\" class=\"dataframe\">\n",
       "  <thead>\n",
       "    <tr style=\"text-align: right;\">\n",
       "      <th></th>\n",
       "      <th>SepalLength</th>\n",
       "      <th>SepalWidth</th>\n",
       "      <th>PetalLength</th>\n",
       "      <th>PetalWidth</th>\n",
       "    </tr>\n",
       "    <tr>\n",
       "      <th>Class</th>\n",
       "      <th></th>\n",
       "      <th></th>\n",
       "      <th></th>\n",
       "      <th></th>\n",
       "    </tr>\n",
       "  </thead>\n",
       "  <tbody>\n",
       "    <tr>\n",
       "      <th>Iris-setosa</th>\n",
       "      <td>5.006</td>\n",
       "      <td>3.418</td>\n",
       "      <td>1.464</td>\n",
       "      <td>0.244</td>\n",
       "    </tr>\n",
       "    <tr>\n",
       "      <th>Iris-versicolor</th>\n",
       "      <td>5.936</td>\n",
       "      <td>2.770</td>\n",
       "      <td>4.260</td>\n",
       "      <td>1.326</td>\n",
       "    </tr>\n",
       "    <tr>\n",
       "      <th>Iris-virginica</th>\n",
       "      <td>6.588</td>\n",
       "      <td>2.974</td>\n",
       "      <td>5.552</td>\n",
       "      <td>2.026</td>\n",
       "    </tr>\n",
       "  </tbody>\n",
       "</table>\n",
       "</div>"
      ],
      "text/plain": [
       "                 SepalLength  SepalWidth  PetalLength  PetalWidth\n",
       "Class                                                            \n",
       "Iris-setosa            5.006       3.418        1.464       0.244\n",
       "Iris-versicolor        5.936       2.770        4.260       1.326\n",
       "Iris-virginica         6.588       2.974        5.552       2.026"
      ]
     },
     "execution_count": 5,
     "metadata": {
      "tags": []
     },
     "output_type": "execute_result"
    }
   ],
   "source": [
    "df.groupby('Class').mean()"
   ]
  },
  {
   "cell_type": "markdown",
   "metadata": {
    "id": "UDJryCA0dOBs"
   },
   "source": [
    "ในตัวอย่างนี้เลือกพิจารณาเพียง 4 หัวข้อ ประกอบด้วย ความยาวกลีบเลี้ยง(SepalLength) ความกว้างกลีบเลี้ยง(SepalWidth) ความยาวกลีบดอก(PetalLength) เเละ ความกว้างกลีบดอก(PetalWidth)\n",
    "\n",
    "สร้างตัวเเปร ชื่อ cols เพื่อเก็บตัวเเปรที่สนใน ได้เเก่ SepalLength\n",
    "SepalWidth\n",
    "PetalLength\n",
    "เเละ\n",
    "PetalWidth"
   ]
  },
  {
   "cell_type": "code",
   "execution_count": 6,
   "metadata": {
    "executionInfo": {
     "elapsed": 315,
     "status": "ok",
     "timestamp": 1629182864004,
     "user": {
      "displayName": "Kanabadee Srisomboon",
      "photoUrl": "",
      "userId": "05820637008444812644"
     },
     "user_tz": -420
    },
    "id": "bepgZSymd4k-"
   },
   "outputs": [],
   "source": [
    "cols=['SepalLength', 'SepalWidth', 'PetalLength', 'PetalWidth']"
   ]
  },
  {
   "cell_type": "markdown",
   "metadata": {
    "id": "1YaCgRwffdkq"
   },
   "source": [
    "เเสดงความสัมพันธ์ระหว่างคุณลักษณะ(features) ของ SepalLength SepalWidth PetalLength เเละ PetalWidth  โดยใช้ pairplot ของ seaborn"
   ]
  },
  {
   "cell_type": "code",
   "execution_count": 7,
   "metadata": {
    "colab": {
     "base_uri": "https://localhost:8080/",
     "height": 726
    },
    "executionInfo": {
     "elapsed": 9179,
     "status": "ok",
     "timestamp": 1629182891676,
     "user": {
      "displayName": "Kanabadee Srisomboon",
      "photoUrl": "",
      "userId": "05820637008444812644"
     },
     "user_tz": -420
    },
    "id": "-_8Dgx9LfIY-",
    "outputId": "68415a36-6520-4be3-a796-dd5fe2f4e8eb"
   },
   "outputs": [
    {
     "data": {
      "image/png": "[encoded data removed]",
      "text/plain": [
       "<Figure size 823.25x720 with 20 Axes>"
      ]
     },
     "metadata": {
      "needs_background": "light",
      "tags": []
     },
     "output_type": "display_data"
    }
   ],
   "source": [
    "sns.pairplot(data=df,hue='Class');"
   ]
  },
  {
   "cell_type": "markdown",
   "metadata": {
    "id": "aW5VD6OThxj8"
   },
   "source": [
    "จากกราฟ สามารถสังเกตได้ว่า ขนาด SepalLength SepalWidth PetalLength เเละ PetalWidth ของพันธุ์ Setosa มีความเเตกต่างกับสายพันธุ์อื่น"
   ]
  },
  {
   "cell_type": "markdown",
   "metadata": {
    "id": "LV0rnQwuioW0"
   },
   "source": [
    "**จัดกลุ่มข้อมูล (Classification) ด้วยวิธี K-Nearest Neighbours โดยใช้ library ของ scikit learn**\n",
    "\n"
   ]
  },
  {
   "cell_type": "markdown",
   "metadata": {
    "id": "APaAORSIi3Fm"
   },
   "source": [
    "นำเข้าคลาสของ KNeighborsClassifier StandardScaler เเละ train_test_split จาก scikit learn โดย"
   ]
  },
  {
   "cell_type": "code",
   "execution_count": 8,
   "metadata": {
    "executionInfo": {
     "elapsed": 844,
     "status": "ok",
     "timestamp": 1629183020383,
     "user": {
      "displayName": "Kanabadee Srisomboon",
      "photoUrl": "",
      "userId": "05820637008444812644"
     },
     "user_tz": -420
    },
    "id": "FkdTDfV8thXf"
   },
   "outputs": [],
   "source": [
    "from sklearn.model_selection import train_test_split\n",
    "from sklearn.neighbors import KNeighborsClassifier\n",
    "from sklearn.preprocessing import StandardScaler # ปรับช่วงข้อมูลด้วยวิธี standardization"
   ]
  },
  {
   "cell_type": "markdown",
   "metadata": {
    "id": "L0DBhQRIpNKt"
   },
   "source": [
    "แบ่งชุดข้อมูลออกเป็นชุดฝึกฝนเเละชุดทดสอบ"
   ]
  },
  {
   "cell_type": "code",
   "execution_count": 9,
   "metadata": {
    "executionInfo": {
     "elapsed": 5,
     "status": "ok",
     "timestamp": 1629183023103,
     "user": {
      "displayName": "Kanabadee Srisomboon",
      "photoUrl": "",
      "userId": "05820637008444812644"
     },
     "user_tz": -420
    },
    "id": "UA3ZOFDHt-Mi"
   },
   "outputs": [],
   "source": [
    "test_size=0.2\n",
    "X_train, X_test, y_train, y_test = train_test_split(\n",
    "    df[['SepalLength', 'SepalWidth', 'PetalLength', 'PetalWidth']], \n",
    "    df.Class, \n",
    "    test_size=test_size, random_state=7)"
   ]
  },
  {
   "cell_type": "code",
   "execution_count": 10,
   "metadata": {
    "colab": {
     "base_uri": "https://localhost:8080/"
    },
    "executionInfo": {
     "elapsed": 8,
     "status": "ok",
     "timestamp": 1629183027389,
     "user": {
      "displayName": "Kanabadee Srisomboon",
      "photoUrl": "",
      "userId": "05820637008444812644"
     },
     "user_tz": -420
    },
    "id": "HYEaDhQUvOyW",
    "outputId": "feae1c74-94cd-4e2e-f956-bfe6a5978d30"
   },
   "outputs": [
    {
     "data": {
      "text/plain": [
       "126        Iris-setosa\n",
       "79     Iris-versicolor\n",
       "22         Iris-setosa\n",
       "139    Iris-versicolor\n",
       "74     Iris-versicolor\n",
       "Name: Class, dtype: object"
      ]
     },
     "execution_count": 10,
     "metadata": {
      "tags": []
     },
     "output_type": "execute_result"
    }
   ],
   "source": [
    "y_train.head()"
   ]
  },
  {
   "cell_type": "code",
   "execution_count": 11,
   "metadata": {
    "colab": {
     "base_uri": "https://localhost:8080/",
     "height": 204
    },
    "executionInfo": {
     "elapsed": 327,
     "status": "ok",
     "timestamp": 1629183031664,
     "user": {
      "displayName": "Kanabadee Srisomboon",
      "photoUrl": "",
      "userId": "05820637008444812644"
     },
     "user_tz": -420
    },
    "id": "O25u7qdWvNqg",
    "outputId": "f9a25ec5-6916-471b-e525-71490bdf7afa"
   },
   "outputs": [
    {
     "data": {
      "text/html": [
       "<div>\n",
       "<style scoped>\n",
       "    .dataframe tbody tr th:only-of-type {\n",
       "        vertical-align: middle;\n",
       "    }\n",
       "\n",
       "    .dataframe tbody tr th {\n",
       "        vertical-align: top;\n",
       "    }\n",
       "\n",
       "    .dataframe thead th {\n",
       "        text-align: right;\n",
       "    }\n",
       "</style>\n",
       "<table border=\"1\" class=\"dataframe\">\n",
       "  <thead>\n",
       "    <tr style=\"text-align: right;\">\n",
       "      <th></th>\n",
       "      <th>SepalLength</th>\n",
       "      <th>SepalWidth</th>\n",
       "      <th>PetalLength</th>\n",
       "      <th>PetalWidth</th>\n",
       "    </tr>\n",
       "  </thead>\n",
       "  <tbody>\n",
       "    <tr>\n",
       "      <th>126</th>\n",
       "      <td>5.1</td>\n",
       "      <td>3.8</td>\n",
       "      <td>1.6</td>\n",
       "      <td>0.2</td>\n",
       "    </tr>\n",
       "    <tr>\n",
       "      <th>79</th>\n",
       "      <td>5.5</td>\n",
       "      <td>2.5</td>\n",
       "      <td>4.0</td>\n",
       "      <td>1.3</td>\n",
       "    </tr>\n",
       "    <tr>\n",
       "      <th>22</th>\n",
       "      <td>4.6</td>\n",
       "      <td>3.6</td>\n",
       "      <td>1.0</td>\n",
       "      <td>0.2</td>\n",
       "    </tr>\n",
       "    <tr>\n",
       "      <th>139</th>\n",
       "      <td>5.7</td>\n",
       "      <td>2.8</td>\n",
       "      <td>4.1</td>\n",
       "      <td>1.3</td>\n",
       "    </tr>\n",
       "    <tr>\n",
       "      <th>74</th>\n",
       "      <td>5.4</td>\n",
       "      <td>3.0</td>\n",
       "      <td>4.5</td>\n",
       "      <td>1.5</td>\n",
       "    </tr>\n",
       "  </tbody>\n",
       "</table>\n",
       "</div>"
      ],
      "text/plain": [
       "     SepalLength  SepalWidth  PetalLength  PetalWidth\n",
       "126          5.1         3.8          1.6         0.2\n",
       "79           5.5         2.5          4.0         1.3\n",
       "22           4.6         3.6          1.0         0.2\n",
       "139          5.7         2.8          4.1         1.3\n",
       "74           5.4         3.0          4.5         1.5"
      ]
     },
     "execution_count": 11,
     "metadata": {
      "tags": []
     },
     "output_type": "execute_result"
    }
   ],
   "source": [
    "X_train.head()"
   ]
  },
  {
   "cell_type": "markdown",
   "metadata": {
    "id": "uPQ2X3KsozbZ"
   },
   "source": [
    "สร้างแบบจำลอง K-Nearest Neighbours ด้วยคลาส KNeighborsClassifier ใน Sklearn "
   ]
  },
  {
   "cell_type": "code",
   "execution_count": 1,
   "metadata": {
    "colab": {
     "base_uri": "https://localhost:8080/"
    },
    "executionInfo": {
     "elapsed": 305,
     "status": "ok",
     "timestamp": 1629183080105,
     "user": {
      "displayName": "Kanabadee Srisomboon",
      "photoUrl": "",
      "userId": "05820637008444812644"
     },
     "user_tz": -420
    },
    "id": "Avine54_pY-i",
    "outputId": "0c2754d0-5154-4f41-e210-373be71ca6a9"
   },
   "outputs": [
    {
     "ename": "NameError",
     "evalue": "name 'KNeighborsClassifier' is not defined",
     "output_type": "error",
     "traceback": [
      "\u001b[1;31m---------------------------------------------------------------------------\u001b[0m",
      "\u001b[1;31mNameError\u001b[0m                                 Traceback (most recent call last)",
      "Input \u001b[1;32mIn [1]\u001b[0m, in \u001b[0;36m<cell line: 2>\u001b[1;34m()\u001b[0m\n\u001b[0;32m      1\u001b[0m prefer_k \u001b[38;5;241m=\u001b[39m \u001b[38;5;241m5\u001b[39m  \u001b[38;5;66;03m# สร้างตัวเเปรสำหรับเก็บ k ที่ต้องการ\u001b[39;00m\n\u001b[1;32m----> 2\u001b[0m model \u001b[38;5;241m=\u001b[39m \u001b[43mKNeighborsClassifier\u001b[49m(n_neighbors\u001b[38;5;241m=\u001b[39mprefer_k)\n\u001b[0;32m      3\u001b[0m model\n",
      "\u001b[1;31mNameError\u001b[0m: name 'KNeighborsClassifier' is not defined"
     ]
    }
   ],
   "source": [
    "prefer_k = 5  # สร้างตัวเเปรสำหรับเก็บ k ที่ต้องการ\n",
    "model = KNeighborsClassifier(n_neighbors=prefer_k)\n",
    "model"
   ]
  },
  {
   "cell_type": "code",
   "execution_count": 13,
   "metadata": {
    "colab": {
     "base_uri": "https://localhost:8080/"
    },
    "executionInfo": {
     "elapsed": 328,
     "status": "ok",
     "timestamp": 1629183090119,
     "user": {
      "displayName": "Kanabadee Srisomboon",
      "photoUrl": "",
      "userId": "05820637008444812644"
     },
     "user_tz": -420
    },
    "id": "SFUCd7iowEBv",
    "outputId": "903ad9a4-9b94-4c78-d421-ff0edc0431e1"
   },
   "outputs": [
    {
     "data": {
      "text/plain": [
       "KNeighborsClassifier(algorithm='auto', leaf_size=30, metric='minkowski',\n",
       "                     metric_params=None, n_jobs=None, n_neighbors=5, p=2,\n",
       "                     weights='uniform')"
      ]
     },
     "execution_count": 13,
     "metadata": {
      "tags": []
     },
     "output_type": "execute_result"
    }
   ],
   "source": [
    "model.fit(X_train, y_train)"
   ]
  },
  {
   "cell_type": "markdown",
   "metadata": {
    "id": "fH_mbYiEwQRR"
   },
   "source": [
    "ทดลองดูค่าผิดพลาดของแบบจำลองที่สร้างขึ้นโดยใช้ค่า $R^2$"
   ]
  },
  {
   "cell_type": "code",
   "execution_count": 14,
   "metadata": {
    "colab": {
     "base_uri": "https://localhost:8080/"
    },
    "executionInfo": {
     "elapsed": 325,
     "status": "ok",
     "timestamp": 1629183094052,
     "user": {
      "displayName": "Kanabadee Srisomboon",
      "photoUrl": "",
      "userId": "05820637008444812644"
     },
     "user_tz": -420
    },
    "id": "lnWIyPqIweyY",
    "outputId": "4c37e592-7c01-4d95-9ed0-0d9258f5170f"
   },
   "outputs": [
    {
     "data": {
      "text/plain": [
       "0.9666666666666667"
      ]
     },
     "execution_count": 14,
     "metadata": {
      "tags": []
     },
     "output_type": "execute_result"
    }
   ],
   "source": [
    "model.score(X_train, y_train)"
   ]
  },
  {
   "cell_type": "code",
   "execution_count": 15,
   "metadata": {
    "colab": {
     "base_uri": "https://localhost:8080/"
    },
    "executionInfo": {
     "elapsed": 325,
     "status": "ok",
     "timestamp": 1629183101837,
     "user": {
      "displayName": "Kanabadee Srisomboon",
      "photoUrl": "",
      "userId": "05820637008444812644"
     },
     "user_tz": -420
    },
    "id": "tDGHXF23w3wp",
    "outputId": "fc59ac61-811e-4c87-c0e3-639cf8c3f460"
   },
   "outputs": [
    {
     "data": {
      "text/plain": [
       "1.0"
      ]
     },
     "execution_count": 15,
     "metadata": {
      "tags": []
     },
     "output_type": "execute_result"
    }
   ],
   "source": [
    "model.score(X_test, y_test)"
   ]
  },
  {
   "cell_type": "markdown",
   "metadata": {
    "id": "VgD9vlLE16Nn"
   },
   "source": [
    "ทดลองทดสอบประสิทธิภาพแบบจำลองด้วย cross validation"
   ]
  },
  {
   "cell_type": "code",
   "execution_count": 16,
   "metadata": {
    "executionInfo": {
     "elapsed": 497,
     "status": "ok",
     "timestamp": 1629183129112,
     "user": {
      "displayName": "Kanabadee Srisomboon",
      "photoUrl": "",
      "userId": "05820637008444812644"
     },
     "user_tz": -420
    },
    "id": "__eGUxG01_jY"
   },
   "outputs": [],
   "source": [
    "from sklearn.model_selection import cross_val_score "
   ]
  },
  {
   "cell_type": "code",
   "execution_count": 17,
   "metadata": {
    "colab": {
     "base_uri": "https://localhost:8080/"
    },
    "executionInfo": {
     "elapsed": 359,
     "status": "ok",
     "timestamp": 1629183132745,
     "user": {
      "displayName": "Kanabadee Srisomboon",
      "photoUrl": "",
      "userId": "05820637008444812644"
     },
     "user_tz": -420
    },
    "id": "pr11B_fZ2JjD",
    "outputId": "60ac5307-1cc3-445a-abf5-9feb427c73b9"
   },
   "outputs": [
    {
     "data": {
      "text/plain": [
       "array([1.        , 0.83333333, 0.91666667, 0.95833333, 0.95833333])"
      ]
     },
     "execution_count": 17,
     "metadata": {
      "tags": []
     },
     "output_type": "execute_result"
    }
   ],
   "source": [
    "scores = cross_val_score(model, X_train, y_train, cv=5, scoring='accuracy')\n",
    "scores"
   ]
  },
  {
   "cell_type": "markdown",
   "metadata": {
    "id": "Evm7LJEV2spt"
   },
   "source": [
    "เเสดงค่าเฉลี่ยเเละค่าเบี่ยงเบนมาตรฐานของประสิทธิภาพ"
   ]
  },
  {
   "cell_type": "code",
   "execution_count": 18,
   "metadata": {
    "colab": {
     "base_uri": "https://localhost:8080/"
    },
    "executionInfo": {
     "elapsed": 333,
     "status": "ok",
     "timestamp": 1629183150597,
     "user": {
      "displayName": "Kanabadee Srisomboon",
      "photoUrl": "",
      "userId": "05820637008444812644"
     },
     "user_tz": -420
    },
    "id": "E6gNQhDK20W6",
    "outputId": "b6b95cde-d0db-494f-bbfa-6c45829a3365"
   },
   "outputs": [
    {
     "name": "stdout",
     "output_type": "stream",
     "text": [
      "Accuracy: 0.933 (0.057)\n"
     ]
    }
   ],
   "source": [
    "from numpy import mean, std\n",
    "print('Accuracy: %.3f (%.3f)' % (mean(scores), std(scores)))"
   ]
  },
  {
   "cell_type": "markdown",
   "metadata": {
    "id": "xDTbwKfoqKst"
   },
   "source": [
    "ทดลองเเสดงค่าผลทำนายจากชุดข้อมูลทดสอบ\n"
   ]
  },
  {
   "cell_type": "code",
   "execution_count": 19,
   "metadata": {
    "executionInfo": {
     "elapsed": 349,
     "status": "ok",
     "timestamp": 1629183171633,
     "user": {
      "displayName": "Kanabadee Srisomboon",
      "photoUrl": "",
      "userId": "05820637008444812644"
     },
     "user_tz": -420
    },
    "id": "Oia8yjcpqKT-"
   },
   "outputs": [],
   "source": [
    "predicted = model.predict(X_test)"
   ]
  },
  {
   "cell_type": "markdown",
   "metadata": {
    "id": "C4aj2NFt5pP7"
   },
   "source": [
    "ทดลองเเสดงประสิทธิภาพแบบจำลอง"
   ]
  },
  {
   "cell_type": "code",
   "execution_count": 20,
   "metadata": {
    "colab": {
     "base_uri": "https://localhost:8080/"
    },
    "executionInfo": {
     "elapsed": 349,
     "status": "ok",
     "timestamp": 1629183177355,
     "user": {
      "displayName": "Kanabadee Srisomboon",
      "photoUrl": "",
      "userId": "05820637008444812644"
     },
     "user_tz": -420
    },
    "id": "Sb8Iucgt4jVg",
    "outputId": "273f5126-b7db-4e82-ec40-67811243cab0"
   },
   "outputs": [
    {
     "name": "stdout",
     "output_type": "stream",
     "text": [
      "                 precision    recall  f1-score   support\n",
      "\n",
      "    Iris-setosa      1.000     1.000     1.000         6\n",
      "Iris-versicolor      1.000     1.000     1.000        11\n",
      " Iris-virginica      1.000     1.000     1.000        13\n",
      "\n",
      "       accuracy                          1.000        30\n",
      "      macro avg      1.000     1.000     1.000        30\n",
      "   weighted avg      1.000     1.000     1.000        30\n",
      "\n"
     ]
    }
   ],
   "source": [
    "from sklearn import metrics\n",
    "print(metrics.classification_report(y_test,predicted,target_names=df.Class.unique(), digits=3))"
   ]
  },
  {
   "cell_type": "markdown",
   "metadata": {
    "id": "Mhnzn1D1y05d"
   },
   "source": [
    "ทดสอบทำนายผลด้วยค่ากำหนดเอง เช่น"
   ]
  },
  {
   "cell_type": "code",
   "execution_count": 22,
   "metadata": {
    "executionInfo": {
     "elapsed": 3,
     "status": "ok",
     "timestamp": 1629183214239,
     "user": {
      "displayName": "Kanabadee Srisomboon",
      "photoUrl": "",
      "userId": "05820637008444812644"
     },
     "user_tz": -420
    },
    "id": "XhqV9ZGZy-rE"
   },
   "outputs": [],
   "source": [
    "predicted = model.predict([\n",
    "[5, 3, 1.2, .3],\n",
    "[5.432, 3.1, 2.3, .7],\n",
    "[6.5, 3, 5, 2]\n",
    "              ])"
   ]
  },
  {
   "cell_type": "code",
   "execution_count": 23,
   "metadata": {
    "executionInfo": {
     "elapsed": 2,
     "status": "ok",
     "timestamp": 1629183215605,
     "user": {
      "displayName": "Kanabadee Srisomboon",
      "photoUrl": "",
      "userId": "05820637008444812644"
     },
     "user_tz": -420
    },
    "id": "qhuJkiHczbmD"
   },
   "outputs": [],
   "source": [
    "y_solution = ['Iris-setosa', 'Iris-versicolor', 'Iris-virginica']"
   ]
  },
  {
   "cell_type": "markdown",
   "metadata": {
    "id": "UwG01EnuxxM7"
   },
   "source": [
    "ทดลองเเสดงค่าที่ทำนายผลถูก"
   ]
  },
  {
   "cell_type": "code",
   "execution_count": 24,
   "metadata": {
    "colab": {
     "base_uri": "https://localhost:8080/",
     "height": 111
    },
    "executionInfo": {
     "elapsed": 5,
     "status": "ok",
     "timestamp": 1629183217368,
     "user": {
      "displayName": "Kanabadee Srisomboon",
      "photoUrl": "",
      "userId": "05820637008444812644"
     },
     "user_tz": -420
    },
    "id": "AM5kI1qgx1Hi",
    "outputId": "3ba95edf-d559-433a-a3c6-06083351fcf6"
   },
   "outputs": [
    {
     "data": {
      "text/html": [
       "<div>\n",
       "<style scoped>\n",
       "    .dataframe tbody tr th:only-of-type {\n",
       "        vertical-align: middle;\n",
       "    }\n",
       "\n",
       "    .dataframe tbody tr th {\n",
       "        vertical-align: top;\n",
       "    }\n",
       "\n",
       "    .dataframe thead th {\n",
       "        text-align: right;\n",
       "    }\n",
       "</style>\n",
       "<table border=\"1\" class=\"dataframe\">\n",
       "  <thead>\n",
       "    <tr style=\"text-align: right;\">\n",
       "      <th></th>\n",
       "      <th>y_true</th>\n",
       "      <th>y_pred</th>\n",
       "    </tr>\n",
       "  </thead>\n",
       "  <tbody>\n",
       "    <tr>\n",
       "      <th>0</th>\n",
       "      <td>Iris-setosa</td>\n",
       "      <td>Iris-setosa</td>\n",
       "    </tr>\n",
       "    <tr>\n",
       "      <th>2</th>\n",
       "      <td>Iris-virginica</td>\n",
       "      <td>Iris-virginica</td>\n",
       "    </tr>\n",
       "  </tbody>\n",
       "</table>\n",
       "</div>"
      ],
      "text/plain": [
       "           y_true          y_pred\n",
       "0     Iris-setosa     Iris-setosa\n",
       "2  Iris-virginica  Iris-virginica"
      ]
     },
     "execution_count": 24,
     "metadata": {
      "tags": []
     },
     "output_type": "execute_result"
    }
   ],
   "source": [
    "dx=pd.DataFrame({'y_true': y_solution, 'y_pred': predicted})\n",
    "dx[dx.y_true == dx.y_pred]"
   ]
  },
  {
   "cell_type": "markdown",
   "metadata": {
    "id": "874yT_hsx_cW"
   },
   "source": [
    "ทดลองเเสดงค่าที่ทำนายผลผิด"
   ]
  },
  {
   "cell_type": "code",
   "execution_count": 25,
   "metadata": {
    "colab": {
     "base_uri": "https://localhost:8080/",
     "height": 80
    },
    "executionInfo": {
     "elapsed": 330,
     "status": "ok",
     "timestamp": 1629183233166,
     "user": {
      "displayName": "Kanabadee Srisomboon",
      "photoUrl": "",
      "userId": "05820637008444812644"
     },
     "user_tz": -420
    },
    "id": "U9LgB0Y3xt6M",
    "outputId": "8ba2aff7-318e-4b6a-bc99-689cbbd420ea"
   },
   "outputs": [
    {
     "data": {
      "text/html": [
       "<div>\n",
       "<style scoped>\n",
       "    .dataframe tbody tr th:only-of-type {\n",
       "        vertical-align: middle;\n",
       "    }\n",
       "\n",
       "    .dataframe tbody tr th {\n",
       "        vertical-align: top;\n",
       "    }\n",
       "\n",
       "    .dataframe thead th {\n",
       "        text-align: right;\n",
       "    }\n",
       "</style>\n",
       "<table border=\"1\" class=\"dataframe\">\n",
       "  <thead>\n",
       "    <tr style=\"text-align: right;\">\n",
       "      <th></th>\n",
       "      <th>y_true</th>\n",
       "      <th>y_pred</th>\n",
       "    </tr>\n",
       "  </thead>\n",
       "  <tbody>\n",
       "    <tr>\n",
       "      <th>1</th>\n",
       "      <td>Iris-versicolor</td>\n",
       "      <td>Iris-setosa</td>\n",
       "    </tr>\n",
       "  </tbody>\n",
       "</table>\n",
       "</div>"
      ],
      "text/plain": [
       "            y_true       y_pred\n",
       "1  Iris-versicolor  Iris-setosa"
      ]
     },
     "execution_count": 25,
     "metadata": {
      "tags": []
     },
     "output_type": "execute_result"
    }
   ],
   "source": [
    "dx=pd.DataFrame({'y_true': y_solution, 'y_pred': predicted})\n",
    "# dx\n",
    "dx[dx.y_true != dx.y_pred]"
   ]
  },
  {
   "cell_type": "markdown",
   "metadata": {
    "id": "84YzkCUh52va"
   },
   "source": [
    "ทดลองหาค่า k ที่เหมาะสมที่สุด\n"
   ]
  },
  {
   "cell_type": "code",
   "execution_count": 26,
   "metadata": {
    "executionInfo": {
     "elapsed": 322,
     "status": "ok",
     "timestamp": 1629183319675,
     "user": {
      "displayName": "Kanabadee Srisomboon",
      "photoUrl": "",
      "userId": "05820637008444812644"
     },
     "user_tz": -420
    },
    "id": "AxP1ong7518z"
   },
   "outputs": [],
   "source": [
    "# กำหนดช่วงค่า K ที่ต้องการทดสอบให้เท่ากับ 1 ถึง 25\n",
    "k_list = list(range(1,25+1))\n",
    "k_values = dict(n_neighbors=k_list)"
   ]
  },
  {
   "cell_type": "markdown",
   "metadata": {
    "id": "DKY78d1Z6m5M"
   },
   "source": [
    "**ปรับจูนพารามิเตอร์ของแบบจำลองโดยใช้ Library ชื่อ GridSearchCV ของ scikit-learn เพื่อทดสอบประสิทธิภาพของแบบจำลองสำหรับค่าพารามิเตอร์ต่าง ๆ ร่วมกับการประเมินผลด้วย cross-validation**"
   ]
  },
  {
   "cell_type": "code",
   "execution_count": 27,
   "metadata": {
    "executionInfo": {
     "elapsed": 341,
     "status": "ok",
     "timestamp": 1629183321722,
     "user": {
      "displayName": "Kanabadee Srisomboon",
      "photoUrl": "",
      "userId": "05820637008444812644"
     },
     "user_tz": -420
    },
    "id": "DCyEwvNR7HIn"
   },
   "outputs": [],
   "source": [
    "from sklearn.model_selection import GridSearchCV\n",
    "grid = GridSearchCV(model, k_values, cv=5, scoring='accuracy')"
   ]
  },
  {
   "cell_type": "markdown",
   "metadata": {
    "id": "sbPwAQW77Win"
   },
   "source": [
    "เรียนรู้แบบจำลอง"
   ]
  },
  {
   "cell_type": "code",
   "execution_count": 28,
   "metadata": {
    "colab": {
     "base_uri": "https://localhost:8080/"
    },
    "executionInfo": {
     "elapsed": 876,
     "status": "ok",
     "timestamp": 1629183342169,
     "user": {
      "displayName": "Kanabadee Srisomboon",
      "photoUrl": "",
      "userId": "05820637008444812644"
     },
     "user_tz": -420
    },
    "id": "6YNy--vV7Zow",
    "outputId": "c5259587-623d-492a-a7c8-9e96ebd6aa1f"
   },
   "outputs": [
    {
     "data": {
      "text/plain": [
       "GridSearchCV(cv=5, error_score=nan,\n",
       "             estimator=KNeighborsClassifier(algorithm='auto', leaf_size=30,\n",
       "                                            metric='minkowski',\n",
       "                                            metric_params=None, n_jobs=None,\n",
       "                                            n_neighbors=5, p=2,\n",
       "                                            weights='uniform'),\n",
       "             iid='deprecated', n_jobs=None,\n",
       "             param_grid={'n_neighbors': [1, 2, 3, 4, 5, 6, 7, 8, 9, 10, 11, 12,\n",
       "                                         13, 14, 15, 16, 17, 18, 19, 20, 21, 22,\n",
       "                                         23, 24, 25]},\n",
       "             pre_dispatch='2*n_jobs', refit=True, return_train_score=False,\n",
       "             scoring='accuracy', verbose=0)"
      ]
     },
     "execution_count": 28,
     "metadata": {
      "tags": []
     },
     "output_type": "execute_result"
    }
   ],
   "source": [
    "grid.fit(df[['SepalLength', 'SepalWidth', 'PetalLength', 'PetalWidth']], df.Class)"
   ]
  },
  {
   "cell_type": "markdown",
   "metadata": {
    "id": "5QNurNxH7vES"
   },
   "source": [
    "เเเสดงค่าประสิทธิภาพที่ได้"
   ]
  },
  {
   "cell_type": "code",
   "execution_count": 29,
   "metadata": {
    "colab": {
     "base_uri": "https://localhost:8080/",
     "height": 309
    },
    "executionInfo": {
     "elapsed": 1049,
     "status": "ok",
     "timestamp": 1629183363105,
     "user": {
      "displayName": "Kanabadee Srisomboon",
      "photoUrl": "",
      "userId": "05820637008444812644"
     },
     "user_tz": -420
    },
    "id": "w5TBNUZJ7y1B",
    "outputId": "d9c690ed-cfae-4cd0-87c8-7fc61c562276"
   },
   "outputs": [
    {
     "data": {
      "text/html": [
       "<div>\n",
       "<style scoped>\n",
       "    .dataframe tbody tr th:only-of-type {\n",
       "        vertical-align: middle;\n",
       "    }\n",
       "\n",
       "    .dataframe tbody tr th {\n",
       "        vertical-align: top;\n",
       "    }\n",
       "\n",
       "    .dataframe thead th {\n",
       "        text-align: right;\n",
       "    }\n",
       "</style>\n",
       "<table border=\"1\" class=\"dataframe\">\n",
       "  <thead>\n",
       "    <tr style=\"text-align: right;\">\n",
       "      <th></th>\n",
       "      <th>mean_fit_time</th>\n",
       "      <th>std_fit_time</th>\n",
       "      <th>mean_score_time</th>\n",
       "      <th>std_score_time</th>\n",
       "      <th>param_n_neighbors</th>\n",
       "      <th>params</th>\n",
       "      <th>split0_test_score</th>\n",
       "      <th>split1_test_score</th>\n",
       "      <th>split2_test_score</th>\n",
       "      <th>split3_test_score</th>\n",
       "      <th>split4_test_score</th>\n",
       "      <th>mean_test_score</th>\n",
       "      <th>std_test_score</th>\n",
       "      <th>rank_test_score</th>\n",
       "    </tr>\n",
       "  </thead>\n",
       "  <tbody>\n",
       "    <tr>\n",
       "      <th>0</th>\n",
       "      <td>0.003523</td>\n",
       "      <td>0.002591</td>\n",
       "      <td>0.003509</td>\n",
       "      <td>0.000872</td>\n",
       "      <td>1</td>\n",
       "      <td>{'n_neighbors': 1}</td>\n",
       "      <td>0.966667</td>\n",
       "      <td>0.966667</td>\n",
       "      <td>0.933333</td>\n",
       "      <td>0.933333</td>\n",
       "      <td>1.0</td>\n",
       "      <td>0.960000</td>\n",
       "      <td>0.024944</td>\n",
       "      <td>19</td>\n",
       "    </tr>\n",
       "    <tr>\n",
       "      <th>1</th>\n",
       "      <td>0.001934</td>\n",
       "      <td>0.000192</td>\n",
       "      <td>0.002900</td>\n",
       "      <td>0.000182</td>\n",
       "      <td>2</td>\n",
       "      <td>{'n_neighbors': 2}</td>\n",
       "      <td>0.966667</td>\n",
       "      <td>0.933333</td>\n",
       "      <td>0.933333</td>\n",
       "      <td>0.900000</td>\n",
       "      <td>1.0</td>\n",
       "      <td>0.946667</td>\n",
       "      <td>0.033993</td>\n",
       "      <td>25</td>\n",
       "    </tr>\n",
       "    <tr>\n",
       "      <th>2</th>\n",
       "      <td>0.001927</td>\n",
       "      <td>0.000164</td>\n",
       "      <td>0.002862</td>\n",
       "      <td>0.000206</td>\n",
       "      <td>3</td>\n",
       "      <td>{'n_neighbors': 3}</td>\n",
       "      <td>0.966667</td>\n",
       "      <td>0.966667</td>\n",
       "      <td>0.933333</td>\n",
       "      <td>0.966667</td>\n",
       "      <td>1.0</td>\n",
       "      <td>0.966667</td>\n",
       "      <td>0.021082</td>\n",
       "      <td>10</td>\n",
       "    </tr>\n",
       "    <tr>\n",
       "      <th>3</th>\n",
       "      <td>0.002084</td>\n",
       "      <td>0.000350</td>\n",
       "      <td>0.002889</td>\n",
       "      <td>0.000206</td>\n",
       "      <td>4</td>\n",
       "      <td>{'n_neighbors': 4}</td>\n",
       "      <td>0.966667</td>\n",
       "      <td>0.966667</td>\n",
       "      <td>0.966667</td>\n",
       "      <td>0.966667</td>\n",
       "      <td>1.0</td>\n",
       "      <td>0.973333</td>\n",
       "      <td>0.013333</td>\n",
       "      <td>6</td>\n",
       "    </tr>\n",
       "    <tr>\n",
       "      <th>4</th>\n",
       "      <td>0.001974</td>\n",
       "      <td>0.000150</td>\n",
       "      <td>0.002989</td>\n",
       "      <td>0.000281</td>\n",
       "      <td>5</td>\n",
       "      <td>{'n_neighbors': 5}</td>\n",
       "      <td>0.966667</td>\n",
       "      <td>1.000000</td>\n",
       "      <td>0.933333</td>\n",
       "      <td>0.966667</td>\n",
       "      <td>1.0</td>\n",
       "      <td>0.973333</td>\n",
       "      <td>0.024944</td>\n",
       "      <td>6</td>\n",
       "    </tr>\n",
       "  </tbody>\n",
       "</table>\n",
       "</div>"
      ],
      "text/plain": [
       "   mean_fit_time  std_fit_time  ...  std_test_score  rank_test_score\n",
       "0       0.003523      0.002591  ...        0.024944               19\n",
       "1       0.001934      0.000192  ...        0.033993               25\n",
       "2       0.001927      0.000164  ...        0.021082               10\n",
       "3       0.002084      0.000350  ...        0.013333                6\n",
       "4       0.001974      0.000150  ...        0.024944                6\n",
       "\n",
       "[5 rows x 14 columns]"
      ]
     },
     "execution_count": 29,
     "metadata": {
      "tags": []
     },
     "output_type": "execute_result"
    }
   ],
   "source": [
    "grid.cv_results_\n",
    "grid_table = pd.DataFrame(grid.cv_results_)\n",
    "grid_table.head()"
   ]
  },
  {
   "cell_type": "markdown",
   "metadata": {
    "id": "H70m8iZY8YmV"
   },
   "source": [
    "ทดลองพล็อตกราฟค่าประสิทธิภาพ"
   ]
  },
  {
   "cell_type": "code",
   "execution_count": 30,
   "metadata": {
    "colab": {
     "base_uri": "https://localhost:8080/",
     "height": 368
    },
    "executionInfo": {
     "elapsed": 863,
     "status": "ok",
     "timestamp": 1629183399076,
     "user": {
      "displayName": "Kanabadee Srisomboon",
      "photoUrl": "",
      "userId": "05820637008444812644"
     },
     "user_tz": -420
    },
    "id": "k5uf9hhG8e4g",
    "outputId": "6dd745ad-2f57-430d-be53-fc645c335b34"
   },
   "outputs": [
    {
     "data": {
      "image/png": "[encoded data removed]",
      "text/plain": [
       "<Figure size 720x360 with 1 Axes>"
      ]
     },
     "metadata": {
      "needs_background": "light",
      "tags": []
     },
     "output_type": "display_data"
    }
   ],
   "source": [
    "graphic = grid.cv_results_['mean_test_score']\n",
    "graphic\n",
    "\n",
    "plt.figure(figsize=(10,5))\n",
    "plt.plot(k_list,graphic,color='orange',linestyle='dashed',marker='o')\n",
    "plt.xlabel('K Number of Neighbors', fontdict={'fontsize': 15})\n",
    "plt.ylabel('Accuracy', fontdict={'fontsize': 15})\n",
    "plt.title('K NUMBER X ACCURACY', fontdict={'fontsize': 30})\n",
    "plt.xticks(range(0,26,3),)\n",
    "plt.show()"
   ]
  },
  {
   "cell_type": "markdown",
   "metadata": {
    "id": "lqD2_qLC8CcU"
   },
   "source": [
    "เเสดงค่า k ที่ให้ประสิทธิภาพสูงสุด"
   ]
  },
  {
   "cell_type": "code",
   "execution_count": 31,
   "metadata": {
    "colab": {
     "base_uri": "https://localhost:8080/"
    },
    "executionInfo": {
     "elapsed": 316,
     "status": "ok",
     "timestamp": 1629183427961,
     "user": {
      "displayName": "Kanabadee Srisomboon",
      "photoUrl": "",
      "userId": "05820637008444812644"
     },
     "user_tz": -420
    },
    "id": "MB9af7Ex8FCN",
    "outputId": "5c1c5619-18b8-46ba-80a9-bc8dc6ff7106"
   },
   "outputs": [
    {
     "name": "stdout",
     "output_type": "stream",
     "text": [
      "The best value of k = {'n_neighbors': 6} with 0.9800000000000001 of accuracy.\n"
     ]
    }
   ],
   "source": [
    "print(\"The best value of k = {} with {} of accuracy.\".format(grid.best_params_,grid.best_score_))"
   ]
  }
 ],
 "metadata": {
  "colab": {
   "authorship_tag": "ABX9TyOzqpZcgDUjqroNm5bQHhjO",
   "name": "Chapter 5 K-Nearest Neighbors for iris data.ipynb",
   "provenance": []
  },
  "kernelspec": {
   "display_name": "Python 3 (ipykernel)",
   "language": "python",
   "name": "python3"
  },
  "language_info": {
   "codemirror_mode": {
    "name": "ipython",
    "version": 3
   },
   "file_extension": ".py",
   "mimetype": "text/x-python",
   "name": "python",
   "nbconvert_exporter": "python",
   "pygments_lexer": "ipython3",
   "version": "3.9.12"
  }
 },
 "nbformat": 4,
 "nbformat_minor": 1
}
