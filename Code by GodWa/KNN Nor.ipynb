{
 "cells": [
  {
   "cell_type": "code",
   "execution_count": 1,
   "metadata": {},
   "outputs": [],
   "source": [
    "# เรียกใช้ library สำหรับทำงานประกอบด้วย numpy pandas seaborn เเละ matplotlib\n",
    "import numpy as np\n",
    "import pandas as pd\n",
    "import seaborn as sns \n",
    "import matplotlib.pyplot as plt\n"
   ]
  },
  {
   "cell_type": "code",
   "execution_count": 2,
   "metadata": {},
   "outputs": [
    {
     "data": {
      "text/html": [
       "<div>\n",
       "<style scoped>\n",
       "    .dataframe tbody tr th:only-of-type {\n",
       "        vertical-align: middle;\n",
       "    }\n",
       "\n",
       "    .dataframe tbody tr th {\n",
       "        vertical-align: top;\n",
       "    }\n",
       "\n",
       "    .dataframe thead th {\n",
       "        text-align: right;\n",
       "    }\n",
       "</style>\n",
       "<table border=\"1\" class=\"dataframe\">\n",
       "  <thead>\n",
       "    <tr style=\"text-align: right;\">\n",
       "      <th></th>\n",
       "      <th>Gender</th>\n",
       "      <th>Ever_Married</th>\n",
       "      <th>Age</th>\n",
       "      <th>Graduated</th>\n",
       "      <th>Profession</th>\n",
       "      <th>Work_Experience</th>\n",
       "      <th>Spending_Score</th>\n",
       "      <th>Family_Size</th>\n",
       "      <th>Var_1</th>\n",
       "      <th>Segmentation</th>\n",
       "    </tr>\n",
       "  </thead>\n",
       "  <tbody>\n",
       "    <tr>\n",
       "      <th>0</th>\n",
       "      <td>0.015047</td>\n",
       "      <td>0.000000</td>\n",
       "      <td>0.005260</td>\n",
       "      <td>0.000000</td>\n",
       "      <td>0.003284</td>\n",
       "      <td>0.002718</td>\n",
       "      <td>0.000000</td>\n",
       "      <td>0.012819</td>\n",
       "      <td>0.007649</td>\n",
       "      <td>D</td>\n",
       "    </tr>\n",
       "    <tr>\n",
       "      <th>1</th>\n",
       "      <td>0.000000</td>\n",
       "      <td>0.014676</td>\n",
       "      <td>0.009085</td>\n",
       "      <td>0.014188</td>\n",
       "      <td>0.009852</td>\n",
       "      <td>0.002718</td>\n",
       "      <td>0.012093</td>\n",
       "      <td>0.009614</td>\n",
       "      <td>0.007649</td>\n",
       "      <td>A</td>\n",
       "    </tr>\n",
       "    <tr>\n",
       "      <th>2</th>\n",
       "      <td>0.000000</td>\n",
       "      <td>0.014676</td>\n",
       "      <td>0.016018</td>\n",
       "      <td>0.014188</td>\n",
       "      <td>0.009852</td>\n",
       "      <td>0.002718</td>\n",
       "      <td>0.000000</td>\n",
       "      <td>0.003205</td>\n",
       "      <td>0.012749</td>\n",
       "      <td>B</td>\n",
       "    </tr>\n",
       "    <tr>\n",
       "      <th>3</th>\n",
       "      <td>0.015047</td>\n",
       "      <td>0.014676</td>\n",
       "      <td>0.016018</td>\n",
       "      <td>0.014188</td>\n",
       "      <td>0.016421</td>\n",
       "      <td>0.000000</td>\n",
       "      <td>0.024186</td>\n",
       "      <td>0.006410</td>\n",
       "      <td>0.012749</td>\n",
       "      <td>B</td>\n",
       "    </tr>\n",
       "    <tr>\n",
       "      <th>4</th>\n",
       "      <td>0.000000</td>\n",
       "      <td>0.014676</td>\n",
       "      <td>0.009563</td>\n",
       "      <td>0.014188</td>\n",
       "      <td>0.006568</td>\n",
       "      <td>0.002718</td>\n",
       "      <td>0.024186</td>\n",
       "      <td>0.019229</td>\n",
       "      <td>0.012749</td>\n",
       "      <td>A</td>\n",
       "    </tr>\n",
       "  </tbody>\n",
       "</table>\n",
       "</div>"
      ],
      "text/plain": [
       "     Gender  Ever_Married       Age  Graduated  Profession  Work_Experience  \\\n",
       "0  0.015047      0.000000  0.005260   0.000000    0.003284         0.002718   \n",
       "1  0.000000      0.014676  0.009085   0.014188    0.009852         0.002718   \n",
       "2  0.000000      0.014676  0.016018   0.014188    0.009852         0.002718   \n",
       "3  0.015047      0.014676  0.016018   0.014188    0.016421         0.000000   \n",
       "4  0.000000      0.014676  0.009563   0.014188    0.006568         0.002718   \n",
       "\n",
       "   Spending_Score  Family_Size     Var_1 Segmentation  \n",
       "0        0.000000     0.012819  0.007649            D  \n",
       "1        0.012093     0.009614  0.007649            A  \n",
       "2        0.000000     0.003205  0.012749            B  \n",
       "3        0.024186     0.006410  0.012749            B  \n",
       "4        0.024186     0.019229  0.012749            A  "
      ]
     },
     "execution_count": 2,
     "metadata": {},
     "output_type": "execute_result"
    }
   ],
   "source": [
    "# อ่านข้อมูลไฟล์ csv จาก https://raw.githubusercontent.com/nawinpoyen7/MachineLearning/main/DataSet/DataChange.csv\n",
    "# และเเสดง 5 ตัวอย่างเเรก เพื่อตรวจสอบข้อมูล\n",
    "url='https://raw.githubusercontent.com/nawinpoyen7/MachineLearning/main/DataSet/CombDataSet.csv'\n",
    "df=pd.read_csv(url)\n",
    "df.head(5)"
   ]
  },
  {
   "cell_type": "code",
   "execution_count": 3,
   "metadata": {},
   "outputs": [
    {
     "name": "stdout",
     "output_type": "stream",
     "text": [
      "<class 'pandas.core.frame.DataFrame'>\n",
      "RangeIndex: 8068 entries, 0 to 8067\n",
      "Data columns (total 10 columns):\n",
      " #   Column           Non-Null Count  Dtype  \n",
      "---  ------           --------------  -----  \n",
      " 0   Gender           8068 non-null   float64\n",
      " 1   Ever_Married     8068 non-null   float64\n",
      " 2   Age              8068 non-null   float64\n",
      " 3   Graduated        8068 non-null   float64\n",
      " 4   Profession       8068 non-null   float64\n",
      " 5   Work_Experience  8068 non-null   float64\n",
      " 6   Spending_Score   8068 non-null   float64\n",
      " 7   Family_Size      8068 non-null   float64\n",
      " 8   Var_1            8068 non-null   float64\n",
      " 9   Segmentation     8068 non-null   object \n",
      "dtypes: float64(9), object(1)\n",
      "memory usage: 630.4+ KB\n"
     ]
    }
   ],
   "source": [
    "df.info()"
   ]
  },
  {
   "cell_type": "code",
   "execution_count": 4,
   "metadata": {},
   "outputs": [
    {
     "data": {
      "text/plain": [
       "D    2268\n",
       "A    1972\n",
       "C    1970\n",
       "B    1858\n",
       "Name: Segmentation, dtype: int64"
      ]
     },
     "execution_count": 4,
     "metadata": {},
     "output_type": "execute_result"
    }
   ],
   "source": [
    "df.Segmentation.value_counts()"
   ]
  },
  {
   "cell_type": "code",
   "execution_count": 5,
   "metadata": {},
   "outputs": [
    {
     "data": {
      "text/plain": [
       "Index(['Gender', 'Ever_Married', 'Age', 'Graduated', 'Profession',\n",
       "       'Work_Experience', 'Spending_Score', 'Family_Size', 'Var_1',\n",
       "       'Segmentation'],\n",
       "      dtype='object')"
      ]
     },
     "execution_count": 5,
     "metadata": {},
     "output_type": "execute_result"
    }
   ],
   "source": [
    "df.columns"
   ]
  },
  {
   "cell_type": "code",
   "execution_count": 6,
   "metadata": {},
   "outputs": [
    {
     "data": {
      "text/html": [
       "<div>\n",
       "<style scoped>\n",
       "    .dataframe tbody tr th:only-of-type {\n",
       "        vertical-align: middle;\n",
       "    }\n",
       "\n",
       "    .dataframe tbody tr th {\n",
       "        vertical-align: top;\n",
       "    }\n",
       "\n",
       "    .dataframe thead th {\n",
       "        text-align: right;\n",
       "    }\n",
       "</style>\n",
       "<table border=\"1\" class=\"dataframe\">\n",
       "  <thead>\n",
       "    <tr style=\"text-align: right;\">\n",
       "      <th></th>\n",
       "      <th>Gender</th>\n",
       "      <th>Ever_Married</th>\n",
       "      <th>Age</th>\n",
       "      <th>Graduated</th>\n",
       "      <th>Profession</th>\n",
       "      <th>Work_Experience</th>\n",
       "      <th>Spending_Score</th>\n",
       "      <th>Family_Size</th>\n",
       "      <th>Var_1</th>\n",
       "    </tr>\n",
       "    <tr>\n",
       "      <th>Segmentation</th>\n",
       "      <th></th>\n",
       "      <th></th>\n",
       "      <th></th>\n",
       "      <th></th>\n",
       "      <th></th>\n",
       "      <th></th>\n",
       "      <th></th>\n",
       "      <th></th>\n",
       "      <th></th>\n",
       "    </tr>\n",
       "  </thead>\n",
       "  <tbody>\n",
       "    <tr>\n",
       "      <th>A</th>\n",
       "      <td>0.008111</td>\n",
       "      <td>0.008462</td>\n",
       "      <td>0.010740</td>\n",
       "      <td>0.008770</td>\n",
       "      <td>0.008813</td>\n",
       "      <td>0.007312</td>\n",
       "      <td>0.005427</td>\n",
       "      <td>0.008522</td>\n",
       "      <td>0.010385</td>\n",
       "    </tr>\n",
       "    <tr>\n",
       "      <th>B</th>\n",
       "      <td>0.008074</td>\n",
       "      <td>0.010647</td>\n",
       "      <td>0.011523</td>\n",
       "      <td>0.010171</td>\n",
       "      <td>0.007654</td>\n",
       "      <td>0.006077</td>\n",
       "      <td>0.008839</td>\n",
       "      <td>0.008962</td>\n",
       "      <td>0.010582</td>\n",
       "    </tr>\n",
       "    <tr>\n",
       "      <th>C</th>\n",
       "      <td>0.008004</td>\n",
       "      <td>0.011539</td>\n",
       "      <td>0.011749</td>\n",
       "      <td>0.011573</td>\n",
       "      <td>0.005895</td>\n",
       "      <td>0.005825</td>\n",
       "      <td>0.010515</td>\n",
       "      <td>0.009821</td>\n",
       "      <td>0.011171</td>\n",
       "    </tr>\n",
       "    <tr>\n",
       "      <th>D</th>\n",
       "      <td>0.008684</td>\n",
       "      <td>0.003941</td>\n",
       "      <td>0.007983</td>\n",
       "      <td>0.005067</td>\n",
       "      <td>0.009068</td>\n",
       "      <td>0.007516</td>\n",
       "      <td>0.002399</td>\n",
       "      <td>0.011174</td>\n",
       "      <td>0.010045</td>\n",
       "    </tr>\n",
       "  </tbody>\n",
       "</table>\n",
       "</div>"
      ],
      "text/plain": [
       "                Gender  Ever_Married       Age  Graduated  Profession  \\\n",
       "Segmentation                                                            \n",
       "A             0.008111      0.008462  0.010740   0.008770    0.008813   \n",
       "B             0.008074      0.010647  0.011523   0.010171    0.007654   \n",
       "C             0.008004      0.011539  0.011749   0.011573    0.005895   \n",
       "D             0.008684      0.003941  0.007983   0.005067    0.009068   \n",
       "\n",
       "              Work_Experience  Spending_Score  Family_Size     Var_1  \n",
       "Segmentation                                                          \n",
       "A                    0.007312        0.005427     0.008522  0.010385  \n",
       "B                    0.006077        0.008839     0.008962  0.010582  \n",
       "C                    0.005825        0.010515     0.009821  0.011171  \n",
       "D                    0.007516        0.002399     0.011174  0.010045  "
      ]
     },
     "execution_count": 6,
     "metadata": {},
     "output_type": "execute_result"
    }
   ],
   "source": [
    "df.groupby('Segmentation').mean()"
   ]
  },
  {
   "cell_type": "code",
   "execution_count": 7,
   "metadata": {},
   "outputs": [
    {
     "data": {
      "text/html": [
       "<div>\n",
       "<style scoped>\n",
       "    .dataframe tbody tr th:only-of-type {\n",
       "        vertical-align: middle;\n",
       "    }\n",
       "\n",
       "    .dataframe tbody tr th {\n",
       "        vertical-align: top;\n",
       "    }\n",
       "\n",
       "    .dataframe thead th {\n",
       "        text-align: right;\n",
       "    }\n",
       "</style>\n",
       "<table border=\"1\" class=\"dataframe\">\n",
       "  <thead>\n",
       "    <tr style=\"text-align: right;\">\n",
       "      <th></th>\n",
       "      <th>Gender</th>\n",
       "      <th>Ever_Married</th>\n",
       "      <th>Age</th>\n",
       "      <th>Graduated</th>\n",
       "      <th>Profession</th>\n",
       "      <th>Work_Experience</th>\n",
       "      <th>Spending_Score</th>\n",
       "      <th>Family_Size</th>\n",
       "      <th>Var_1</th>\n",
       "    </tr>\n",
       "    <tr>\n",
       "      <th>Segmentation</th>\n",
       "      <th></th>\n",
       "      <th></th>\n",
       "      <th></th>\n",
       "      <th></th>\n",
       "      <th></th>\n",
       "      <th></th>\n",
       "      <th></th>\n",
       "      <th></th>\n",
       "      <th></th>\n",
       "    </tr>\n",
       "  </thead>\n",
       "  <tbody>\n",
       "    <tr>\n",
       "      <th>A</th>\n",
       "      <td>0.015047</td>\n",
       "      <td>0.014676</td>\n",
       "      <td>0.021277</td>\n",
       "      <td>0.014188</td>\n",
       "      <td>0.026273</td>\n",
       "      <td>0.038054</td>\n",
       "      <td>0.024186</td>\n",
       "      <td>0.028843</td>\n",
       "      <td>0.015299</td>\n",
       "    </tr>\n",
       "    <tr>\n",
       "      <th>B</th>\n",
       "      <td>0.015047</td>\n",
       "      <td>0.014676</td>\n",
       "      <td>0.021277</td>\n",
       "      <td>0.014188</td>\n",
       "      <td>0.026273</td>\n",
       "      <td>0.038054</td>\n",
       "      <td>0.024186</td>\n",
       "      <td>0.028843</td>\n",
       "      <td>0.015299</td>\n",
       "    </tr>\n",
       "    <tr>\n",
       "      <th>C</th>\n",
       "      <td>0.015047</td>\n",
       "      <td>0.014676</td>\n",
       "      <td>0.021277</td>\n",
       "      <td>0.014188</td>\n",
       "      <td>0.026273</td>\n",
       "      <td>0.038054</td>\n",
       "      <td>0.024186</td>\n",
       "      <td>0.028843</td>\n",
       "      <td>0.015299</td>\n",
       "    </tr>\n",
       "    <tr>\n",
       "      <th>D</th>\n",
       "      <td>0.015047</td>\n",
       "      <td>0.014676</td>\n",
       "      <td>0.021277</td>\n",
       "      <td>0.014188</td>\n",
       "      <td>0.026273</td>\n",
       "      <td>0.038054</td>\n",
       "      <td>0.024186</td>\n",
       "      <td>0.028843</td>\n",
       "      <td>0.015299</td>\n",
       "    </tr>\n",
       "  </tbody>\n",
       "</table>\n",
       "</div>"
      ],
      "text/plain": [
       "                Gender  Ever_Married       Age  Graduated  Profession  \\\n",
       "Segmentation                                                            \n",
       "A             0.015047      0.014676  0.021277   0.014188    0.026273   \n",
       "B             0.015047      0.014676  0.021277   0.014188    0.026273   \n",
       "C             0.015047      0.014676  0.021277   0.014188    0.026273   \n",
       "D             0.015047      0.014676  0.021277   0.014188    0.026273   \n",
       "\n",
       "              Work_Experience  Spending_Score  Family_Size     Var_1  \n",
       "Segmentation                                                          \n",
       "A                    0.038054        0.024186     0.028843  0.015299  \n",
       "B                    0.038054        0.024186     0.028843  0.015299  \n",
       "C                    0.038054        0.024186     0.028843  0.015299  \n",
       "D                    0.038054        0.024186     0.028843  0.015299  "
      ]
     },
     "execution_count": 7,
     "metadata": {},
     "output_type": "execute_result"
    }
   ],
   "source": [
    "df.groupby('Segmentation').max()"
   ]
  },
  {
   "cell_type": "code",
   "execution_count": 8,
   "metadata": {},
   "outputs": [
    {
     "data": {
      "text/html": [
       "<div>\n",
       "<style scoped>\n",
       "    .dataframe tbody tr th:only-of-type {\n",
       "        vertical-align: middle;\n",
       "    }\n",
       "\n",
       "    .dataframe tbody tr th {\n",
       "        vertical-align: top;\n",
       "    }\n",
       "\n",
       "    .dataframe thead th {\n",
       "        text-align: right;\n",
       "    }\n",
       "</style>\n",
       "<table border=\"1\" class=\"dataframe\">\n",
       "  <thead>\n",
       "    <tr style=\"text-align: right;\">\n",
       "      <th></th>\n",
       "      <th>Gender</th>\n",
       "      <th>Ever_Married</th>\n",
       "      <th>Age</th>\n",
       "      <th>Graduated</th>\n",
       "      <th>Profession</th>\n",
       "      <th>Work_Experience</th>\n",
       "      <th>Spending_Score</th>\n",
       "      <th>Family_Size</th>\n",
       "      <th>Var_1</th>\n",
       "    </tr>\n",
       "    <tr>\n",
       "      <th>Segmentation</th>\n",
       "      <th></th>\n",
       "      <th></th>\n",
       "      <th></th>\n",
       "      <th></th>\n",
       "      <th></th>\n",
       "      <th></th>\n",
       "      <th></th>\n",
       "      <th></th>\n",
       "      <th></th>\n",
       "    </tr>\n",
       "  </thead>\n",
       "  <tbody>\n",
       "    <tr>\n",
       "      <th>A</th>\n",
       "      <td>0.0</td>\n",
       "      <td>0.0</td>\n",
       "      <td>0.004303</td>\n",
       "      <td>0.0</td>\n",
       "      <td>0.0</td>\n",
       "      <td>0.0</td>\n",
       "      <td>0.0</td>\n",
       "      <td>0.003205</td>\n",
       "      <td>0.0</td>\n",
       "    </tr>\n",
       "    <tr>\n",
       "      <th>B</th>\n",
       "      <td>0.0</td>\n",
       "      <td>0.0</td>\n",
       "      <td>0.004303</td>\n",
       "      <td>0.0</td>\n",
       "      <td>0.0</td>\n",
       "      <td>0.0</td>\n",
       "      <td>0.0</td>\n",
       "      <td>0.003205</td>\n",
       "      <td>0.0</td>\n",
       "    </tr>\n",
       "    <tr>\n",
       "      <th>C</th>\n",
       "      <td>0.0</td>\n",
       "      <td>0.0</td>\n",
       "      <td>0.004303</td>\n",
       "      <td>0.0</td>\n",
       "      <td>0.0</td>\n",
       "      <td>0.0</td>\n",
       "      <td>0.0</td>\n",
       "      <td>0.003205</td>\n",
       "      <td>0.0</td>\n",
       "    </tr>\n",
       "    <tr>\n",
       "      <th>D</th>\n",
       "      <td>0.0</td>\n",
       "      <td>0.0</td>\n",
       "      <td>0.004303</td>\n",
       "      <td>0.0</td>\n",
       "      <td>0.0</td>\n",
       "      <td>0.0</td>\n",
       "      <td>0.0</td>\n",
       "      <td>0.003205</td>\n",
       "      <td>0.0</td>\n",
       "    </tr>\n",
       "  </tbody>\n",
       "</table>\n",
       "</div>"
      ],
      "text/plain": [
       "              Gender  Ever_Married       Age  Graduated  Profession  \\\n",
       "Segmentation                                                          \n",
       "A                0.0           0.0  0.004303        0.0         0.0   \n",
       "B                0.0           0.0  0.004303        0.0         0.0   \n",
       "C                0.0           0.0  0.004303        0.0         0.0   \n",
       "D                0.0           0.0  0.004303        0.0         0.0   \n",
       "\n",
       "              Work_Experience  Spending_Score  Family_Size  Var_1  \n",
       "Segmentation                                                       \n",
       "A                         0.0             0.0     0.003205    0.0  \n",
       "B                         0.0             0.0     0.003205    0.0  \n",
       "C                         0.0             0.0     0.003205    0.0  \n",
       "D                         0.0             0.0     0.003205    0.0  "
      ]
     },
     "execution_count": 8,
     "metadata": {},
     "output_type": "execute_result"
    }
   ],
   "source": [
    "df.groupby('Segmentation').min()"
   ]
  },
  {
   "cell_type": "code",
   "execution_count": 9,
   "metadata": {},
   "outputs": [],
   "source": [
    "Vals=['Gender','Ever_Married','Age','Graduated','Profession','Work_Experience','Spending_Score','Family_Size','Var_1']"
   ]
  },
  {
   "cell_type": "code",
   "execution_count": 10,
   "metadata": {},
   "outputs": [],
   "source": [
    "#sns.pairplot(data=df,hue='Segmentation');"
   ]
  },
  {
   "cell_type": "code",
   "execution_count": 11,
   "metadata": {},
   "outputs": [],
   "source": [
    "# ในตัวอย่างนี้เลือกพิจารณาเพียง 4 หัวข้อ (Age) (Work_Experience)(Spending_Score)(Family_Size)\n",
    "#value=['Gender', 'Ever_Married', 'Age', 'Graduated', 'Profession', 'Spending_Score', 'Family_Size']\n",
    "# สร้างตัวเเปร ชื่อ value เพื่อเก็บตัวเเปรที่สนใน ได้เเก่ 'Gender', 'Ever_Married', 'Age', 'Graduated', 'Profession', 'Spending_Score', 'Family_Size'\n",
    "# sns.pairplot(data=df,hue='Segmentation');"
   ]
  },
  {
   "cell_type": "code",
   "execution_count": 12,
   "metadata": {},
   "outputs": [],
   "source": [
    "# จัดกลุ่มข้อมูล (Classification) ด้วยวิธี K-Nearest Neighbours โดยใช้ library ของ scikit learn\n",
    "# นำเข้าคลาสของ KNeighborsClassifier StandardScaler เเละ train_test_split จาก scikit learn โดย\n",
    "from sklearn.model_selection import train_test_split\n",
    "from sklearn.neighbors import KNeighborsClassifier\n",
    "from sklearn.preprocessing import StandardScaler # ปรับช่วงข้อมูลด้วยวิธี standardization"
   ]
  },
  {
   "cell_type": "code",
   "execution_count": 13,
   "metadata": {},
   "outputs": [
    {
     "data": {
      "text/plain": [
       "Index(['Gender', 'Ever_Married', 'Age', 'Graduated', 'Profession',\n",
       "       'Work_Experience', 'Spending_Score', 'Family_Size', 'Var_1',\n",
       "       'Segmentation'],\n",
       "      dtype='object')"
      ]
     },
     "execution_count": 13,
     "metadata": {},
     "output_type": "execute_result"
    }
   ],
   "source": [
    "# เเสดงหัวข้อในเเต่ละคอลัมน์ของฐานข้อมูล\n",
    "df.columns"
   ]
  },
  {
   "cell_type": "code",
   "execution_count": 14,
   "metadata": {},
   "outputs": [],
   "source": [
    "# แบ่งชุดข้อมูลออกเป็นชุดฝึกฝนเเละชุดทดสอบ\n",
    "test_size=0.25 \n",
    "x_train, x_test, y_train, y_test = train_test_split(\n",
    "    df[['Age', 'Spending_Score', 'Profession', 'Gender', 'Var_1']], \n",
    "    df.Segmentation, \n",
    "    test_size=test_size, random_state=7)"
   ]
  },
  {
   "cell_type": "code",
   "execution_count": 15,
   "metadata": {},
   "outputs": [
    {
     "data": {
      "text/plain": [
       "6349    B\n",
       "7275    D\n",
       "1690    B\n",
       "1328    C\n",
       "7616    D\n",
       "Name: Segmentation, dtype: object"
      ]
     },
     "execution_count": 15,
     "metadata": {},
     "output_type": "execute_result"
    }
   ],
   "source": [
    "y_train.head()"
   ]
  },
  {
   "cell_type": "code",
   "execution_count": 16,
   "metadata": {},
   "outputs": [
    {
     "data": {
      "text/html": [
       "<div>\n",
       "<style scoped>\n",
       "    .dataframe tbody tr th:only-of-type {\n",
       "        vertical-align: middle;\n",
       "    }\n",
       "\n",
       "    .dataframe tbody tr th {\n",
       "        vertical-align: top;\n",
       "    }\n",
       "\n",
       "    .dataframe thead th {\n",
       "        text-align: right;\n",
       "    }\n",
       "</style>\n",
       "<table border=\"1\" class=\"dataframe\">\n",
       "  <thead>\n",
       "    <tr style=\"text-align: right;\">\n",
       "      <th></th>\n",
       "      <th>Age</th>\n",
       "      <th>Spending_Score</th>\n",
       "      <th>Profession</th>\n",
       "      <th>Gender</th>\n",
       "      <th>Var_1</th>\n",
       "    </tr>\n",
       "  </thead>\n",
       "  <tbody>\n",
       "    <tr>\n",
       "      <th>6349</th>\n",
       "      <td>0.014344</td>\n",
       "      <td>0.0</td>\n",
       "      <td>0.000000</td>\n",
       "      <td>0.015047</td>\n",
       "      <td>0.012749</td>\n",
       "    </tr>\n",
       "    <tr>\n",
       "      <th>7275</th>\n",
       "      <td>0.004781</td>\n",
       "      <td>0.0</td>\n",
       "      <td>0.003284</td>\n",
       "      <td>0.015047</td>\n",
       "      <td>0.012749</td>\n",
       "    </tr>\n",
       "    <tr>\n",
       "      <th>1690</th>\n",
       "      <td>0.009324</td>\n",
       "      <td>0.0</td>\n",
       "      <td>0.000000</td>\n",
       "      <td>0.000000</td>\n",
       "      <td>0.012749</td>\n",
       "    </tr>\n",
       "    <tr>\n",
       "      <th>1328</th>\n",
       "      <td>0.009563</td>\n",
       "      <td>0.0</td>\n",
       "      <td>0.000000</td>\n",
       "      <td>0.000000</td>\n",
       "      <td>0.012749</td>\n",
       "    </tr>\n",
       "    <tr>\n",
       "      <th>7616</th>\n",
       "      <td>0.005260</td>\n",
       "      <td>0.0</td>\n",
       "      <td>0.003284</td>\n",
       "      <td>0.015047</td>\n",
       "      <td>0.012749</td>\n",
       "    </tr>\n",
       "  </tbody>\n",
       "</table>\n",
       "</div>"
      ],
      "text/plain": [
       "           Age  Spending_Score  Profession    Gender     Var_1\n",
       "6349  0.014344             0.0    0.000000  0.015047  0.012749\n",
       "7275  0.004781             0.0    0.003284  0.015047  0.012749\n",
       "1690  0.009324             0.0    0.000000  0.000000  0.012749\n",
       "1328  0.009563             0.0    0.000000  0.000000  0.012749\n",
       "7616  0.005260             0.0    0.003284  0.015047  0.012749"
      ]
     },
     "execution_count": 16,
     "metadata": {},
     "output_type": "execute_result"
    }
   ],
   "source": [
    "x_train.head()"
   ]
  },
  {
   "cell_type": "code",
   "execution_count": 17,
   "metadata": {},
   "outputs": [
    {
     "data": {
      "text/plain": [
       "KNeighborsClassifier(algorithm='auto', leaf_size=30, metric='minkowski',\n",
       "                     metric_params=None, n_jobs=None, n_neighbors=37, p=2,\n",
       "                     weights='uniform')"
      ]
     },
     "execution_count": 17,
     "metadata": {},
     "output_type": "execute_result"
    }
   ],
   "source": [
    "# สร้างแบบจำลอง K-Nearest Neighbours ด้วยคลาส KNeighborsClassifier ใน Sklearn\n",
    "prefer_k = 37  # สร้างตัวเเปรสำหรับเก็บ k ที่ต้องการ\n",
    "model = KNeighborsClassifier(n_neighbors=prefer_k)\n",
    "model"
   ]
  },
  {
   "cell_type": "code",
   "execution_count": 18,
   "metadata": {},
   "outputs": [
    {
     "data": {
      "text/plain": [
       "KNeighborsClassifier(algorithm='auto', leaf_size=30, metric='minkowski',\n",
       "                     metric_params=None, n_jobs=None, n_neighbors=37, p=2,\n",
       "                     weights='uniform')"
      ]
     },
     "execution_count": 18,
     "metadata": {},
     "output_type": "execute_result"
    }
   ],
   "source": [
    "model.fit(x_train, y_train)"
   ]
  },
  {
   "cell_type": "code",
   "execution_count": 19,
   "metadata": {},
   "outputs": [
    {
     "data": {
      "text/plain": [
       "0.5375970913898529"
      ]
     },
     "execution_count": 19,
     "metadata": {},
     "output_type": "execute_result"
    }
   ],
   "source": [
    "# ทดลองดูค่าผิดพลาดของแบบจำลองที่สร้างขึ้นโดยใช้ค่า  R2\n",
    "model.score(x_train, y_train)"
   ]
  },
  {
   "cell_type": "code",
   "execution_count": 20,
   "metadata": {},
   "outputs": [
    {
     "data": {
      "text/plain": [
       "0.5141298958849777"
      ]
     },
     "execution_count": 20,
     "metadata": {},
     "output_type": "execute_result"
    }
   ],
   "source": [
    "model.score(x_test, y_test)"
   ]
  },
  {
   "cell_type": "code",
   "execution_count": 21,
   "metadata": {},
   "outputs": [],
   "source": [
    "# ทดลองทดสอบประสิทธิภาพแบบจำลองด้วย cross validation\n",
    "from sklearn.model_selection import cross_val_score "
   ]
  },
  {
   "cell_type": "code",
   "execution_count": 22,
   "metadata": {},
   "outputs": [
    {
     "data": {
      "text/plain": [
       "array([0.49793559, 0.49586777, 0.50909091, 0.47190083, 0.52231405])"
      ]
     },
     "execution_count": 22,
     "metadata": {},
     "output_type": "execute_result"
    }
   ],
   "source": [
    "scores = cross_val_score(model, x_train, y_train, cv=5, scoring='accuracy')\n",
    "scores"
   ]
  },
  {
   "cell_type": "code",
   "execution_count": 23,
   "metadata": {},
   "outputs": [
    {
     "name": "stdout",
     "output_type": "stream",
     "text": [
      "Accuracy: 0.499 (0.017)\n"
     ]
    }
   ],
   "source": [
    "# เเสดงค่าเฉลี่ยเเละค่าเบี่ยงเบนมาตรฐานของประสิทธิภาพ\n",
    "from numpy import mean, std\n",
    "print('Accuracy: %.3f (%.3f)' % (mean(scores), std(scores)))"
   ]
  },
  {
   "cell_type": "code",
   "execution_count": 24,
   "metadata": {},
   "outputs": [],
   "source": [
    "# ทดลองเเสดงค่าผลทำนายจากชุดข้อมูลทดสอบ\n",
    "predicted = model.predict(x_test)"
   ]
  },
  {
   "cell_type": "code",
   "execution_count": 25,
   "metadata": {},
   "outputs": [
    {
     "name": "stdout",
     "output_type": "stream",
     "text": [
      "              precision    recall  f1-score   support\n",
      "\n",
      "           D      0.446     0.462     0.454       494\n",
      "           A      0.391     0.322     0.353       491\n",
      "           B      0.532     0.511     0.521       491\n",
      "           C      0.635     0.739     0.683       541\n",
      "\n",
      "    accuracy                          0.514      2017\n",
      "   macro avg      0.501     0.508     0.503      2017\n",
      "weighted avg      0.504     0.514     0.507      2017\n",
      "\n"
     ]
    }
   ],
   "source": [
    "from sklearn import metrics\n",
    "print(metrics.classification_report(y_test,predicted,target_names=df.Segmentation.unique(), digits=3))"
   ]
  },
  {
   "cell_type": "code",
   "execution_count": 26,
   "metadata": {},
   "outputs": [],
   "source": [
    "# กำหนดช่วงค่า K ที่ต้องการทดสอบให้เท่ากับ 1 ถึง 100\n",
    "k_list = list(range(1,100+1))\n",
    "k_values = dict(n_neighbors=k_list)"
   ]
  },
  {
   "cell_type": "code",
   "execution_count": 27,
   "metadata": {},
   "outputs": [],
   "source": [
    "from sklearn.model_selection import GridSearchCV\n",
    "grid = GridSearchCV(model, k_values, cv=5, scoring='accuracy')"
   ]
  },
  {
   "cell_type": "code",
   "execution_count": 28,
   "metadata": {},
   "outputs": [
    {
     "data": {
      "text/plain": [
       "Index(['Gender', 'Ever_Married', 'Age', 'Graduated', 'Profession',\n",
       "       'Work_Experience', 'Spending_Score', 'Family_Size', 'Var_1',\n",
       "       'Segmentation'],\n",
       "      dtype='object')"
      ]
     },
     "execution_count": 28,
     "metadata": {},
     "output_type": "execute_result"
    }
   ],
   "source": [
    "# เเสดงหัวข้อในเเต่ละคอลัมน์ของฐานข้อมูล\n",
    "df.columns"
   ]
  },
  {
   "cell_type": "code",
   "execution_count": 31,
   "metadata": {},
   "outputs": [
    {
     "data": {
      "text/plain": [
       "GridSearchCV(cv=5, error_score=nan,\n",
       "             estimator=KNeighborsClassifier(algorithm='auto', leaf_size=30,\n",
       "                                            metric='minkowski',\n",
       "                                            metric_params=None, n_jobs=None,\n",
       "                                            n_neighbors=37, p=2,\n",
       "                                            weights='uniform'),\n",
       "             iid='deprecated', n_jobs=None,\n",
       "             param_grid={'n_neighbors': [1, 2, 3, 4, 5, 6, 7, 8, 9, 10, 11, 12,\n",
       "                                         13, 14, 15, 16, 17, 18, 19, 20, 21, 22,\n",
       "                                         23, 24, 25, 26, 27, 28, 29, 30, ...]},\n",
       "             pre_dispatch='2*n_jobs', refit=True, return_train_score=False,\n",
       "             scoring='accuracy', verbose=0)"
      ]
     },
     "execution_count": 31,
     "metadata": {},
     "output_type": "execute_result"
    }
   ],
   "source": [
    "# เรียนรู้แบบจำลอง\n",
    "grid.fit(df[['Age', 'Spending_Score', 'Profession', 'Gender', 'Var_1']], df.Segmentation)"
   ]
  },
  {
   "cell_type": "code",
   "execution_count": 32,
   "metadata": {},
   "outputs": [
    {
     "data": {
      "text/html": [
       "<div>\n",
       "<style scoped>\n",
       "    .dataframe tbody tr th:only-of-type {\n",
       "        vertical-align: middle;\n",
       "    }\n",
       "\n",
       "    .dataframe tbody tr th {\n",
       "        vertical-align: top;\n",
       "    }\n",
       "\n",
       "    .dataframe thead th {\n",
       "        text-align: right;\n",
       "    }\n",
       "</style>\n",
       "<table border=\"1\" class=\"dataframe\">\n",
       "  <thead>\n",
       "    <tr style=\"text-align: right;\">\n",
       "      <th></th>\n",
       "      <th>mean_fit_time</th>\n",
       "      <th>std_fit_time</th>\n",
       "      <th>mean_score_time</th>\n",
       "      <th>std_score_time</th>\n",
       "      <th>param_n_neighbors</th>\n",
       "      <th>params</th>\n",
       "      <th>split0_test_score</th>\n",
       "      <th>split1_test_score</th>\n",
       "      <th>split2_test_score</th>\n",
       "      <th>split3_test_score</th>\n",
       "      <th>split4_test_score</th>\n",
       "      <th>mean_test_score</th>\n",
       "      <th>std_test_score</th>\n",
       "      <th>rank_test_score</th>\n",
       "    </tr>\n",
       "  </thead>\n",
       "  <tbody>\n",
       "    <tr>\n",
       "      <th>0</th>\n",
       "      <td>0.194211</td>\n",
       "      <td>0.056718</td>\n",
       "      <td>0.869250</td>\n",
       "      <td>0.205080</td>\n",
       "      <td>1</td>\n",
       "      <td>{'n_neighbors': 1}</td>\n",
       "      <td>0.423172</td>\n",
       "      <td>0.415118</td>\n",
       "      <td>0.436183</td>\n",
       "      <td>0.454433</td>\n",
       "      <td>0.417235</td>\n",
       "      <td>0.429228</td>\n",
       "      <td>0.014583</td>\n",
       "      <td>99</td>\n",
       "    </tr>\n",
       "    <tr>\n",
       "      <th>1</th>\n",
       "      <td>0.237414</td>\n",
       "      <td>0.090616</td>\n",
       "      <td>0.976456</td>\n",
       "      <td>0.152088</td>\n",
       "      <td>2</td>\n",
       "      <td>{'n_neighbors': 2}</td>\n",
       "      <td>0.412020</td>\n",
       "      <td>0.388476</td>\n",
       "      <td>0.411400</td>\n",
       "      <td>0.422195</td>\n",
       "      <td>0.407316</td>\n",
       "      <td>0.408281</td>\n",
       "      <td>0.011050</td>\n",
       "      <td>100</td>\n",
       "    </tr>\n",
       "    <tr>\n",
       "      <th>2</th>\n",
       "      <td>0.199411</td>\n",
       "      <td>0.049064</td>\n",
       "      <td>0.833448</td>\n",
       "      <td>0.042531</td>\n",
       "      <td>3</td>\n",
       "      <td>{'n_neighbors': 3}</td>\n",
       "      <td>0.455390</td>\n",
       "      <td>0.438042</td>\n",
       "      <td>0.460967</td>\n",
       "      <td>0.454433</td>\n",
       "      <td>0.454433</td>\n",
       "      <td>0.452653</td>\n",
       "      <td>0.007700</td>\n",
       "      <td>98</td>\n",
       "    </tr>\n",
       "    <tr>\n",
       "      <th>3</th>\n",
       "      <td>0.263415</td>\n",
       "      <td>0.066338</td>\n",
       "      <td>0.877450</td>\n",
       "      <td>0.113644</td>\n",
       "      <td>4</td>\n",
       "      <td>{'n_neighbors': 4}</td>\n",
       "      <td>0.460347</td>\n",
       "      <td>0.451673</td>\n",
       "      <td>0.458488</td>\n",
       "      <td>0.477991</td>\n",
       "      <td>0.468072</td>\n",
       "      <td>0.463314</td>\n",
       "      <td>0.009007</td>\n",
       "      <td>97</td>\n",
       "    </tr>\n",
       "    <tr>\n",
       "      <th>4</th>\n",
       "      <td>0.195811</td>\n",
       "      <td>0.033465</td>\n",
       "      <td>0.795246</td>\n",
       "      <td>0.058837</td>\n",
       "      <td>5</td>\n",
       "      <td>{'n_neighbors': 5}</td>\n",
       "      <td>0.462206</td>\n",
       "      <td>0.458488</td>\n",
       "      <td>0.470260</td>\n",
       "      <td>0.482331</td>\n",
       "      <td>0.478611</td>\n",
       "      <td>0.470379</td>\n",
       "      <td>0.009152</td>\n",
       "      <td>96</td>\n",
       "    </tr>\n",
       "  </tbody>\n",
       "</table>\n",
       "</div>"
      ],
      "text/plain": [
       "   mean_fit_time  std_fit_time  mean_score_time  std_score_time  \\\n",
       "0       0.194211      0.056718         0.869250        0.205080   \n",
       "1       0.237414      0.090616         0.976456        0.152088   \n",
       "2       0.199411      0.049064         0.833448        0.042531   \n",
       "3       0.263415      0.066338         0.877450        0.113644   \n",
       "4       0.195811      0.033465         0.795246        0.058837   \n",
       "\n",
       "  param_n_neighbors              params  split0_test_score  split1_test_score  \\\n",
       "0                 1  {'n_neighbors': 1}           0.423172           0.415118   \n",
       "1                 2  {'n_neighbors': 2}           0.412020           0.388476   \n",
       "2                 3  {'n_neighbors': 3}           0.455390           0.438042   \n",
       "3                 4  {'n_neighbors': 4}           0.460347           0.451673   \n",
       "4                 5  {'n_neighbors': 5}           0.462206           0.458488   \n",
       "\n",
       "   split2_test_score  split3_test_score  split4_test_score  mean_test_score  \\\n",
       "0           0.436183           0.454433           0.417235         0.429228   \n",
       "1           0.411400           0.422195           0.407316         0.408281   \n",
       "2           0.460967           0.454433           0.454433         0.452653   \n",
       "3           0.458488           0.477991           0.468072         0.463314   \n",
       "4           0.470260           0.482331           0.478611         0.470379   \n",
       "\n",
       "   std_test_score  rank_test_score  \n",
       "0        0.014583               99  \n",
       "1        0.011050              100  \n",
       "2        0.007700               98  \n",
       "3        0.009007               97  \n",
       "4        0.009152               96  "
      ]
     },
     "execution_count": 32,
     "metadata": {},
     "output_type": "execute_result"
    }
   ],
   "source": [
    "# แสดงค่าประสิทธิภาพที่ได้\n",
    "grid.cv_results_\n",
    "grid_table = pd.DataFrame(grid.cv_results_)\n",
    "grid_table.head()"
   ]
  },
  {
   "cell_type": "code",
   "execution_count": 33,
   "metadata": {},
   "outputs": [
    {
     "data": {
      "image/png": "[encoded data removed]",
      "text/plain": [
       "<Figure size 720x360 with 1 Axes>"
      ]
     },
     "metadata": {
      "needs_background": "light"
     },
     "output_type": "display_data"
    }
   ],
   "source": [
    "# ทดลองพล็อตกราฟค่าประสิทธิภาพ\n",
    "graphic = grid.cv_results_['mean_test_score']\n",
    "graphic\n",
    "\n",
    "plt.figure(figsize=(10,5))\n",
    "plt.plot(k_list,graphic,color='orange',linestyle='dashed',marker='o')\n",
    "plt.xlabel('K Number of Neighbors', fontdict={'fontsize': 15})\n",
    "plt.ylabel('Accuracy', fontdict={'fontsize': 15})\n",
    "plt.title('K NUMBER X ACCURACY', fontdict={'fontsize': 30})\n",
    "plt.xticks(range(0,99,3),)\n",
    "plt.show()"
   ]
  },
  {
   "cell_type": "code",
   "execution_count": 34,
   "metadata": {},
   "outputs": [
    {
     "name": "stdout",
     "output_type": "stream",
     "text": [
      "The best value of k = {'n_neighbors': 15} with 0.510785432180141 of accuracy.\n"
     ]
    }
   ],
   "source": [
    "# เเสดงค่า k ที่ให้ประสิทธิภาพสูงสุด\n",
    "print(\"The best value of k = {} with {} of accuracy.\".format(grid.best_params_,grid.best_score_))"
   ]
  },
  {
   "cell_type": "code",
   "execution_count": 39,
   "metadata": {},
   "outputs": [
    {
     "data": {
      "text/plain": [
       "KNeighborsClassifier(algorithm='auto', leaf_size=30, metric='minkowski',\n",
       "                     metric_params=None, n_jobs=None, n_neighbors=15, p=2,\n",
       "                     weights='uniform')"
      ]
     },
     "execution_count": 39,
     "metadata": {},
     "output_type": "execute_result"
    }
   ],
   "source": [
    "prefer_k = 15  # สร้างตัวเเปรสำหรับเก็บ k ที่ต้องการ\n",
    "model = KNeighborsClassifier(n_neighbors=prefer_k)\n",
    "model"
   ]
  },
  {
   "cell_type": "code",
   "execution_count": 40,
   "metadata": {},
   "outputs": [
    {
     "data": {
      "text/plain": [
       "KNeighborsClassifier(algorithm='auto', leaf_size=30, metric='minkowski',\n",
       "                     metric_params=None, n_jobs=None, n_neighbors=15, p=2,\n",
       "                     weights='uniform')"
      ]
     },
     "execution_count": 40,
     "metadata": {},
     "output_type": "execute_result"
    }
   ],
   "source": [
    "model.fit(x_train, y_train)"
   ]
  },
  {
   "cell_type": "code",
   "execution_count": 41,
   "metadata": {},
   "outputs": [
    {
     "data": {
      "text/plain": [
       "0.5665179309205091"
      ]
     },
     "execution_count": 41,
     "metadata": {},
     "output_type": "execute_result"
    }
   ],
   "source": [
    "model.score(x_train, y_train)"
   ]
  },
  {
   "cell_type": "code",
   "execution_count": 42,
   "metadata": {},
   "outputs": [
    {
     "data": {
      "text/plain": [
       "0.5037183936539414"
      ]
     },
     "execution_count": 42,
     "metadata": {},
     "output_type": "execute_result"
    }
   ],
   "source": [
    "model.score(x_test, y_test)"
   ]
  }
 ],
 "metadata": {
  "kernelspec": {
   "display_name": "Python 3",
   "language": "python",
   "name": "python3"
  },
  "language_info": {
   "codemirror_mode": {
    "name": "ipython",
    "version": 3
   },
   "file_extension": ".py",
   "mimetype": "text/x-python",
   "name": "python",
   "nbconvert_exporter": "python",
   "pygments_lexer": "ipython3",
   "version": "3.7.6"
  }
 },
 "nbformat": 4,
 "nbformat_minor": 4
}
