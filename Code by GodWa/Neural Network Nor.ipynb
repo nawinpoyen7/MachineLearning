{
 "cells": [
  {
   "cell_type": "code",
   "execution_count": 1,
   "metadata": {},
   "outputs": [
    {
     "name": "stderr",
     "output_type": "stream",
     "text": [
      "Using TensorFlow backend.\n",
      "C:\\Users\\Anwa\\Downloads\\machine\\Newfolder\\lib\\site-packages\\tensorflow\\python\\framework\\dtypes.py:516: FutureWarning: Passing (type, 1) or '1type' as a synonym of type is deprecated; in a future version of numpy, it will be understood as (type, (1,)) / '(1,)type'.\n",
      "  _np_qint8 = np.dtype([(\"qint8\", np.int8, 1)])\n",
      "C:\\Users\\Anwa\\Downloads\\machine\\Newfolder\\lib\\site-packages\\tensorflow\\python\\framework\\dtypes.py:517: FutureWarning: Passing (type, 1) or '1type' as a synonym of type is deprecated; in a future version of numpy, it will be understood as (type, (1,)) / '(1,)type'.\n",
      "  _np_quint8 = np.dtype([(\"quint8\", np.uint8, 1)])\n",
      "C:\\Users\\Anwa\\Downloads\\machine\\Newfolder\\lib\\site-packages\\tensorflow\\python\\framework\\dtypes.py:518: FutureWarning: Passing (type, 1) or '1type' as a synonym of type is deprecated; in a future version of numpy, it will be understood as (type, (1,)) / '(1,)type'.\n",
      "  _np_qint16 = np.dtype([(\"qint16\", np.int16, 1)])\n",
      "C:\\Users\\Anwa\\Downloads\\machine\\Newfolder\\lib\\site-packages\\tensorflow\\python\\framework\\dtypes.py:519: FutureWarning: Passing (type, 1) or '1type' as a synonym of type is deprecated; in a future version of numpy, it will be understood as (type, (1,)) / '(1,)type'.\n",
      "  _np_quint16 = np.dtype([(\"quint16\", np.uint16, 1)])\n",
      "C:\\Users\\Anwa\\Downloads\\machine\\Newfolder\\lib\\site-packages\\tensorflow\\python\\framework\\dtypes.py:520: FutureWarning: Passing (type, 1) or '1type' as a synonym of type is deprecated; in a future version of numpy, it will be understood as (type, (1,)) / '(1,)type'.\n",
      "  _np_qint32 = np.dtype([(\"qint32\", np.int32, 1)])\n",
      "C:\\Users\\Anwa\\Downloads\\machine\\Newfolder\\lib\\site-packages\\tensorflow\\python\\framework\\dtypes.py:525: FutureWarning: Passing (type, 1) or '1type' as a synonym of type is deprecated; in a future version of numpy, it will be understood as (type, (1,)) / '(1,)type'.\n",
      "  np_resource = np.dtype([(\"resource\", np.ubyte, 1)])\n",
      "C:\\Users\\Anwa\\Downloads\\machine\\Newfolder\\lib\\site-packages\\tensorboard\\compat\\tensorflow_stub\\dtypes.py:541: FutureWarning: Passing (type, 1) or '1type' as a synonym of type is deprecated; in a future version of numpy, it will be understood as (type, (1,)) / '(1,)type'.\n",
      "  _np_qint8 = np.dtype([(\"qint8\", np.int8, 1)])\n",
      "C:\\Users\\Anwa\\Downloads\\machine\\Newfolder\\lib\\site-packages\\tensorboard\\compat\\tensorflow_stub\\dtypes.py:542: FutureWarning: Passing (type, 1) or '1type' as a synonym of type is deprecated; in a future version of numpy, it will be understood as (type, (1,)) / '(1,)type'.\n",
      "  _np_quint8 = np.dtype([(\"quint8\", np.uint8, 1)])\n",
      "C:\\Users\\Anwa\\Downloads\\machine\\Newfolder\\lib\\site-packages\\tensorboard\\compat\\tensorflow_stub\\dtypes.py:543: FutureWarning: Passing (type, 1) or '1type' as a synonym of type is deprecated; in a future version of numpy, it will be understood as (type, (1,)) / '(1,)type'.\n",
      "  _np_qint16 = np.dtype([(\"qint16\", np.int16, 1)])\n",
      "C:\\Users\\Anwa\\Downloads\\machine\\Newfolder\\lib\\site-packages\\tensorboard\\compat\\tensorflow_stub\\dtypes.py:544: FutureWarning: Passing (type, 1) or '1type' as a synonym of type is deprecated; in a future version of numpy, it will be understood as (type, (1,)) / '(1,)type'.\n",
      "  _np_quint16 = np.dtype([(\"quint16\", np.uint16, 1)])\n",
      "C:\\Users\\Anwa\\Downloads\\machine\\Newfolder\\lib\\site-packages\\tensorboard\\compat\\tensorflow_stub\\dtypes.py:545: FutureWarning: Passing (type, 1) or '1type' as a synonym of type is deprecated; in a future version of numpy, it will be understood as (type, (1,)) / '(1,)type'.\n",
      "  _np_qint32 = np.dtype([(\"qint32\", np.int32, 1)])\n",
      "C:\\Users\\Anwa\\Downloads\\machine\\Newfolder\\lib\\site-packages\\tensorboard\\compat\\tensorflow_stub\\dtypes.py:550: FutureWarning: Passing (type, 1) or '1type' as a synonym of type is deprecated; in a future version of numpy, it will be understood as (type, (1,)) / '(1,)type'.\n",
      "  np_resource = np.dtype([(\"resource\", np.ubyte, 1)])\n"
     ]
    }
   ],
   "source": [
    "# เรียกใช้ library สำหรับทำงานประกอบด้วย numpy pandas seaborn เเละ matplotlib\n",
    "import numpy as np\n",
    "import pandas as pd\n",
    "import seaborn as sns \n",
    "import matplotlib.pyplot as plt\n",
    "from keras.models import Sequential\n",
    "from keras.layers import Dense\n",
    "from sklearn.preprocessing import OneHotEncoder\n",
    "from sklearn.datasets import load_iris\n",
    "from sklearn.model_selection import train_test_split\n",
    "from keras.optimizers import Adam"
   ]
  },
  {
   "cell_type": "code",
   "execution_count": 2,
   "metadata": {},
   "outputs": [
    {
     "data": {
      "text/html": [
       "<div>\n",
       "<style scoped>\n",
       "    .dataframe tbody tr th:only-of-type {\n",
       "        vertical-align: middle;\n",
       "    }\n",
       "\n",
       "    .dataframe tbody tr th {\n",
       "        vertical-align: top;\n",
       "    }\n",
       "\n",
       "    .dataframe thead th {\n",
       "        text-align: right;\n",
       "    }\n",
       "</style>\n",
       "<table border=\"1\" class=\"dataframe\">\n",
       "  <thead>\n",
       "    <tr style=\"text-align: right;\">\n",
       "      <th></th>\n",
       "      <th>Gender</th>\n",
       "      <th>Ever_Married</th>\n",
       "      <th>Age</th>\n",
       "      <th>Graduated</th>\n",
       "      <th>Profession</th>\n",
       "      <th>Work_Experience</th>\n",
       "      <th>Spending_Score</th>\n",
       "      <th>Family_Size</th>\n",
       "      <th>Var_1</th>\n",
       "      <th>Segmentation</th>\n",
       "    </tr>\n",
       "  </thead>\n",
       "  <tbody>\n",
       "    <tr>\n",
       "      <th>0</th>\n",
       "      <td>0.015047</td>\n",
       "      <td>0.000000</td>\n",
       "      <td>0.005260</td>\n",
       "      <td>0.000000</td>\n",
       "      <td>0.003284</td>\n",
       "      <td>0.002718</td>\n",
       "      <td>0.000000</td>\n",
       "      <td>0.012819</td>\n",
       "      <td>0.007649</td>\n",
       "      <td>D</td>\n",
       "    </tr>\n",
       "    <tr>\n",
       "      <th>1</th>\n",
       "      <td>0.000000</td>\n",
       "      <td>0.014676</td>\n",
       "      <td>0.009085</td>\n",
       "      <td>0.014188</td>\n",
       "      <td>0.009852</td>\n",
       "      <td>0.002718</td>\n",
       "      <td>0.012093</td>\n",
       "      <td>0.009614</td>\n",
       "      <td>0.007649</td>\n",
       "      <td>A</td>\n",
       "    </tr>\n",
       "    <tr>\n",
       "      <th>2</th>\n",
       "      <td>0.000000</td>\n",
       "      <td>0.014676</td>\n",
       "      <td>0.016018</td>\n",
       "      <td>0.014188</td>\n",
       "      <td>0.009852</td>\n",
       "      <td>0.002718</td>\n",
       "      <td>0.000000</td>\n",
       "      <td>0.003205</td>\n",
       "      <td>0.012749</td>\n",
       "      <td>B</td>\n",
       "    </tr>\n",
       "    <tr>\n",
       "      <th>3</th>\n",
       "      <td>0.015047</td>\n",
       "      <td>0.014676</td>\n",
       "      <td>0.016018</td>\n",
       "      <td>0.014188</td>\n",
       "      <td>0.016421</td>\n",
       "      <td>0.000000</td>\n",
       "      <td>0.024186</td>\n",
       "      <td>0.006410</td>\n",
       "      <td>0.012749</td>\n",
       "      <td>B</td>\n",
       "    </tr>\n",
       "    <tr>\n",
       "      <th>4</th>\n",
       "      <td>0.000000</td>\n",
       "      <td>0.014676</td>\n",
       "      <td>0.009563</td>\n",
       "      <td>0.014188</td>\n",
       "      <td>0.006568</td>\n",
       "      <td>0.002718</td>\n",
       "      <td>0.024186</td>\n",
       "      <td>0.019229</td>\n",
       "      <td>0.012749</td>\n",
       "      <td>A</td>\n",
       "    </tr>\n",
       "  </tbody>\n",
       "</table>\n",
       "</div>"
      ],
      "text/plain": [
       "     Gender  Ever_Married       Age  Graduated  Profession  Work_Experience  \\\n",
       "0  0.015047      0.000000  0.005260   0.000000    0.003284         0.002718   \n",
       "1  0.000000      0.014676  0.009085   0.014188    0.009852         0.002718   \n",
       "2  0.000000      0.014676  0.016018   0.014188    0.009852         0.002718   \n",
       "3  0.015047      0.014676  0.016018   0.014188    0.016421         0.000000   \n",
       "4  0.000000      0.014676  0.009563   0.014188    0.006568         0.002718   \n",
       "\n",
       "   Spending_Score  Family_Size     Var_1 Segmentation  \n",
       "0        0.000000     0.012819  0.007649            D  \n",
       "1        0.012093     0.009614  0.007649            A  \n",
       "2        0.000000     0.003205  0.012749            B  \n",
       "3        0.024186     0.006410  0.012749            B  \n",
       "4        0.024186     0.019229  0.012749            A  "
      ]
     },
     "execution_count": 2,
     "metadata": {},
     "output_type": "execute_result"
    }
   ],
   "source": [
    "# อ่านข้อมูลไฟล์ csv จาก https://raw.githubusercontent.com/nawinpoyen7/MachineLearning/main/DataSet/DataChange.csv\n",
    "# และเเสดง 5 ตัวอย่างเเรก เพื่อตรวจสอบข้อมูล\n",
    "url='https://raw.githubusercontent.com/nawinpoyen7/MachineLearning/main/DataSet/CombDataSet.csv'\n",
    "dataset=pd.read_csv(url)\n",
    "dataset.head(5)"
   ]
  },
  {
   "cell_type": "code",
   "execution_count": 3,
   "metadata": {},
   "outputs": [
    {
     "data": {
      "text/plain": [
       "D    2268\n",
       "A    1972\n",
       "C    1970\n",
       "B    1858\n",
       "Name: Segmentation, dtype: int64"
      ]
     },
     "execution_count": 3,
     "metadata": {},
     "output_type": "execute_result"
    }
   ],
   "source": [
    "dataset.Segmentation.value_counts()"
   ]
  },
  {
   "cell_type": "code",
   "execution_count": 4,
   "metadata": {},
   "outputs": [
    {
     "data": {
      "text/plain": [
       "Index(['Gender', 'Ever_Married', 'Age', 'Graduated', 'Profession',\n",
       "       'Work_Experience', 'Spending_Score', 'Family_Size', 'Var_1',\n",
       "       'Segmentation'],\n",
       "      dtype='object')"
      ]
     },
     "execution_count": 4,
     "metadata": {},
     "output_type": "execute_result"
    }
   ],
   "source": [
    "dataset.columns"
   ]
  },
  {
   "cell_type": "code",
   "execution_count": 5,
   "metadata": {},
   "outputs": [],
   "source": [
    "#Vals=['Gender','Ever_Married','Age','Graduated','Profession','Work_Experience','Spending_Score','Family_Size','Var_1']\n",
    "#sns.pairplot(data=dataset,hue='Segmentation');"
   ]
  },
  {
   "cell_type": "code",
   "execution_count": 6,
   "metadata": {},
   "outputs": [],
   "source": [
    "from sklearn.preprocessing import StandardScaler # ปรับช่วงข้อมูลด้วยวิธี standardization\n",
    "from sklearn.preprocessing import OneHotEncoder\n",
    " # กำหนดตัวเเปร X เพื่อเก็บข้อมูลดอกไอริสสำหรับ features ที่ต้องการ \n",
    "Vals=['Profession', 'Spending_Score', 'Age', 'Graduated']\n",
    "X=dataset[Vals] \n",
    "# สร้าง object ชื่อ scaler จาก class ของ StandardScaler เพื่อใช้สำหรับการเรียกใช้ในการปรับช่วงข้อมูล\n",
    "scaler = StandardScaler()  \n",
    "# ปรับช่วงข้อมูลเเละเก็บอยู่ในตัวเเปร X_scale ซึ่งข้อมูลจะอยู่ในรูปของ numpy array\n",
    "X_scale=scaler.fit_transform(X)  \n",
    "# ปรับให้เเสดงด้วยตัวเลขทศนิยม 4 ตำเเหน่ง \n",
    "X_scale = X_scale.round(4) \n",
    "y = np.array(dataset['Segmentation'])\n",
    "\n",
    "encoder = OneHotEncoder()\n",
    "y_targets = encoder.fit_transform(dataset[['Segmentation']]).toarray()"
   ]
  },
  {
   "cell_type": "code",
   "execution_count": 7,
   "metadata": {},
   "outputs": [],
   "source": [
    "from sklearn.model_selection import train_test_split\n",
    "test_size=0.003    #เปลี่ยนจาก 0.3 เป็น  0.01      (1%)     ได้ 0.79  -  0.806\n",
    "                    #                 0.001    (0.1%)    ได้ 0.8   -  0.833   \n",
    "                    #                 0.002    (0.2%)    ได้ 0.824 -  0.838   \n",
    "                    #                 0.003    (0.3%)    ได้ 0.82  -  0.85    test ประมาณ 24 ตัวจาก 8068ตัว ที่เหลือ train (เท่าที่ลองมาตามค่าที่ระบุ ค่านี้ดีสุด)\n",
    "                    #                 0.004    (0.4%)    ได้ 0.788 -  0.811\n",
    "                    #                 0.005    (0.5%)    ได้ 0.793 -  0.811\n",
    "                    #                 0.006    (0.6%)    ได้ 0.796 -  0.816\n",
    "                    #                 0.007    (0.7%)    ได้ 0.798 -  \n",
    "                    #                 0.008    (0.8%)    ได้ 0.8   -  \n",
    "                    #                 0.009    (0.9%)    ได้ 0.771\n",
    "                    #                 0.0001   (0.01%)   ได้ 0.75\n",
    "        \n",
    "X_train, X_test, y_train, y_test = train_test_split(\n",
    "    X, y_targets, \n",
    "    test_size=test_size, random_state=7)"
   ]
  },
  {
   "cell_type": "code",
   "execution_count": 8,
   "metadata": {},
   "outputs": [],
   "source": [
    "model = Sequential()\n",
    "\n",
    "#Ns = (1-test_size)*number of samples = (1-0.3)8068\n",
    "#Nh = Ns / ( alfa( Ni + No ) ) # alfa=2 ; (1-0.3)8068 / 2(4+4) = 352.975 = 353\n",
    "#alfa   Acc(0-1)    Nh\n",
    "#10     0.784       71    \n",
    "#9      0.783       79\n",
    "#8      0.784       89\n",
    "#7      0.787      101\n",
    "#6      0.785      118\n",
    "#5      0.786      142\n",
    "#4      0.783      177\n",
    "#3      0.785      236\n",
    "#2      0.784      353\n",
    "\n",
    "#Weight Initialization Techniques\n",
    "in1='he_normal'\n",
    "init='glorot_uniform'\n",
    "\n",
    "# number of hidden layer = 4  \n",
    "# สร้าง hidden layer ที่ 1 ประกอบด้วย 100 โหนด ซึ่งเชื่อมต่อกับ Input layer ประกอบด้วย 4 โหนด \n",
    "# เเละเลือกใช้ ReLu เป็น activation function\n",
    "model.add(Dense(100, input_dim=4, activation='relu'))\n",
    "\n",
    "# สร้าง hidden layer ที่ 2 ประกอบด้วย 100 โหนด ซึ่งเชื่อมต่อกับ hidden layer ที่ 1 ประกอบด้วย 100 โหนด \n",
    "# เเละเลือกใช้ ReLu เป็น activation function \n",
    "model.add(Dense(100, input_dim=100, activation='relu'))#, kernel_initializer=in1))\n",
    "\n",
    "# สร้าง hidden layer ที่ 3 ประกอบด้วย 100 โหนด ซึ่งเชื่อมต่อกับ hidden layer ที่ 2 ประกอบด้วย 100 โหนด \n",
    "# เเละเลือกใช้ ReLu เป็น activation function\n",
    "model.add(Dense(100, input_dim=100, activation='relu'))#, kernel_initializer=in1))\n",
    "\n",
    "# สร้าง hidden layer ที่ 4 ประกอบด้วย 100โหนด ซึ่งเชื่อมต่อกับ hidden layer ที่ 3 ประกอบด้วย 100 โหนด \n",
    "# เเละเลือกใช้ ReLu เป็น activation function\n",
    "model.add(Dense(100, input_dim=100, activation='relu'))#, kernel_initializer=in1))\n",
    "\n",
    "# สร้าง output layer ประกอบด้วย 4 โหนด ซึ่งเชื่อมต่อกับ hidden layer ที่ 4 ประกอบด้วย 100 โหนด \n",
    "# เเละเลือกใช้ sigmoid เป็น activation function \n",
    "model.add(Dense(4, activation='sigmoid'))#, kernel_initializer=init))"
   ]
  },
  {
   "cell_type": "code",
   "execution_count": 9,
   "metadata": {},
   "outputs": [
    {
     "name": "stdout",
     "output_type": "stream",
     "text": [
      "[<tf.Variable 'dense_1/kernel:0' shape=(4, 100) dtype=float32>, <tf.Variable 'dense_1/bias:0' shape=(100,) dtype=float32>, <tf.Variable 'dense_2/kernel:0' shape=(100, 100) dtype=float32>, <tf.Variable 'dense_2/bias:0' shape=(100,) dtype=float32>, <tf.Variable 'dense_3/kernel:0' shape=(100, 100) dtype=float32>, <tf.Variable 'dense_3/bias:0' shape=(100,) dtype=float32>, <tf.Variable 'dense_4/kernel:0' shape=(100, 100) dtype=float32>, <tf.Variable 'dense_4/bias:0' shape=(100,) dtype=float32>, <tf.Variable 'dense_5/kernel:0' shape=(100, 4) dtype=float32>, <tf.Variable 'dense_5/bias:0' shape=(4,) dtype=float32>]\n"
     ]
    }
   ],
   "source": [
    "# ทดลองเเสดงค่า weight ของเเต่ละ layer ซึ่งค่าที่เเสดงเป็นค่าที่ถูกสุ่มขึ้นสำหรับการปรับค่า weight ในเเต่ละ layer ต่อไป\n",
    "print(model.weights)"
   ]
  },
  {
   "cell_type": "code",
   "execution_count": 10,
   "metadata": {},
   "outputs": [
    {
     "name": "stdout",
     "output_type": "stream",
     "text": [
      "WARNING:tensorflow:From C:\\Users\\Anwa\\Downloads\\machine\\Newfolder\\lib\\site-packages\\tensorflow\\python\\ops\\nn_impl.py:180: add_dispatch_support.<locals>.wrapper (from tensorflow.python.ops.array_ops) is deprecated and will be removed in a future version.\n",
      "Instructions for updating:\n",
      "Use tf.where in 2.0, which has the same broadcast rule as np.where\n"
     ]
    }
   ],
   "source": [
    "# กำหนดให้ optimizer ใช้ method adam ในการปรับปรุงค่าด้วย learning rate = 0.000001 ถึง 1\n",
    "#LR          ACC     \n",
    "#0.000001    0.786    \n",
    "#0.00001     0.787\n",
    "#0.0001      0.789\n",
    "#0.001       0.788\n",
    "#0.01        0.785\n",
    "#0.1         0.785\n",
    "#1           0.784\n",
    "\n",
    "#optimizer = Adam(learning_rate=0.0001)#, decay=1)\n",
    "model.compile(loss='binary_crossentropy', # เปลี่ยนจาก loss='mean_squared_error' เป็น loss='binary_crossentropy'\n",
    "              optimizer='adam',\n",
    "              metrics=['accuracy'])"
   ]
  },
  {
   "cell_type": "code",
   "execution_count": 11,
   "metadata": {},
   "outputs": [
    {
     "name": "stdout",
     "output_type": "stream",
     "text": [
      "WARNING:tensorflow:From C:\\Users\\Anwa\\Downloads\\machine\\Newfolder\\lib\\site-packages\\keras\\backend\\tensorflow_backend.py:422: The name tf.global_variables is deprecated. Please use tf.compat.v1.global_variables instead.\n",
      "\n",
      "Train on 6434 samples, validate on 1609 samples\n",
      "Epoch 1/100\n",
      "6434/6434 [==============================] - 6s 920us/step - loss: 0.5738 - accuracy: 0.7486 - val_loss: 0.5612 - val_accuracy: 0.7500\n",
      "Epoch 2/100\n",
      "6434/6434 [==============================] - 4s 546us/step - loss: 0.5565 - accuracy: 0.7500 - val_loss: 0.5257 - val_accuracy: 0.7500\n",
      "Epoch 3/100\n",
      "6434/6434 [==============================] - 2s 301us/step - loss: 0.5108 - accuracy: 0.7624 - val_loss: 0.5203 - val_accuracy: 0.7544\n",
      "Epoch 4/100\n",
      "6434/6434 [==============================] - 2s 249us/step - loss: 0.5070 - accuracy: 0.7660 - val_loss: 0.5028 - val_accuracy: 0.7596\n",
      "Epoch 5/100\n",
      "6434/6434 [==============================] - 2s 270us/step - loss: 0.5031 - accuracy: 0.7693 - val_loss: 0.5006 - val_accuracy: 0.7665\n",
      "Epoch 6/100\n",
      "6434/6434 [==============================] - 2s 263us/step - loss: 0.5031 - accuracy: 0.7683 - val_loss: 0.4997 - val_accuracy: 0.7680\n",
      "Epoch 7/100\n",
      "6434/6434 [==============================] - 2s 289us/step - loss: 0.4994 - accuracy: 0.7726 - val_loss: 0.5026 - val_accuracy: 0.7584\n",
      "Epoch 8/100\n",
      "6434/6434 [==============================] - 1s 228us/step - loss: 0.4976 - accuracy: 0.7727 - val_loss: 0.5015 - val_accuracy: 0.7589\n",
      "Epoch 9/100\n",
      "6434/6434 [==============================] - 2s 239us/step - loss: 0.4981 - accuracy: 0.7719 - val_loss: 0.5048 - val_accuracy: 0.7702\n",
      "Epoch 10/100\n",
      "6434/6434 [==============================] - 1s 223us/step - loss: 0.4963 - accuracy: 0.7730 - val_loss: 0.4954 - val_accuracy: 0.7649\n",
      "Epoch 11/100\n",
      "6434/6434 [==============================] - 2s 258us/step - loss: 0.4961 - accuracy: 0.7737 - val_loss: 0.4946 - val_accuracy: 0.7679\n",
      "Epoch 12/100\n",
      "6434/6434 [==============================] - 2s 243us/step - loss: 0.4960 - accuracy: 0.7725 - val_loss: 0.5092 - val_accuracy: 0.7584\n",
      "Epoch 13/100\n",
      "6434/6434 [==============================] - 2s 243us/step - loss: 0.4960 - accuracy: 0.7735 - val_loss: 0.4933 - val_accuracy: 0.7680\n",
      "Epoch 14/100\n",
      "6434/6434 [==============================] - 2s 345us/step - loss: 0.4922 - accuracy: 0.7734 - val_loss: 0.4906 - val_accuracy: 0.7718\n",
      "Epoch 15/100\n",
      "6434/6434 [==============================] - 2s 268us/step - loss: 0.4903 - accuracy: 0.7746 - val_loss: 0.4872 - val_accuracy: 0.7719\n",
      "Epoch 16/100\n",
      "6434/6434 [==============================] - 2s 305us/step - loss: 0.4896 - accuracy: 0.7748 - val_loss: 0.4868 - val_accuracy: 0.7733\n",
      "Epoch 17/100\n",
      "6434/6434 [==============================] - 2s 282us/step - loss: 0.4872 - accuracy: 0.7761 - val_loss: 0.4913 - val_accuracy: 0.7711\n",
      "Epoch 18/100\n",
      "6434/6434 [==============================] - 1s 224us/step - loss: 0.4857 - accuracy: 0.7765 - val_loss: 0.4849 - val_accuracy: 0.7763\n",
      "Epoch 19/100\n",
      "6434/6434 [==============================] - 1s 224us/step - loss: 0.4853 - accuracy: 0.7755 - val_loss: 0.4895 - val_accuracy: 0.7722\n",
      "Epoch 20/100\n",
      "6434/6434 [==============================] - 1s 228us/step - loss: 0.4835 - accuracy: 0.7773 - val_loss: 0.4888 - val_accuracy: 0.7759\n",
      "Epoch 21/100\n",
      "6434/6434 [==============================] - 2s 276us/step - loss: 0.4822 - accuracy: 0.7765 - val_loss: 0.4751 - val_accuracy: 0.7769\n",
      "Epoch 22/100\n",
      "6434/6434 [==============================] - 2s 311us/step - loss: 0.4784 - accuracy: 0.7782 - val_loss: 0.5010 - val_accuracy: 0.7674\n",
      "Epoch 23/100\n",
      "6434/6434 [==============================] - 2s 283us/step - loss: 0.4818 - accuracy: 0.7774 - val_loss: 0.4768 - val_accuracy: 0.7787\n",
      "Epoch 24/100\n",
      "6434/6434 [==============================] - 2s 277us/step - loss: 0.4751 - accuracy: 0.7798 - val_loss: 0.4739 - val_accuracy: 0.7745\n",
      "Epoch 25/100\n",
      "6434/6434 [==============================] - 2s 256us/step - loss: 0.4741 - accuracy: 0.7786 - val_loss: 0.4695 - val_accuracy: 0.7798\n",
      "Epoch 26/100\n",
      "6434/6434 [==============================] - 2s 249us/step - loss: 0.4740 - accuracy: 0.7775 - val_loss: 0.4907 - val_accuracy: 0.7716\n",
      "Epoch 27/100\n",
      "6434/6434 [==============================] - 1s 226us/step - loss: 0.4703 - accuracy: 0.7787 - val_loss: 0.4686 - val_accuracy: 0.7789\n",
      "Epoch 28/100\n",
      "6434/6434 [==============================] - 2s 254us/step - loss: 0.4699 - accuracy: 0.7808 - val_loss: 0.4760 - val_accuracy: 0.7755\n",
      "Epoch 29/100\n",
      "6434/6434 [==============================] - 2s 237us/step - loss: 0.4715 - accuracy: 0.7803 - val_loss: 0.4789 - val_accuracy: 0.7805\n",
      "Epoch 30/100\n",
      "6434/6434 [==============================] - 1s 226us/step - loss: 0.4676 - accuracy: 0.7799 - val_loss: 0.4633 - val_accuracy: 0.7822\n",
      "Epoch 31/100\n",
      "6434/6434 [==============================] - 1s 226us/step - loss: 0.4671 - accuracy: 0.7793 - val_loss: 0.4619 - val_accuracy: 0.7806\n",
      "Epoch 32/100\n",
      "6434/6434 [==============================] - 2s 272us/step - loss: 0.4686 - accuracy: 0.7799 - val_loss: 0.4746 - val_accuracy: 0.7789\n",
      "Epoch 33/100\n",
      "6434/6434 [==============================] - 2s 294us/step - loss: 0.4667 - accuracy: 0.7796 - val_loss: 0.4774 - val_accuracy: 0.7759\n",
      "Epoch 34/100\n",
      "6434/6434 [==============================] - 2s 289us/step - loss: 0.4638 - accuracy: 0.7830 - val_loss: 0.4684 - val_accuracy: 0.7738\n",
      "Epoch 35/100\n",
      "6434/6434 [==============================] - 2s 281us/step - loss: 0.4668 - accuracy: 0.7812 - val_loss: 0.4738 - val_accuracy: 0.7784\n",
      "Epoch 36/100\n",
      "6434/6434 [==============================] - 2s 236us/step - loss: 0.4634 - accuracy: 0.7803 - val_loss: 0.4614 - val_accuracy: 0.7825\n",
      "Epoch 37/100\n",
      "6434/6434 [==============================] - 2s 247us/step - loss: 0.4614 - accuracy: 0.7819 - val_loss: 0.4599 - val_accuracy: 0.7823\n",
      "Epoch 38/100\n",
      "6434/6434 [==============================] - 1s 227us/step - loss: 0.4617 - accuracy: 0.7825 - val_loss: 0.4632 - val_accuracy: 0.7809\n",
      "Epoch 39/100\n",
      "6434/6434 [==============================] - 2s 266us/step - loss: 0.4617 - accuracy: 0.7825 - val_loss: 0.4640 - val_accuracy: 0.7791\n",
      "Epoch 40/100\n",
      "6434/6434 [==============================] - 2s 337us/step - loss: 0.4609 - accuracy: 0.7832 - val_loss: 0.4620 - val_accuracy: 0.7809\n",
      "Epoch 41/100\n",
      "6434/6434 [==============================] - 1s 233us/step - loss: 0.4594 - accuracy: 0.7826 - val_loss: 0.4654 - val_accuracy: 0.7767\n",
      "Epoch 42/100\n",
      "6434/6434 [==============================] - 1s 227us/step - loss: 0.4593 - accuracy: 0.7826 - val_loss: 0.4602 - val_accuracy: 0.7839\n",
      "Epoch 43/100\n",
      "6434/6434 [==============================] - 1s 227us/step - loss: 0.4591 - accuracy: 0.7841 - val_loss: 0.4643 - val_accuracy: 0.7775\n",
      "Epoch 44/100\n",
      "6434/6434 [==============================] - 2s 252us/step - loss: 0.4601 - accuracy: 0.7824 - val_loss: 0.4670 - val_accuracy: 0.7811\n",
      "Epoch 45/100\n",
      "6434/6434 [==============================] - 3s 443us/step - loss: 0.4614 - accuracy: 0.7829 - val_loss: 0.4589 - val_accuracy: 0.7829\n",
      "Epoch 46/100\n",
      "6434/6434 [==============================] - 4s 586us/step - loss: 0.4584 - accuracy: 0.7824 - val_loss: 0.4570 - val_accuracy: 0.7831\n",
      "Epoch 47/100\n",
      "6434/6434 [==============================] - 2s 385us/step - loss: 0.4609 - accuracy: 0.7834 - val_loss: 0.4577 - val_accuracy: 0.7836\n",
      "Epoch 48/100\n",
      "6434/6434 [==============================] - 2s 337us/step - loss: 0.4592 - accuracy: 0.7829 - val_loss: 0.4586 - val_accuracy: 0.7829\n",
      "Epoch 49/100\n",
      "6434/6434 [==============================] - 2s 293us/step - loss: 0.4586 - accuracy: 0.7833 - val_loss: 0.4677 - val_accuracy: 0.7781\n",
      "Epoch 50/100\n",
      "6434/6434 [==============================] - 2s 297us/step - loss: 0.4595 - accuracy: 0.7817 - val_loss: 0.4636 - val_accuracy: 0.7814\n",
      "Epoch 51/100\n",
      "6434/6434 [==============================] - 2s 354us/step - loss: 0.4621 - accuracy: 0.7823 - val_loss: 0.4617 - val_accuracy: 0.7794\n",
      "Epoch 52/100\n",
      "6434/6434 [==============================] - 3s 494us/step - loss: 0.4600 - accuracy: 0.7833 - val_loss: 0.4607 - val_accuracy: 0.7791\n",
      "Epoch 53/100\n",
      "6434/6434 [==============================] - 2s 353us/step - loss: 0.4570 - accuracy: 0.7839 - val_loss: 0.4636 - val_accuracy: 0.7787\n",
      "Epoch 54/100\n",
      "6434/6434 [==============================] - 2s 245us/step - loss: 0.4590 - accuracy: 0.7832 - val_loss: 0.4626 - val_accuracy: 0.7822\n",
      "Epoch 55/100\n",
      "6434/6434 [==============================] - 1s 228us/step - loss: 0.4570 - accuracy: 0.7843 - val_loss: 0.4562 - val_accuracy: 0.7833\n",
      "Epoch 56/100\n",
      "6434/6434 [==============================] - 1s 227us/step - loss: 0.4572 - accuracy: 0.7839 - val_loss: 0.4751 - val_accuracy: 0.7739\n",
      "Epoch 57/100\n",
      "6434/6434 [==============================] - 1s 229us/step - loss: 0.4863 - accuracy: 0.7751 - val_loss: 0.4855 - val_accuracy: 0.7739\n",
      "Epoch 58/100\n",
      "6434/6434 [==============================] - 1s 226us/step - loss: 0.4720 - accuracy: 0.7799 - val_loss: 0.4651 - val_accuracy: 0.7814\n",
      "Epoch 59/100\n",
      "6434/6434 [==============================] - 1s 228us/step - loss: 0.4626 - accuracy: 0.7814 - val_loss: 0.4606 - val_accuracy: 0.7815\n",
      "Epoch 60/100\n",
      "6434/6434 [==============================] - 2s 274us/step - loss: 0.4629 - accuracy: 0.7823 - val_loss: 0.4640 - val_accuracy: 0.7803\n",
      "Epoch 61/100\n",
      "6434/6434 [==============================] - 2s 248us/step - loss: 0.4647 - accuracy: 0.7816 - val_loss: 0.4637 - val_accuracy: 0.7795\n",
      "Epoch 62/100\n",
      "6434/6434 [==============================] - 2s 277us/step - loss: 0.4602 - accuracy: 0.7826 - val_loss: 0.4755 - val_accuracy: 0.7780\n",
      "Epoch 63/100\n",
      "6434/6434 [==============================] - 1s 225us/step - loss: 0.4601 - accuracy: 0.7817 - val_loss: 0.4619 - val_accuracy: 0.7820\n",
      "Epoch 64/100\n",
      "6434/6434 [==============================] - 1s 224us/step - loss: 0.4601 - accuracy: 0.7817 - val_loss: 0.4590 - val_accuracy: 0.7825\n",
      "Epoch 65/100\n",
      "6434/6434 [==============================] - 1s 224us/step - loss: 0.4592 - accuracy: 0.7837 - val_loss: 0.4608 - val_accuracy: 0.7815\n",
      "Epoch 66/100\n",
      "6434/6434 [==============================] - 2s 256us/step - loss: 0.4615 - accuracy: 0.7818 - val_loss: 0.4599 - val_accuracy: 0.7819\n",
      "Epoch 67/100\n",
      "6434/6434 [==============================] - 1s 226us/step - loss: 0.4588 - accuracy: 0.7831 - val_loss: 0.4626 - val_accuracy: 0.7800\n",
      "Epoch 68/100\n",
      "6434/6434 [==============================] - 1s 226us/step - loss: 0.4597 - accuracy: 0.7829 - val_loss: 0.4643 - val_accuracy: 0.7842\n",
      "Epoch 69/100\n",
      "6434/6434 [==============================] - 1s 226us/step - loss: 0.4589 - accuracy: 0.7839 - val_loss: 0.4571 - val_accuracy: 0.7831\n",
      "Epoch 70/100\n",
      "6434/6434 [==============================] - 2s 252us/step - loss: 0.4597 - accuracy: 0.7826 - val_loss: 0.4646 - val_accuracy: 0.7777\n",
      "Epoch 71/100\n",
      "6434/6434 [==============================] - 2s 297us/step - loss: 0.4610 - accuracy: 0.7838 - val_loss: 0.4684 - val_accuracy: 0.7783\n",
      "Epoch 72/100\n",
      "6434/6434 [==============================] - 2s 321us/step - loss: 0.4591 - accuracy: 0.7832 - val_loss: 0.4641 - val_accuracy: 0.7800\n",
      "Epoch 73/100\n",
      "6434/6434 [==============================] - 3s 391us/step - loss: 0.4584 - accuracy: 0.7828 - val_loss: 0.4598 - val_accuracy: 0.7836\n",
      "Epoch 74/100\n",
      "6434/6434 [==============================] - 2s 336us/step - loss: 0.4572 - accuracy: 0.7845 - val_loss: 0.4569 - val_accuracy: 0.7828\n",
      "Epoch 75/100\n",
      "6434/6434 [==============================] - 2s 329us/step - loss: 0.4577 - accuracy: 0.7831 - val_loss: 0.4583 - val_accuracy: 0.7839\n",
      "Epoch 76/100\n",
      "6434/6434 [==============================] - 2s 338us/step - loss: 0.4570 - accuracy: 0.7835 - val_loss: 0.4676 - val_accuracy: 0.7843\n",
      "Epoch 77/100\n",
      "6434/6434 [==============================] - 3s 396us/step - loss: 0.4596 - accuracy: 0.7825 - val_loss: 0.4597 - val_accuracy: 0.7817\n",
      "Epoch 78/100\n",
      "6434/6434 [==============================] - 2s 337us/step - loss: 0.4572 - accuracy: 0.7840 - val_loss: 0.4620 - val_accuracy: 0.7812\n",
      "Epoch 79/100\n",
      "6434/6434 [==============================] - 2s 284us/step - loss: 0.4572 - accuracy: 0.7831 - val_loss: 0.4619 - val_accuracy: 0.7837\n",
      "Epoch 80/100\n",
      "6434/6434 [==============================] - 2s 291us/step - loss: 0.4588 - accuracy: 0.7836 - val_loss: 0.4797 - val_accuracy: 0.7752\n",
      "Epoch 81/100\n",
      "6434/6434 [==============================] - 2s 286us/step - loss: 0.4583 - accuracy: 0.7835 - val_loss: 0.4734 - val_accuracy: 0.7755\n",
      "Epoch 82/100\n",
      "6434/6434 [==============================] - 2s 293us/step - loss: 0.4584 - accuracy: 0.7848 - val_loss: 0.4648 - val_accuracy: 0.7817\n",
      "Epoch 83/100\n",
      "6434/6434 [==============================] - 2s 300us/step - loss: 0.4579 - accuracy: 0.7847 - val_loss: 0.4607 - val_accuracy: 0.7812\n",
      "Epoch 84/100\n",
      "6434/6434 [==============================] - 2s 290us/step - loss: 0.4562 - accuracy: 0.7839 - val_loss: 0.4605 - val_accuracy: 0.7798\n",
      "Epoch 85/100\n",
      "6434/6434 [==============================] - 2s 278us/step - loss: 0.4558 - accuracy: 0.7840 - val_loss: 0.4591 - val_accuracy: 0.7828\n",
      "Epoch 86/100\n",
      "6434/6434 [==============================] - 2s 327us/step - loss: 0.4576 - accuracy: 0.7834 - val_loss: 0.4591 - val_accuracy: 0.7819\n",
      "Epoch 87/100\n",
      "6434/6434 [==============================] - 2s 321us/step - loss: 0.4562 - accuracy: 0.7846 - val_loss: 0.4578 - val_accuracy: 0.7836\n",
      "Epoch 88/100\n",
      "6434/6434 [==============================] - 2s 296us/step - loss: 0.4592 - accuracy: 0.7835 - val_loss: 0.4589 - val_accuracy: 0.7806\n",
      "Epoch 89/100\n",
      "6434/6434 [==============================] - 2s 291us/step - loss: 0.4571 - accuracy: 0.7836 - val_loss: 0.4581 - val_accuracy: 0.7817\n",
      "Epoch 90/100\n",
      "6434/6434 [==============================] - 2s 314us/step - loss: 0.4562 - accuracy: 0.7839 - val_loss: 0.4602 - val_accuracy: 0.7817\n",
      "Epoch 91/100\n",
      "6434/6434 [==============================] - 2s 309us/step - loss: 0.4587 - accuracy: 0.7835 - val_loss: 0.4630 - val_accuracy: 0.7800\n",
      "Epoch 92/100\n",
      "6434/6434 [==============================] - ETA: 0s - loss: 0.4561 - accuracy: 0.78 - 2s 300us/step - loss: 0.4562 - accuracy: 0.7842 - val_loss: 0.4597 - val_accuracy: 0.7829\n",
      "Epoch 93/100\n",
      "6434/6434 [==============================] - 2s 327us/step - loss: 0.4553 - accuracy: 0.7846 - val_loss: 0.4575 - val_accuracy: 0.7797\n",
      "Epoch 94/100\n",
      "6434/6434 [==============================] - 2s 327us/step - loss: 0.4557 - accuracy: 0.7840 - val_loss: 0.4654 - val_accuracy: 0.7792\n",
      "Epoch 95/100\n",
      "6434/6434 [==============================] - 2s 287us/step - loss: 0.4562 - accuracy: 0.7834 - val_loss: 0.4573 - val_accuracy: 0.7822\n",
      "Epoch 96/100\n",
      "6434/6434 [==============================] - 2s 270us/step - loss: 0.4544 - accuracy: 0.7837 - val_loss: 0.4608 - val_accuracy: 0.7845\n",
      "Epoch 97/100\n",
      "6434/6434 [==============================] - 2s 237us/step - loss: 0.4549 - accuracy: 0.7833 - val_loss: 0.4614 - val_accuracy: 0.7791\n",
      "Epoch 98/100\n",
      "6434/6434 [==============================] - 2s 235us/step - loss: 0.4551 - accuracy: 0.7847 - val_loss: 0.4609 - val_accuracy: 0.7822\n",
      "Epoch 99/100\n",
      "6434/6434 [==============================] - 2s 236us/step - loss: 0.4545 - accuracy: 0.7840 - val_loss: 0.4601 - val_accuracy: 0.7795\n",
      "Epoch 100/100\n",
      "6434/6434 [==============================] - 2s 236us/step - loss: 0.4578 - accuracy: 0.7854 - val_loss: 0.4609 - val_accuracy: 0.7786\n"
     ]
    },
    {
     "data": {
      "text/plain": [
       "<keras.callbacks.callbacks.History at 0x1124ff48>"
      ]
     },
     "execution_count": 11,
     "metadata": {},
     "output_type": "execute_result"
    }
   ],
   "source": [
    "# แยกข้อมูลเทรนส่วนหนึ่งออกมาเป็น Validation set เพื่อให้ Optimiser ทดสอบความแม่นยำทุกๆ Epoch\n",
    "# batch_size ยิ่งน้อยยิ่งทำงานละเอียด แต่ใช้เวลาประมวลผลนาน\n",
    "model.fit(X_train, y_train, epochs=100, validation_split=0.2, verbose=1) #, batch_size=1)"
   ]
  },
  {
   "cell_type": "code",
   "execution_count": 12,
   "metadata": {},
   "outputs": [
    {
     "name": "stdout",
     "output_type": "stream",
     "text": [
      "25/25 [==============================] - 0s 120us/step\n",
      "Accuracy: 0.850\n"
     ]
    }
   ],
   "source": [
    "results = model.evaluate(X_test, y_test)\n",
    "print('Accuracy: %.3f' % results[1])"
   ]
  },
  {
   "cell_type": "code",
   "execution_count": 13,
   "metadata": {},
   "outputs": [
    {
     "data": {
      "image/png": "[encoded data removed]",
      "text/plain": [
       "<Figure size 648x432 with 1 Axes>"
      ]
     },
     "metadata": {
      "needs_background": "light"
     },
     "output_type": "display_data"
    }
   ],
   "source": [
    "# Review model's progress\n",
    "# เปรียบเทียบข้อมูลจากการเทรนกับข้อมูลจาก Validation set\n",
    "plt.figure(figsize=(9,6))\n",
    "plt.plot(model.history.history['accuracy'], label='Train accuracy')\n",
    "plt.plot(model.history.history['val_accuracy'], label='Validation accuracy')\n",
    "plt.ylabel('Value')\n",
    "plt.xlabel('No. epoch')\n",
    "plt.legend()\n",
    "plt.show()"
   ]
  },
  {
   "cell_type": "code",
   "execution_count": 14,
   "metadata": {},
   "outputs": [
    {
     "name": "stdout",
     "output_type": "stream",
     "text": [
      "Loss is 0.34778228402137756\n",
      "Accuracy score is 0.8500000238418579\n"
     ]
    }
   ],
   "source": [
    "# Evaluate model's accuracy\n",
    "# ทดสอบความแม่นยำของโมเดล กับ Test set ซึ่งแยกไว้ตั้งแต่แรกอีกที\n",
    "# ทดสอบโมเดลที่ปรับแต่งเสร็จแล้ว กับ Test set อีกที เพื่อให้ได้ผลที่เที่ยงธรรม\n",
    "score = model.evaluate(X_test, y_test, verbose=0)\n",
    "print(\"Loss is\", score[0])\n",
    "print(\"Accuracy score is\", score[1])"
   ]
  },
  {
   "cell_type": "code",
   "execution_count": 15,
   "metadata": {},
   "outputs": [],
   "source": [
    "# ใช้ dropout regularization\n",
    "#from tensorflow.keras.layers import Dropout"
   ]
  },
  {
   "cell_type": "code",
   "execution_count": 16,
   "metadata": {},
   "outputs": [],
   "source": [
    "#model = Sequential()\n",
    "\n",
    "#Ns = (1-test_size)*number of samples = (1-0.3)8068\n",
    "#Nh = Ns / ( alfa( Ni + No ) ) # alfa=2 ; (1-0.3)8068 / 2(4+4) = 352.975 = 353\n",
    "# alfa   Acc(0-1)    Nh\n",
    "# 10     0.784       71    \n",
    "# 9      0.783       79\n",
    "# 8      0.784       89\n",
    "# 7      0.787      101\n",
    "# 6      0.785      118\n",
    "# 5      0.786      142\n",
    "# 4      0.783      177\n",
    "# 3      0.785      236\n",
    "# 2      0.784      353\n",
    "\n",
    "# number of hidden layer = 4  \n",
    "\n",
    "# สร้าง hidden layer ที่ 1 ประกอบด้วย 100 โหนด ซึ่งเชื่อมต่อกับ Input layer ประกอบด้วย 4 โหนด \n",
    "# เเละเลือกใช้ ReLu เป็น activation function\n",
    "#model.Dropout=0.75\n",
    "#model.add(Dense(100, input_dim=4, activation='relu'))\n",
    "\n",
    "# สร้าง hidden layer ที่ 2 ประกอบด้วย 100 โหนด ซึ่งเชื่อมต่อกับ hidden layer ที่ 1 ประกอบด้วย 100 โหนด \n",
    "# เเละเลือกใช้ ReLu เป็น activation function \n",
    "model.add(Dense(100, input_dim=100, activation='relu'))#,Dropout(0.3)\n",
    "\n",
    "# สร้าง hidden layer ที่ 3 ประกอบด้วย 100 โหนด ซึ่งเชื่อมต่อกับ hidden layer ที่ 2 ประกอบด้วย 100 โหนด \n",
    "# เเละเลือกใช้ ReLu เป็น activation function\n",
    "#model.add(Dense(100, input_dim=100, activation='relu'))#,Dropout(0.3)\n",
    "\n",
    "# สร้าง hidden layer ที่ 4 ประกอบด้วย 100โหนด ซึ่งเชื่อมต่อกับ hidden layer ที่ 3 ประกอบด้วย 100 โหนด \n",
    "# เเละเลือกใช้ ReLu เป็น activation function\n",
    "#model.add(Dense(100, input_dim=100, activation='relu'))#,Dropout(0.3)\n",
    "\n",
    "# สร้าง output layer ประกอบด้วย 4 โหนด ซึ่งเชื่อมต่อกับ hidden layer ที่ 4 ประกอบด้วย 100 โหนด \n",
    "# เเละเลือกใช้ sigmoid เป็น activation function \n",
    "#model.add(Dense(4, activation='sigmoid'))"
   ]
  },
  {
   "cell_type": "code",
   "execution_count": 22,
   "metadata": {},
   "outputs": [],
   "source": [
    "# กำหนดให้ optimizer ใช้ method adam ในการปรับปรุงค่าด้วย learning rate = 1-0.000001\n",
    "# optimizer = Adam(learning_rate=0.0001)\n",
    "#model.compile(loss='binary_crossentropy', # เปลี่ยนจาก loss='mean_squared_error' เป็น loss='binary_crossentropy'\n",
    "#             optimizer='adam',\n",
    "#            metrics=['accuracy'])"
   ]
  },
  {
   "cell_type": "code",
   "execution_count": 23,
   "metadata": {},
   "outputs": [],
   "source": [
    "#model.fit(X_train, y_train, epochs=100, validation_split=0.2, verbose=1)"
   ]
  },
  {
   "cell_type": "code",
   "execution_count": 24,
   "metadata": {},
   "outputs": [],
   "source": [
    "#results = model.evaluate(X_test, y_test)\n",
    "#print('Accuracy: %.3f' % results[1])"
   ]
  },
  {
   "cell_type": "code",
   "execution_count": 25,
   "metadata": {},
   "outputs": [],
   "source": [
    "# Review model's progress\n",
    "#plt.figure(figsize=(9,6))\n",
    "#plt.plot(model.history.history['accuracy'], label='Train accuracy')\n",
    "#plt.plot(model.history.history['val_accuracy'], label='Validation accuracy')\n",
    "#plt.ylabel('Value')\n",
    "#plt.xlabel('No. epoch')\n",
    "#plt.legend()\n",
    "#plt.show()"
   ]
  },
  {
   "cell_type": "code",
   "execution_count": 26,
   "metadata": {},
   "outputs": [],
   "source": [
    "# Evaluate model's accuracy\n",
    "#score = model.evaluate(X_test, y_test, verbose=0)\n",
    "#print(\"Loss is\", score[0])\n",
    "#print(\"Accuracy score is\", score[1])"
   ]
  }
 ],
 "metadata": {
  "kernelspec": {
   "display_name": "Python 3",
   "language": "python",
   "name": "python3"
  },
  "language_info": {
   "codemirror_mode": {
    "name": "ipython",
    "version": 3
   },
   "file_extension": ".py",
   "mimetype": "text/x-python",
   "name": "python",
   "nbconvert_exporter": "python",
   "pygments_lexer": "ipython3",
   "version": "3.7.6"
  }
 },
 "nbformat": 4,
 "nbformat_minor": 4
}
